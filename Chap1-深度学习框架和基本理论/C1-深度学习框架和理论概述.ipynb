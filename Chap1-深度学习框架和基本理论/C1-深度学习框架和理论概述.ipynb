{
 "cells": [
  {
   "attachments": {},
   "cell_type": "markdown",
   "metadata": {},
   "source": [
    "# **Chap1：深度学习框架和理论概述**"
   ]
  },
  {
   "cell_type": "code",
   "execution_count": 1,
   "metadata": {},
   "outputs": [
    {
     "name": "stderr",
     "output_type": "stream",
     "text": [
      "2023-07-06 22:28:53.540948: I tensorflow/core/platform/cpu_feature_guard.cc:193] This TensorFlow binary is optimized with oneAPI Deep Neural Network Library (oneDNN) to use the following CPU instructions in performance-critical operations:  AVX2 AVX512F AVX512_VNNI FMA\n",
      "To enable them in other operations, rebuild TensorFlow with the appropriate compiler flags.\n",
      "2023-07-06 22:28:53.675521: I tensorflow/core/util/util.cc:169] oneDNN custom operations are on. You may see slightly different numerical results due to floating-point round-off errors from different computation orders. To turn them off, set the environment variable `TF_ENABLE_ONEDNN_OPTS=0`.\n",
      "2023-07-06 22:28:53.707895: E tensorflow/stream_executor/cuda/cuda_blas.cc:2981] Unable to register cuBLAS factory: Attempting to register factory for plugin cuBLAS when one has already been registered\n",
      "2023-07-06 22:28:54.425532: W tensorflow/stream_executor/platform/default/dso_loader.cc:64] Could not load dynamic library 'libnvinfer.so.7'; dlerror: libnvinfer.so.7: cannot open shared object file: No such file or directory; LD_LIBRARY_PATH: :/home/chenguangze/software/miniconda3/lib/:/home/chenguangze/software/miniconda3/lib/:/home/chenguangze/software/miniconda3/envs/tensorflow/lib/\n",
      "2023-07-06 22:28:54.425609: W tensorflow/stream_executor/platform/default/dso_loader.cc:64] Could not load dynamic library 'libnvinfer_plugin.so.7'; dlerror: libnvinfer_plugin.so.7: cannot open shared object file: No such file or directory; LD_LIBRARY_PATH: :/home/chenguangze/software/miniconda3/lib/:/home/chenguangze/software/miniconda3/lib/:/home/chenguangze/software/miniconda3/envs/tensorflow/lib/\n",
      "2023-07-06 22:28:54.425616: W tensorflow/compiler/tf2tensorrt/utils/py_utils.cc:38] TF-TRT Warning: Cannot dlopen some TensorRT libraries. If you would like to use Nvidia GPU with TensorRT, please make sure the missing libraries mentioned above are installed properly.\n"
     ]
    }
   ],
   "source": [
    "import tensorflow as tf\n",
    "from tensorflow import keras\n",
    "import numpy as np\n",
    "from matplotlib import pyplot as plt\n",
    "from source.code import ch1\n",
    "from source.code import utils"
   ]
  },
  {
   "cell_type": "code",
   "execution_count": 2,
   "metadata": {},
   "outputs": [],
   "source": [
    "# 如果你要在服务器上和别人共用GPU，可以设置你需要的显存资源\n",
    "utils.gpu_limitation_config(memory=12)"
   ]
  },
  {
   "attachments": {},
   "cell_type": "markdown",
   "metadata": {},
   "source": [
    "## **1 神经网络和深度学习**"
   ]
  },
  {
   "attachments": {},
   "cell_type": "markdown",
   "metadata": {},
   "source": [
    "### **1.1 第一次寒冬**"
   ]
  },
  {
   "attachments": {},
   "cell_type": "markdown",
   "metadata": {},
   "source": [
    "一个机器学习算法的能力很大程度上取决于**它的非线性学习能力**，决策树类模型相比线性模型拥有更强的非线性归纳能力，因此成为了目前统计学习的主流算法之一，**感知机**（**Inceptron**）作为神经网络的前身，回顾其决策函数 $f(x)$ 的形式："
   ]
  },
  {
   "attachments": {},
   "cell_type": "markdown",
   "metadata": {},
   "source": [
    "$$\n",
    "f(x) = w^Tx + b,\\quad x,w\\in\\mathbb{R}^p,b\\in\\mathbb{R}\n",
    "$$"
   ]
  },
  {
   "attachments": {},
   "cell_type": "markdown",
   "metadata": {},
   "source": [
    "感知机是一个**线性模型**，它**没有任何的非线性拟合能力**. 感知机刚被提出时，还是受到了很多机器学习研究者的关注，并在实践中取得了不错的效果，并基于此设计了一类统计性质更好的模型，即**支持向量机**（**SVM**）. "
   ]
  },
  {
   "attachments": {},
   "cell_type": "markdown",
   "metadata": {},
   "source": [
    "但人们很快意识到，感知机在理论上有一个致命的弱点，即对于最基本的，**只包含四个样本的异或问题**(**XOR**)，感知机无法拟合"
   ]
  },
  {
   "attachments": {},
   "cell_type": "markdown",
   "metadata": {},
   "source": [
    "$$\n",
    "y = x_1\\text{ XOR } x_2 =  \\left\\{\n",
    "\\begin{array}{ll}\n",
    "0, & x_1 = 0, x_2 = 0,\\\\\n",
    "1, & x_1 = 1, x_2 = 0,\\\\\n",
    "1, & x_1 = 0, x_2 = 1,\\\\\n",
    "0, & x_1 = 1, x_2 = 1.\\\\\n",
    "\\end{array}\n",
    "\\right.\n",
    "$$"
   ]
  },
  {
   "attachments": {},
   "cell_type": "markdown",
   "metadata": {},
   "source": [
    "**XOR**样本如下图所示，从感知机的角度思考，我们**无法找到一条直线，将两类样本分隔开**"
   ]
  },
  {
   "attachments": {},
   "cell_type": "markdown",
   "metadata": {},
   "source": [
    "<img src=\"../source/Chap1/XOR.png\" width=500>"
   ]
  },
  {
   "attachments": {},
   "cell_type": "markdown",
   "metadata": {},
   "source": [
    "**XOR问题的提出暴露了感知机对于非线性问题的致命弱点**，学者和工程人员很快对此类算法失去兴趣，连如此简单的XOR问题都无法拟合，更何谈真实生活中存在的各种复杂的，非线性性质更强的其他问题，从深度学习的发展历史来看，这可以视为**第一次寒冬**"
   ]
  },
  {
   "attachments": {},
   "cell_type": "markdown",
   "metadata": {},
   "source": [
    "SVM虽然发展自感知机，但后面统计上**核函数的引入使SVM具备了非线性拟合能力**，因此在接下来的一段时间里，SVM成为了统计学习领域的明星，它优秀的统计学性质和强大的非线性学习能力在机器学习领域一直备受青睐，直到现在在大部分机器学习任务中也有很好的表现"
   ]
  },
  {
   "attachments": {},
   "cell_type": "markdown",
   "metadata": {},
   "source": [
    "### **1.2 激活函数和神经元**"
   ]
  },
  {
   "attachments": {},
   "cell_type": "markdown",
   "metadata": {},
   "source": [
    "后来人们发现，可以在感知机的基础上，人为**引入一次非线性变换** $\\sigma$，最终得到的决策函数 $f$ 就具有了非线性拟合能力："
   ]
  },
  {
   "attachments": {},
   "cell_type": "markdown",
   "metadata": {},
   "source": [
    "$$\n",
    "z = \\sigma{(w_1^T x + b_1)},\\quad x\\in\\mathbb{R}^p,w_1\\in\\mathbb{R}^{p\\times q},b_1\\in\\mathbb{R}^q\\\\\n",
    "f(x) = w_2^Tz + b_2,\\quad z\\in\\mathbb{R}^q,w_2\\in\\mathbb{R}^{q},b_2\\in\\mathbb{R}\n",
    "$$"
   ]
  },
  {
   "attachments": {},
   "cell_type": "markdown",
   "metadata": {},
   "source": [
    "其中，$\\sigma:\\mathbb{R}\\to\\mathbb{R}$ 为非线性映射，最初人们选择的非线性映射是**Sigmoid**变换："
   ]
  },
  {
   "attachments": {},
   "cell_type": "markdown",
   "metadata": {},
   "source": [
    "$$\n",
    "\\sigma(x) = \\frac{1}{1 + e^{-x}} \\in (0,1)\n",
    "$$"
   ]
  },
  {
   "attachments": {},
   "cell_type": "markdown",
   "metadata": {},
   "source": [
    "Sigmoid函数如下图所示："
   ]
  },
  {
   "cell_type": "code",
   "execution_count": 5,
   "metadata": {},
   "outputs": [
    {
     "data": {
      "text/plain": [
       "Text(0.5, 1.0, 'The Sigmoid Function')"
      ]
     },
     "execution_count": 5,
     "metadata": {},
     "output_type": "execute_result"
    },
    {
     "name": "stderr",
     "output_type": "stream",
     "text": [
      "findfont: Font family ['cmsy10'] not found. Falling back to DejaVu Sans.\n",
      "findfont: Font family ['cmr10'] not found. Falling back to DejaVu Sans.\n",
      "findfont: Font family ['cmtt10'] not found. Falling back to DejaVu Sans.\n",
      "findfont: Font family ['cmmi10'] not found. Falling back to DejaVu Sans.\n",
      "findfont: Font family ['cmb10'] not found. Falling back to DejaVu Sans.\n",
      "findfont: Font family ['cmss10'] not found. Falling back to DejaVu Sans.\n",
      "findfont: Font family ['cmex10'] not found. Falling back to DejaVu Sans.\n"
     ]
    },
    {
     "data": {
      "image/png": "[encoded data removed]",
      "text/plain": [
       "<Figure size 400x300 with 1 Axes>"
      ]
     },
     "metadata": {},
     "output_type": "display_data"
    }
   ],
   "source": [
    "x = np.linspace(-10,10,100)\n",
    "y = 1 / (1 + np.exp(-x))\n",
    "fig = plt.figure(figsize=(4,3))\n",
    "plt.plot(x,y,color=\"blue\")\n",
    "plt.xlabel(\"$x$\")\n",
    "plt.ylabel(\"$\\sigma(x)$\")\n",
    "plt.title(\"The Sigmoid Function\")"
   ]
  },
  {
   "attachments": {},
   "cell_type": "markdown",
   "metadata": {},
   "source": [
    "Sigmoid函数在 $x$ 较大时，整个函数值趋于1，在 $x$ 较小时，函数值趋于0，基于这种特性考虑如下场景，对于 $z\\in\\mathbb{R}^q$ 的某个分量 $z_i$，它会根据 $x,w_1$ 的变换改变其状态，我们用 $w_{1,.,i}$ 表示 $w_1\\in\\mathbb{R}^{p\\times q}$ 的第 $i$ 列，则：\n",
    "$$\n",
    "z_i = \\sigma(w_{1,.,i}^Tx + b_i)\n",
    "$$"
   ]
  },
  {
   "attachments": {},
   "cell_type": "markdown",
   "metadata": {},
   "source": [
    "* 如果 $w_{1,.,i}^Tx + b_i < -5$，则此时 $z_i \\to 0$，在最终决策函数 $f(x)$ 中，$w_{2,i}z_i \\to 0$，$z_i$ 对预测的贡献很小，$z_i$ 就像**被抑制了**\n",
    "* 如果 $w_{1,.,i}^Tx + b_i > 5$，则此时 $z_i \\to 1$，在最终决策函数 $f(x)$ 中，$w_{2,i}z_i \\to w_{2,i}$，$z_i$ 对预测的贡献得以体现，$z_i$ 就像**被激活了**"
   ]
  },
  {
   "attachments": {},
   "cell_type": "markdown",
   "metadata": {},
   "source": [
    "人们根据上述计算过程，给非线性映射 $\\sigma$ 取了个形象的名字：**激活函数**（**Activation Function**）"
   ]
  },
  {
   "attachments": {},
   "cell_type": "markdown",
   "metadata": {},
   "source": [
    "决策函数 $f(x)$ 的计算过程如下图所示："
   ]
  },
  {
   "attachments": {},
   "cell_type": "markdown",
   "metadata": {},
   "source": [
    "<img src=\"../source/Chap1/神经网络示意图.png\" width=500>"
   ]
  },
  {
   "attachments": {},
   "cell_type": "markdown",
   "metadata": {},
   "source": [
    "通常，对于如上结构，我们从左到右分别称为**输入层**，**隐藏层**和**输出层**\n",
    "* 输入层：特征 $x$ 构成模型的输入\n",
    "* 隐藏层：经过一次线性变换和一次非线性映射 $\\sigma$ 后得到的向量 $z\\in\\mathbb{R}^q$ 称为隐藏层\n",
    "* 输出层：隐藏层经过一次线性变换得到决策函数的输出 $f(x)$"
   ]
  },
  {
   "attachments": {},
   "cell_type": "markdown",
   "metadata": {},
   "source": [
    "人们类比神经科学中的概念和性质，对以上结构进行形象解释：\n",
    "* 每一个 $z_i\\in (0,1)$ 就**像一个神经细胞**，可以接受外界刺激（接受 $x$），处于**兴奋**或**抑制**两种状态，因此被称为**神经元**\n",
    "* $x\\to z\\to f$ 之间的线性变换参数 $w_1,w_2$ 就**像连接神经元的突触**，用于“**传导信号**”\n",
    "* **神经元**（包含输入单元，隐藏单元）和**突触**（即模型的参数）共同**构成一个复杂的决策网络**，人们将其称为**神经网络**（**Neural Network**）"
   ]
  },
  {
   "attachments": {},
   "cell_type": "markdown",
   "metadata": {},
   "source": [
    "注意，虽然人们将这种模型称为**人工神经网络**（**Artificial Neural Network**，简称**ANN**），并赋予了相应的神经科学解释，但ANN的设计并没有明确信息表明启发于神经科学"
   ]
  },
  {
   "attachments": {},
   "cell_type": "markdown",
   "metadata": {},
   "source": [
    "结构，参数和激活函数是ANN的最基本单元，后续我们讨论和学习ANN模型，最核心的就是需要明白：\n",
    "* **模型的计算结构是什么样子**\n",
    "* **模型包含哪些参数**"
   ]
  },
  {
   "attachments": {},
   "cell_type": "markdown",
   "metadata": {},
   "source": [
    "在层与层的连接中，通常会使用映射 $w^Tz+b$，其中，两种参数 $w,b$ 分别称为**权重**（**weights**）和**偏置**（**bias**）"
   ]
  },
  {
   "attachments": {},
   "cell_type": "markdown",
   "metadata": {},
   "source": [
    "最后，ANN从被设计出来，其展现出强大潜力的一个原因在于它的**通用近似能力**，Pinkus证明了，如上介绍的单隐藏层神经网络可以一致地逼近任意函数"
   ]
  },
  {
   "attachments": {},
   "cell_type": "markdown",
   "metadata": {},
   "source": [
    "**(Thm) ANN通用近似定理**：简单来说，对任意函数 $f:\\mathbb{R}^p\\to \\mathbb{R}$，任意紧集 $K\\sub\\mathbb{R}^p $ 和任意 $\\varepsilon > 0$，激活函数 $\\sigma$ 不是多项式函数，则只要 $q$ 充分大，在ANN张成的函数空间 $\\mathcal{S}$ 中，存在 $g\\in\\mathcal{S}$，使得：\n",
    "$$\n",
    "|f(x) - g(x)| <\\varepsilon, \\quad \\forall x\\in K\n",
    "$$"
   ]
  },
  {
   "attachments": {},
   "cell_type": "markdown",
   "metadata": {},
   "source": [
    "上述定理表明，对于**任何困难的非线性函数关系** $f$，**即使使用上述最简单的神经网络结构**，**只要隐藏神经元足够多**，**并且能找到正确的参数**，**我们就能逼近** $f$ **到任意精度**，通用近似定理非常吸引人"
   ]
  },
  {
   "attachments": {},
   "cell_type": "markdown",
   "metadata": {},
   "source": [
    "然而，理想很丰满，现实很骨感. 实际操作中，人们发现并不是简单增加 $q$ 就能打遍天下无敌手。ANN还需要针对不同问题，设计不同的模型架构，以最大化发挥神经网络的潜力，提升模型的性能，而**设计ANN结构就成为了神经网络，乃至后续深度学习最重要，最困难的一部分**"
   ]
  },
  {
   "attachments": {},
   "cell_type": "markdown",
   "metadata": {},
   "source": [
    "### **1.3 第二次寒冬和深度学习**"
   ]
  },
  {
   "attachments": {},
   "cell_type": "markdown",
   "metadata": {},
   "source": [
    "然而，在实际模型设计过程中，人们发现单纯增加隐藏神经元的个数（即增大 $q$）并不能取得明显提升，相反，**增加隐藏层的数目似乎对模型拟合能力的提升更明显**，即我们**需要一个更深的网络，而不是更宽的网络**. 这就是下图所示的**多层感知机**（**MultiLayer Perceptron**，简称**MLP**）"
   ]
  },
  {
   "attachments": {},
   "cell_type": "markdown",
   "metadata": {},
   "source": [
    "<img src=\"../source/Chap1/MLP.png\" width=800>"
   ]
  },
  {
   "attachments": {},
   "cell_type": "markdown",
   "metadata": {},
   "source": [
    "上图展示了**包含3个隐藏层的MLP**，对于MLP做一下补充说明：\n",
    "* 由于相邻两层神经元彼此之间都通过某一个权重相连接，**MLP又称为全连接网络**（**Fully Connected Network**，简称**FCN**）\n",
    "* 每一个隐藏层都必须施加某种激活函数 $\\sigma$，**否则增加隐藏层数目，即增加深度是无意义的**，\n",
    "  * 考虑一个两层网络，**不使用激活函数，忽略偏置项**，则：\n",
    "    $$\n",
    "    z = w_1^T x,\\quad f = w_2^Tz,\\quad f = w_2^T(w_1^T x) = (w_2^Tw_1^T) x\n",
    "    $$\n",
    "    上述从输入 $x$ 到输出 $f$ 的变换，等价于只使用一层线性变换 $w_3^T = w_2^Tw_1^T$ 实现：\n",
    "    $$\n",
    "    f = w_3^Tx\n",
    "    $$\n",
    "    因此，在不使用非线性激活函数时，**任意层数的叠加也可以简单地表示为一层线性变换，模型的非线性学习能力没有提升**"
   ]
  },
  {
   "attachments": {},
   "cell_type": "markdown",
   "metadata": {},
   "source": [
    "**MLP的提出并没有就引出深度学习的概念**，就当时而言，**MLP大多也就使用3层左右隐藏层**，模型的拟合能力就接近饱和，继续增加层数也没有在各种任务中有新的突破"
   ]
  },
  {
   "attachments": {},
   "cell_type": "markdown",
   "metadata": {},
   "source": [
    "在21世纪初，机器学习进入了“**第二次寒冬**”，在这一段时间内人们面对的主要阻碍有：\n",
    "* 模型在简单数据集上的表现已经接近饱和（例如手写数字识别数据集MNIST），但**在一些困难任务上没有突破性进展**，例如复杂图像分类（ImageNet数据集）\n",
    "* 互联网技术正在处于快速发展阶段，**各种非结构化的数据（图片、文本、音视频、网络）的生产和采集，相比现在而言不太便利**，而**模型需要依靠数据驱动**\n",
    "* **以GPU为代表的高性能计算技术也处于发展的萌芽阶段**，即使拥有海量数据和天马行空的模型设计，**计算硬件可能也吃不消**"
   ]
  },
  {
   "attachments": {},
   "cell_type": "markdown",
   "metadata": {},
   "source": [
    "真正将深度学习引爆，并确定深度学习这个概念的，有两个典型事件：\n",
    "* 2012年，Hinton（深度学习奠基人之一）和他的学生Alex Krizhevsky设计一个**图像分类神经网络模型AlexNet**，取得当年ImageNet图像分类竞赛冠军，并远超其他模型. **AlexNet模型共包含8层，拥有约6000w个可学习参数**，这个参数规模在当时对于其它机器学习模型是难以想象的，AlexNet的两个贡献在于\n",
    "  * 引入了一系列深度学习**模型训练技巧**（**Tricks**），这些技巧很多沿用至今或经过改进，人们发现这些技巧对于成功训练一个深度模型非常重要\n",
    "  * 首次提出新的神经网络模型结构，即卷积神经网络（**Convolution Neural Network**，简称**CNN**）\n",
    "* 2016年，由Google的DeepMind公司开发的智能模型AlphaGo击败李世石，随后，该程序在中国棋类网站上以Master为注册账号与中日韩数十位围棋高手进行快棋对决，连续60局无一败绩，**AlphaGo背后的技术是结合强化学习的神经网络**，其展现出的非凡能力再次吸引众多学者开始研究神经网络模型"
   ]
  },
  {
   "attachments": {},
   "cell_type": "markdown",
   "metadata": {},
   "source": [
    "自AlexNet开始，神经网络模型**在各种非结构化数据任务上展现惊人的能力**，包含计算机视觉（图像分类，语义分割，目标检测，图像生成），自然语言处理（机器翻译，多轮对话QA），这些极其困难的非线性任务是其他任何机器学习算法都无法应对的，并且神经网络拥有高度统一的整体架构，使得它扩展性强，学习成本相对较小. 同时，模型的”深度“”或者说“复杂度”也以指数速度上升，参数的规模从最初的几百万到现在的上千亿，神经网络真正成为了“深度学习模型”"
   ]
  },
  {
   "attachments": {},
   "cell_type": "markdown",
   "metadata": {},
   "source": [
    "----"
   ]
  },
  {
   "attachments": {},
   "cell_type": "markdown",
   "metadata": {},
   "source": [
    "## **2 机器学习三要素**"
   ]
  },
  {
   "attachments": {},
   "cell_type": "markdown",
   "metadata": {},
   "source": [
    "ANN也算是机器学习模型的一种，因此ANN自然也有机器学习三要素：**模型**，**策略**和**算法**"
   ]
  },
  {
   "attachments": {},
   "cell_type": "markdown",
   "metadata": {},
   "source": [
    "我们以一个最简单的回归问题为例，说明ANN的机器学习三要素"
   ]
  },
  {
   "cell_type": "code",
   "execution_count": 6,
   "metadata": {},
   "outputs": [],
   "source": [
    "N = 200 # 样本量\n",
    "x = np.random.uniform(low=-2,high=2,size=N)\n",
    "x = np.sort(x)\n",
    "noise = np.random.randn(N) * 0.3 # 高斯噪声\n",
    "y = np.sin(2*x) * np.exp(-x/2) + noise # 带有噪声的标签\n",
    "func = np.sin(2*x) * np.exp(-x/2) # 真实函数\n",
    "\n",
    "# 调整形状\n",
    "x = x.reshape((-1,1))\n",
    "y = y.reshape((-1,1))\n",
    "func = func.reshape((-1,1))"
   ]
  },
  {
   "cell_type": "code",
   "execution_count": 7,
   "metadata": {},
   "outputs": [
    {
     "data": {
      "text/plain": [
       "<matplotlib.legend.Legend at 0x2c718a76580>"
      ]
     },
     "execution_count": 7,
     "metadata": {},
     "output_type": "execute_result"
    },
    {
     "data": {
      "image/png": "[encoded data removed]",
      "text/plain": [
       "<Figure size 800x400 with 1 Axes>"
      ]
     },
     "metadata": {},
     "output_type": "display_data"
    }
   ],
   "source": [
    "fig = plt.figure(figsize=(8,4))\n",
    "plt.scatter(x,y,color=\"royalblue\",alpha=0.4,label=\"Samples\")\n",
    "plt.plot(x,func,color=\"orange\",label=\"True Function\")\n",
    "plt.xlabel(\"$x$\")\n",
    "plt.ylabel(\"$y$\")\n",
    "plt.legend()"
   ]
  },
  {
   "attachments": {},
   "cell_type": "markdown",
   "metadata": {},
   "source": [
    "### **2.1 ANN模型**"
   ]
  },
  {
   "attachments": {},
   "cell_type": "markdown",
   "metadata": {},
   "source": [
    "在ANN模型的部分，我们需要关注两个部分，**前向计算图**和**模型参数**：\n",
    "* 神经网络的结构是什么样子？当给定输入 $x$ 后，要经过怎样的计算逻辑得到输出 $f(x)$，模型的计算过程通常又称为**前向计算图**\n",
    "* 模型包含了哪些参数？这些参数中，**哪些是可训练的**（**trainalbe**）"
   ]
  },
  {
   "attachments": {},
   "cell_type": "markdown",
   "metadata": {},
   "source": [
    "我们定义一个单隐藏层神经网络，隐藏神经元个数为 `hidden_size` 可以控制，整个模型定义为一个类`class`，类的属性需要保存模型的参数信息"
   ]
  },
  {
   "attachments": {},
   "cell_type": "markdown",
   "metadata": {},
   "source": [
    "对于输入 $X\\in \\mathbb{R}^{N\\times p}$ 和对应输出 $Y\\in \\mathbb{R}^{N\\times o}$，$N$ 表示样本量，模型的前向计算图为：\n",
    "$$\n",
    "Y = f(X) = \\left[ \\sigma(Xw_1 + b_1)\\right]w_2 + b_2,\\quad w_1\\in\\mathbb{R}^{p\\times q},w_2\\in\\mathbb{R}^{q\\times o},b_1\\in\\mathbb{R}^q,b_2\\in\\mathbb{R}^o\n",
    "$$"
   ]
  },
  {
   "cell_type": "code",
   "execution_count": 8,
   "metadata": {},
   "outputs": [],
   "source": [
    "# 定义激活函数\n",
    "def sigmoid(x : np.ndarray):\n",
    "    return 1 / (1 + np.exp(-x))"
   ]
  },
  {
   "cell_type": "code",
   "execution_count": 9,
   "metadata": {},
   "outputs": [],
   "source": [
    "class ANN:\n",
    "    def __init__(self, input_dims : int=1, output_dims : int=1, hidden_size : int=8) -> None:\n",
    "        self.input_dims = input_dims\n",
    "        self.output_dims = output_dims\n",
    "        self.hidden_size = hidden_size\n",
    "        \n",
    "        # 第一层模型参数\n",
    "        self.w1 = np.random.randn(input_dims,hidden_size)\n",
    "        self.b1 = np.random.randn(hidden_size)\n",
    "\n",
    "        # 第二层模型参数\n",
    "        self.w2 = np.random.randn(hidden_size,output_dims)\n",
    "        self.b2 = np.random.randn(output_dims)\n",
    "\n",
    "    # 定义模型的结构，即前向计算图\n",
    "    def __call__(self, X : np.ndarray, return_layer : bool=False) -> np.ndarray:\n",
    "        # 如果 x 只有一个维度 (N,)，则为其添加一个维度变为 (N,1)\n",
    "        try:\n",
    "            assert X.ndim == 2\n",
    "        except:\n",
    "            X = X.reshape((-1,1)) # 添加一个维度\n",
    "        \n",
    "        # X 的形状为：(N, input_dims)\n",
    "        h = X @ self.w1 + self.b1\n",
    "        z = sigmoid(h) # 形状 (N, hidden_size)\n",
    "        y = z @ self.w2 + self.b2 # 形状 (N, output_dims)\n",
    "        if return_layer:\n",
    "            return h, z, y\n",
    "        else:\n",
    "            return y"
   ]
  },
  {
   "attachments": {},
   "cell_type": "markdown",
   "metadata": {},
   "source": [
    "在我们的例子中，输入维度`input_dims = 1`，输出维度`output_dims = 1`，假设隐藏神经元使用8个，创建模型，测试神经网络的输出结果"
   ]
  },
  {
   "cell_type": "code",
   "execution_count": 10,
   "metadata": {},
   "outputs": [
    {
     "name": "stdout",
     "output_type": "stream",
     "text": [
      "[[-1.54339717]\n",
      " [-1.54205623]\n",
      " [-1.53681169]\n",
      " [-1.53609409]\n",
      " [-1.53329438]]\n"
     ]
    }
   ],
   "source": [
    "# 创建模型\n",
    "model = ANN(hidden_size=8)\n",
    "# 测试模型输出\n",
    "output = model(X=x[0:5])\n",
    "print(output)"
   ]
  },
  {
   "attachments": {},
   "cell_type": "markdown",
   "metadata": {},
   "source": [
    "### **2.2 ANN策略**"
   ]
  },
  {
   "attachments": {},
   "cell_type": "markdown",
   "metadata": {},
   "source": [
    "**策略对应模型所使用的损失函数**，用于**指导模型确定其包含的参数**，$\\Theta$ 表示ANN模型 $f$ 包含的所有可训练参数，即 $f(x) = f(x;\\Theta)$，不同的任务，不同的场景，ANN所使用的损失函数不同，但为了使ANN能够优化，一般来说，**损失函数至少几乎处处一阶可导**\n",
    "* 回归任务常用的损失函数是**平方损失**：\n",
    "    $$\n",
    "    \\ell(\\Theta) = \\frac{1}{N} \\sum_{i=1}^{N} \\left[ y_i - f(x_i;\\Theta)\\right]^2\n",
    "    $$\n",
    "* 分类任务常用的损失函数是**交叉熵损失函数**：\n",
    "    $$\n",
    "    \\ell(\\Theta) = -\\frac{1}{N} \\sum_{i=1}^{N} \\sum_{k=1}^{K} { \\mathbb{I}(y_i = k)\\cdot \\log[f_k(x_i;\\Theta)] }\n",
    "    $$\n",
    "    其中，$K$ 表示类别数量，$f_k(x_i)$ **是模型输出对第** $k$ **类的概率建模**"
   ]
  },
  {
   "attachments": {},
   "cell_type": "markdown",
   "metadata": {},
   "source": [
    "**注意**：**以上损失函数都可以看作特定分布假设下的负对数似然函数**"
   ]
  },
  {
   "attachments": {},
   "cell_type": "markdown",
   "metadata": {},
   "source": [
    "通常来说，**确定损失函数后，ANN的策略即求解损失函数** $\\ell(\\Theta)$ **关于参数** $\\Theta$ **的极小值点**："
   ]
  },
  {
   "attachments": {},
   "cell_type": "markdown",
   "metadata": {},
   "source": [
    "$$\n",
    "\\Theta^* = \\mathop{\\arg\\min}\\limits_{\\Theta} \\ell(\\Theta)\n",
    "$$"
   ]
  },
  {
   "attachments": {},
   "cell_type": "markdown",
   "metadata": {},
   "source": [
    "### **2.3 ANN算法**"
   ]
  },
  {
   "attachments": {},
   "cell_type": "markdown",
   "metadata": {},
   "source": [
    "**ANN统一使用梯度下降类方法**作为优化算法来求解关于参数 $\\Theta$ 的极小化问题，这类算法经过多年的发展有几种成熟的变种，主要包含：\n",
    "* **随机梯度下降SGD** 或 **批量随机梯度下降BSGD**\n",
    "* RSMprop\n",
    "* **自适应动量法Adam**"
   ]
  },
  {
   "attachments": {},
   "cell_type": "markdown",
   "metadata": {},
   "source": [
    "优化算法会在后面的专题中介绍，这里我们简单介绍梯度下降和随机梯度下降SGD"
   ]
  },
  {
   "attachments": {},
   "cell_type": "markdown",
   "metadata": {},
   "source": [
    "如果使用梯度下降法更新模型参数，则迭代步骤为：\n",
    "$$\n",
    "\\Theta_{k+1} = \\Theta_k - \\eta\\cdot \\frac{\\partial \\ell}{\\partial \\Theta} = \\Theta_k - \\eta\\cdot \\frac{\\partial }{\\partial \\Theta}\\left( \\frac{1}{N} \\sum_{i=1}^{N} L(y_i,f(x_i;\\Theta)) \\right) = \\Theta_k - \\eta\\cdot \\frac{\\partial }{\\partial \\Theta}\\left( \\frac{1}{N} \\sum_{i=1}^{N} [y_i - f(x_i;\\Theta)]^2 \\right)\n",
    "$$"
   ]
  },
  {
   "attachments": {},
   "cell_type": "markdown",
   "metadata": {},
   "source": [
    "其中，$\\eta > 0$ 表示学习率，$L(y,f)$ 表示单样本损失函数"
   ]
  },
  {
   "attachments": {},
   "cell_type": "markdown",
   "metadata": {},
   "source": [
    "从损失函数的形式不难看出，使用**梯度下降法更新模型参数时，每次都需要计算损失函数关于每个样本的梯度**，这存在两个问题：\n",
    "* **梯度的计算对于神经网络是昂贵的**，尤其当网络规模很大，结构很深，参数数量很多时，我们将在后面看到\n",
    "* **每个样本的梯度存储需要花费空间**，而大数据时代，样本量 $N$ 可能很大（例如ImageNet数据集，样本量 $N$ 约为1400万），当模型参数量较大时，存储这些梯度信息需要花费大量的内存，以致于计算不可行"
   ]
  },
  {
   "attachments": {},
   "cell_type": "markdown",
   "metadata": {},
   "source": [
    "为此，人们提出**随机梯度下降**（**Stochastic Gradient Descent**，简称**SGD**）方法，**每次更新时，只随机抽取一个样本** $(x_j,y_j)$，然后更新：\n",
    "$$\n",
    "\\Theta_{k+1} = \\Theta_k - \\eta\\cdot \\frac{\\partial}{\\partial \\Theta} L(y_j,f(x_j;\\Theta))\n",
    "$$"
   ]
  },
  {
   "attachments": {},
   "cell_type": "markdown",
   "metadata": {},
   "source": [
    "**SGD的有效性通过下式保证**：\n",
    "$$\n",
    "\\mathbb{E}_j \\left( \\frac{\\partial}{\\partial \\Theta}L(y_j,f(x_j;\\Theta)) \\right) = \\frac{1}{N} \\sum_{i=1}^{N} \\frac{\\partial}{\\partial \\Theta} L(y_i,f(x_i;\\Theta))\n",
    "$$"
   ]
  },
  {
   "attachments": {},
   "cell_type": "markdown",
   "metadata": {},
   "source": [
    "简单来说，即**单样本梯度信息是对全样本梯度的无偏估计**，SGD相比梯度下降梯度计算时间加快 $N$ 倍，所需要的内存也相应减少"
   ]
  },
  {
   "attachments": {},
   "cell_type": "markdown",
   "metadata": {},
   "source": [
    "SGD在使用时有两个特点：\n",
    "* 相比梯度下降的收敛速度会变慢，通常需要更多轮迭代才能让模型参数收敛\n",
    "* 由于每次只使用一个样本的梯度信息，因此参数更新的**随机扰动会比较大**"
   ]
  },
  {
   "attachments": {},
   "cell_type": "markdown",
   "metadata": {},
   "source": [
    "SGD使用单样本梯度信息更新的**这种随机扰动，一方面给参数收敛带来了不确定性，但另一方面，随机性使模型的更新方向有更多可能，让模型具备突破局部极小值点陷阱的能力**"
   ]
  },
  {
   "attachments": {},
   "cell_type": "markdown",
   "metadata": {},
   "source": [
    "如果不想让参数更新抖动太过剧烈，实践中更常用的方法是**批量随机梯度下降**（**Batch SGD**），即每次更新时，**选择样本容量为** $B$ **的子集**，**称为一个批量（一个Batch）**，计算它们的梯度来进行更新：\n",
    "$$\n",
    "\\Theta_{k+1} = \\Theta_k - - \\eta\\cdot \\frac{\\partial }{\\partial \\Theta}\\left( \\frac{1}{B} \\sum_{i=1}^{B} L(y_i,f(x_i;\\Theta)) \\right)\n",
    "$$"
   ]
  },
  {
   "attachments": {},
   "cell_type": "markdown",
   "metadata": {},
   "source": [
    "**BSGD增加了SGD的稳定性，也保留了一部分随机性**，同时**根据硬件性能选择合适的批量大小** $B$，也能减少每次梯度计算的开销"
   ]
  },
  {
   "attachments": {},
   "cell_type": "markdown",
   "metadata": {},
   "source": [
    "最后，我们来计算**2.1节**模型中每一部分参数的梯度，这需要使用到**链式法则**，然后完成代码："
   ]
  },
  {
   "attachments": {},
   "cell_type": "markdown",
   "metadata": {},
   "source": [
    "注意到：\n",
    "$$\n",
    "\\begin{array}{l}\n",
    "f(x_i) = z_i w_2 + b_2,\\\\\n",
    "z_i = \\sigma(h_i),\\\\\n",
    "h_i = x_i w_1 + b_1 \\\\\n",
    "\\end{array}\n",
    "$$"
   ]
  },
  {
   "attachments": {},
   "cell_type": "markdown",
   "metadata": {},
   "source": [
    "计算梯度得到："
   ]
  },
  {
   "attachments": {},
   "cell_type": "markdown",
   "metadata": {},
   "source": [
    "$$\n",
    "\\begin{array}{rcl}\n",
    "\\displaystyle{ \\frac{\\partial L(y_i,f(x_i;\\Theta))}{\\partial w_1} } & = & \\displaystyle{ 2\\left[f(x_i;\\Theta) - y_i \\right] \\frac{\\partial f}{\\partial w_1} }\\\\[4mm]\n",
    "& = & \\displaystyle{ 2\\left[f(x_i;\\Theta) - y_i \\right] \\frac{\\partial f}{\\partial z_i}\\frac{\\partial z_i}{\\partial h_i}\\frac{\\partial h_i}{\\partial w_1} }\\\\[4mm]\n",
    "\\end{array}\n",
    "$$"
   ]
  },
  {
   "attachments": {},
   "cell_type": "markdown",
   "metadata": {},
   "source": [
    "$$\n",
    "\\begin{array}{rcl}\n",
    "\\displaystyle{ \\frac{\\partial L(y_i,f(x_i;\\Theta))}{\\partial b_1} } & = & \\displaystyle{ 2\\left[f(x_i;\\Theta) - y_i \\right] \\frac{\\partial f}{\\partial b_1} }\\\\[4mm]\n",
    "& = & \\displaystyle{ 2\\left[f(x_i;\\Theta) - y_i \\right] \\frac{\\partial f}{\\partial z_i}\\frac{\\partial z_i}{\\partial h_i}\\frac{\\partial h_i}{\\partial b_1} }\\\\[4mm]\n",
    "\\end{array}\n",
    "$$"
   ]
  },
  {
   "attachments": {},
   "cell_type": "markdown",
   "metadata": {},
   "source": [
    "$$\n",
    "\\begin{array}{rcl}\n",
    "\\displaystyle{ \\frac{\\partial L(y_i,f(x_i;\\Theta))}{\\partial w_2} } & = & \\displaystyle{ 2\\left[f(x_i;\\Theta) - y_i \\right] \\frac{\\partial f}{\\partial w_2} }\\\\[4mm]\n",
    "\\end{array}\n",
    "$$"
   ]
  },
  {
   "attachments": {},
   "cell_type": "markdown",
   "metadata": {},
   "source": [
    "$$\n",
    "\\begin{array}{rcl}\n",
    "\\displaystyle{ \\frac{\\partial L(y_i,f(x_i;\\Theta))}{\\partial b_2} } & = & \\displaystyle{ 2\\left[f(x_i;\\Theta) - y_i \\right] \\frac{\\partial f}{\\partial b_2} }\\\\[4mm]\n",
    "\\end{array}\n",
    "$$"
   ]
  },
  {
   "attachments": {},
   "cell_type": "markdown",
   "metadata": {},
   "source": [
    "注意链式法则中，各个梯度的维度：\n",
    "$$\n",
    "\\begin{array}{l}\\\n",
    "\\displaystyle{ \\frac{\\partial f}{\\partial w_2} = z_i^T \\in \\mathbb{R}^{q\\times 1} }\\\\[4mm]\n",
    "\\displaystyle{ \\frac{\\partial f}{\\partial b_2} = 1 }\\\\[4mm]\n",
    "\\displaystyle{ \\frac{\\partial f}{\\partial z_i} = w_2^T \\in \\mathbb{R}^{1\\times q} }\\\\[4mm]\n",
    "\\displaystyle{ \\frac{\\partial z_i}{\\partial h_i} = \\text{diag}\\left( \\sigma'(h_i)\\right) \\in \\mathbb{R}^{q\\times q} }\\\\[4mm]\n",
    "\\displaystyle{ \\frac{\\partial h_i}{\\partial w_1} = \\left[\\frac{\\partial h_{i,1}}{\\partial w_1},\\cdots,\\frac{\\partial h_{i,q}}{\\partial w_1}  \\right] \\in \\mathbb{R}^{q\\times p\\times q} }\\\\[4mm]\n",
    "\\displaystyle{ \\frac{\\partial h_i}{\\partial b_1} = \\left[\\frac{\\partial h_{i,1}}{\\partial b_1},\\cdots,\\frac{\\partial h_{i,q}}{\\partial b_1}  \\right] = \\mathbf{E}_q \\in \\mathbb{R}^{q\\times q} }\\\\[4mm]\n",
    "\\end{array}\n",
    "$$"
   ]
  },
  {
   "attachments": {},
   "cell_type": "markdown",
   "metadata": {},
   "source": [
    "首先定义**损失函数**`loss_func()`"
   ]
  },
  {
   "cell_type": "code",
   "execution_count": 11,
   "metadata": {},
   "outputs": [],
   "source": [
    "def loss_func(y_true : np.ndarray, y_pred : np.ndarray):\n",
    "    return np.mean((y_true - y_pred)**2)"
   ]
  },
  {
   "attachments": {},
   "cell_type": "markdown",
   "metadata": {},
   "source": [
    "我们来实现批量随机梯度下降`BSGD()`：\n",
    "* 在深度学习中，迭代轮次用`epochs`表示\n",
    "* 在每一个`epoch`，我们随机打乱样本，然后依次选择批量大小为`B`的样本作为一个Batch，用它们的梯度信息更新参数\n",
    "* 所有样本在一个`epoch`中会都参与一次计算，如果样本量`N`无法被批量大小`B`整除，则最后一个批量的样本量会小于`B`"
   ]
  },
  {
   "attachments": {},
   "cell_type": "markdown",
   "metadata": {},
   "source": [
    "函数`BatchGenerator()`用于从样本生成每个批量的数据，它是一个**生成器**，注意`yield`关键字"
   ]
  },
  {
   "cell_type": "code",
   "execution_count": 12,
   "metadata": {},
   "outputs": [],
   "source": [
    "def BatchGenerator(x : np.ndarray, y : np.ndarray, batch_size : int=32):\n",
    "    \"\"\"\n",
    "    从样本声从每个批量的数据\n",
    "    \"\"\"\n",
    "    N = x.shape[0] # 样本量\n",
    "    idx = np.random.permutation(N) # 生成随机索引\n",
    "    rounds = int(N / batch_size) + 1\n",
    "    for i in range(rounds):\n",
    "        idx_batch = idx[i*batch_size:(i+1)*batch_size] # 生成随机批量索引\n",
    "        # 抽取子集\n",
    "        x_batch = x[idx_batch]\n",
    "        y_batch = y[idx_batch]\n",
    "        \n",
    "        yield x_batch, y_batch"
   ]
  },
  {
   "cell_type": "code",
   "execution_count": 13,
   "metadata": {},
   "outputs": [],
   "source": [
    "def BSGD(model : ANN, X : np.ndarray, y : np.ndarray, batch_size : int=32, epochs : int=200, lr : float=0.1):\n",
    "    # 迭代轮次\n",
    "    for epoch in range(epochs):\n",
    "        # 该轮迭代的批量生成器\n",
    "        batch_data = BatchGenerator(X,y,batch_size=batch_size)\n",
    "        # 利用每个批量的数据计算梯度，并更新参数\n",
    "        for x_batch, y_batch in batch_data:\n",
    "            # 进行前向推理\n",
    "            h, z, f = model(x_batch,return_layer=True) # 返回中间层结果\n",
    "        \n",
    "            # 计算梯度\n",
    "            sigma_grad = sigmoid(h)*(1 - sigmoid(h))\n",
    "\n",
    "            w2_grad = np.mean(2*(f - y_batch)*z,axis=0,keepdims=True).T\n",
    "            b2_grad = np.mean(2*(f - y_batch),axis=0)\n",
    "\n",
    "            df_dh = 2*(f - y_batch)*model.w2.T*sigma_grad\n",
    "            w1_grad = np.mean(np.expand_dims(df_dh,1) *\\\n",
    "                              np.repeat(np.expand_dims(x_batch,axis=2),repeats=model.hidden_size,axis=2),axis=0)\n",
    "            b1_grad = np.mean(df_dh,axis=0)\n",
    "\n",
    "            # 梯度下降更新参数\n",
    "            model.w1 -= lr*w1_grad\n",
    "            model.b1 -= lr*b1_grad\n",
    "            model.w2 -= lr*w2_grad\n",
    "            model.b2 -= lr*b2_grad\n",
    "\n",
    "        # 计算损失，并打印损失的值\n",
    "        f = model(X)\n",
    "        loss = loss_func(f,y)\n",
    "        if epoch == 0 or (epoch + 1)%25 == 0:\n",
    "            print(\"Epoch: %4d, loss: %.6f\"%(epoch+1,loss))\n",
    "        \n",
    "    return model"
   ]
  },
  {
   "attachments": {},
   "cell_type": "markdown",
   "metadata": {},
   "source": [
    "最后，创建模型，调用`BSGD()`训练模型"
   ]
  },
  {
   "cell_type": "code",
   "execution_count": 14,
   "metadata": {},
   "outputs": [
    {
     "name": "stdout",
     "output_type": "stream",
     "text": [
      "Epoch:    1, loss: 0.835162\n",
      "Epoch:   25, loss: 0.569696\n",
      "Epoch:   50, loss: 0.273797\n",
      "Epoch:   75, loss: 0.177572\n",
      "Epoch:  100, loss: 0.117182\n",
      "Epoch:  125, loss: 0.105270\n",
      "Epoch:  150, loss: 0.099970\n",
      "Epoch:  175, loss: 0.089067\n",
      "Epoch:  200, loss: 0.087981\n"
     ]
    }
   ],
   "source": [
    "model = ANN(hidden_size=8) # 创建模型\n",
    "model = BSGD(model,x,y,epochs=200,lr=0.1) # 使用BatchSGD训练模型"
   ]
  },
  {
   "cell_type": "code",
   "execution_count": 15,
   "metadata": {},
   "outputs": [
    {
     "data": {
      "text/plain": [
       "<matplotlib.legend.Legend at 0x2c7188d8fd0>"
      ]
     },
     "execution_count": 15,
     "metadata": {},
     "output_type": "execute_result"
    },
    {
     "data": {
      "image/png": "[encoded data removed]",
      "text/plain": [
       "<Figure size 800x400 with 1 Axes>"
      ]
     },
     "metadata": {},
     "output_type": "display_data"
    }
   ],
   "source": [
    "func_fit = model(x)\n",
    "fig = plt.figure(figsize=(8,4))\n",
    "plt.scatter(x,y,color=\"royalblue\",alpha=0.2,label=\"Samples\")\n",
    "plt.plot(x,func,color=\"orange\",label=\"True Function\")\n",
    "plt.plot(x,func_fit,lw=2,ls=\"--\",color=\"green\",label=\"Fitted Function\")\n",
    "plt.xlabel(\"$x$\")\n",
    "plt.ylabel(\"$y$\")\n",
    "plt.legend()"
   ]
  },
  {
   "attachments": {},
   "cell_type": "markdown",
   "metadata": {},
   "source": [
    "上述过程演示了计算梯度信息更新模型参数的方法，根据链式法则，逐层计算梯度的过程有以下两个特点：\n",
    "* **需要先进行一次前向计算**，获得网络中每一层的输出结果\n",
    "* **梯度的计算从后向前计算**，逐层累乘"
   ]
  },
  {
   "attachments": {},
   "cell_type": "markdown",
   "metadata": {},
   "source": [
    "因此，这种参数更新的过程又被人们称为**反向传播机制**，它和神经网络的前向推理顺序恰好相反，**梯度从最后一层逐步向输入层传播**"
   ]
  },
  {
   "attachments": {},
   "cell_type": "markdown",
   "metadata": {},
   "source": [
    "但**随着网络结构变得复杂，网络变深，上述梯度的计算无疑是痛苦的**，手工推导计算后再编写代码是不可行的"
   ]
  },
  {
   "attachments": {},
   "cell_type": "markdown",
   "metadata": {},
   "source": [
    "为此，人们设计了各种**深度学习框架**来帮助我们快速、高效实现各种神经网络模型，**避免上面实验中复杂的计算和编码流程**"
   ]
  },
  {
   "attachments": {},
   "cell_type": "markdown",
   "metadata": {},
   "source": [
    "----"
   ]
  },
  {
   "attachments": {},
   "cell_type": "markdown",
   "metadata": {},
   "source": [
    "## **3 深度学习应用和框架**"
   ]
  },
  {
   "attachments": {},
   "cell_type": "markdown",
   "metadata": {},
   "source": [
    "### **3.1 深度学习的应用领域**"
   ]
  },
  {
   "attachments": {},
   "cell_type": "markdown",
   "metadata": {},
   "source": [
    "深度学习模型的成功应用可以根据场景进行划分\n",
    "* 计算机视觉领域（**Computer Vision**，**CV**）\n",
    "  * 图像分类：给定图片，判断图片的主体是什么内容，完成分类任务，例如手写数字识别，动物识别，食材识别等，代表模型各类**卷积神经网络**（AlexNet，LeNet，ResNet）\n",
    "  * 目标检测：给定图片，在图片上标识出各主体的位置，并对主体进行识别和判断，例如视频中对主体的跟踪就是目标检测的基本任务，代表模型**YOLO**系列算法\n",
    "  * 语义分割：给定图片，将图像中各部分内容进行区分并解释其含义，例如区分一张风景照中的天空、游客、动物、树木等信息，代表模型**FCN**和**PSPNet**\n",
    "  * 图像生成：按照人们需求生成现实生活中不存在的图像，例如风景，人脸，绘画作品等，代表模型**GAN**\n",
    "* 自然语言处理（**Natural Language Processing**，**NLP**）\n",
    "  * 序列建模：任何**具有前后逻辑关系的序列样本**都可以视为NLP问题，例如时间序列建模，这类任务包含序列预测，序列补全，或者是对整条序列分类，代表模型**RNN**，**GRU**，**LSTM**\n",
    "  * 标记和解析：标记一段语句中的主语、动词，或者标记整个语句的情感，这是自然语言理解的基础，代表模型**Word2Vec**\n",
    "  * 多模态识别（图像、语音，音乐，视频和代码映射到文本）：给定图像、语音和视频数据，让模型描述其内容，并总结输出，代表模型**以Transformer为基础的模型变种**\n",
    "  * 多模态生成（文本映射到图像、语音，音乐，视频和代码）：相反，给定需求描述，让模型生成多模态内容，代表模型**以Transformer为基础的模型变种**\n",
    "  * 机器翻译：让模型实现多种语言之间的互相翻译，或直接进行同声传译\n",
    "  * 文本理解和多轮对话：交互式地与模型进行多轮对话，这要求模型具备上下文理解能力，代表模型**ChatGPT**\n",
    "* 环境交互和强化学习\n",
    "  * 推荐系统：电商系统、搜索引擎和流媒体平台对内容的排序和推荐，代表模型**NFM**\n",
    "  * 社群发现：根据样本间的网络连接关系（例如好友网络，关注与被关注网络，论文引用网络），挖掘社群信息（包括结点预测、连接关系预测，图聚类），代表模型**GNN**\n",
    "  * 智能AI / 游戏AI：**以AlphaGo为代表**的智能决策体，能够实时根据环境的反馈调整策略，代表模型**DQN**\n",
    "  * 科学发现：**以AlphaFold为代表**的交叉学科模型，能够辅助科研人员进行科学理论的探索和发现"
   ]
  },
  {
   "attachments": {},
   "cell_type": "markdown",
   "metadata": {},
   "source": [
    "### **3.2 深度学习框架**"
   ]
  },
  {
   "attachments": {},
   "cell_type": "markdown",
   "metadata": {},
   "source": [
    "为了让人们方便地开发深度学习模型，各大公司设计了自己的**深度学习框架**，例如Tensorflow，Pytorch，MXNet，Caffe等"
   ]
  },
  {
   "attachments": {},
   "cell_type": "markdown",
   "metadata": {},
   "source": [
    "每个框架拥有自己的优点和特色，目前**最受欢迎的框架是Tensorflow和Pytorch**，框架的使用之间会有差别，但不会改变算法的流程，工业界和学界也都是使用这两个框架，Pytorch因其新旧版本之间舒适的继承性，现在受更多人的喜爱，在学习框架时，可以任选一个进行学习，另一个作为补充了解"
   ]
  },
  {
   "attachments": {},
   "cell_type": "markdown",
   "metadata": {},
   "source": [
    "本文模型的编写以Tensorflow框架展开"
   ]
  },
  {
   "attachments": {},
   "cell_type": "markdown",
   "metadata": {},
   "source": [
    "#### **3.2.1 自动梯度**"
   ]
  },
  {
   "attachments": {},
   "cell_type": "markdown",
   "metadata": {},
   "source": [
    "所有深度学习框架最基础最重要的功能之一就是**自动梯度**（**Automatic Gradient**），框架通过**构建计算图**的形式，追踪计算的结构和逻辑，然后通过反向传播，就可以得到输出层，或者任意中间层关于任何参数的梯度信息"
   ]
  },
  {
   "attachments": {},
   "cell_type": "markdown",
   "metadata": {},
   "source": [
    "下面，我们尝试计算：\n",
    "$$\n",
    "f(x,y,z) = g(x,y) + h(y,z),\\quad g(x,y) = \\sin(x\\cdot y),\\quad h(y,z) = \\exp(-(y+z)) \n",
    "$$\n",
    "的梯度信息，不难得到：\n",
    "$$\n",
    "\\frac{\\partial f}{\\partial x} = y\\cdot \\cos(xy),\\quad \\frac{\\partial f}{\\partial y} = x\\cdot \\cos(xy) - \\exp(-(y+z)),\\quad \\frac{\\partial f}{\\partial z} = - \\exp(-(y+z))\n",
    "$$"
   ]
  },
  {
   "attachments": {},
   "cell_type": "markdown",
   "metadata": {},
   "source": [
    "Tensorflow中，想要构建计算图并跟踪计算过程，需要**声明一个磁带** `tape`，通过`with`语句创建一个`scope`，`scope`**内的计算将会被Tensorflow跟踪**"
   ]
  },
  {
   "cell_type": "code",
   "execution_count": 16,
   "metadata": {},
   "outputs": [],
   "source": [
    "# 创建变量\n",
    "x = tf.Variable(np.array([0, np.pi/2, np.pi]),dtype=tf.float32) # x = [0, pi / 2, pi]\n",
    "y = tf.Variable(np.array([0, 2, -1]),dtype=tf.float32) # y = [0, 2, 1]\n",
    "z = tf.Variable(np.array([0, -2, 1]),dtype=tf.float32) # z = [0, -2, -1]"
   ]
  },
  {
   "cell_type": "code",
   "execution_count": 17,
   "metadata": {},
   "outputs": [],
   "source": [
    "# 创建scope，设置persistent = True可以调用多次求导\n",
    "with tf.GradientTape(persistent=True) as tape:\n",
    "    # 在scope内部定义计算逻辑\n",
    "    g = tf.sin(x*y)\n",
    "    h = tf.exp(-(y+z))\n",
    "    f = g + h\n",
    "# 定义在scope外的计算，无法追踪梯度\n",
    "f_out = g + h"
   ]
  },
  {
   "cell_type": "code",
   "execution_count": 18,
   "metadata": {},
   "outputs": [
    {
     "name": "stdout",
     "output_type": "stream",
     "text": [
      "df / dx:  tf.Tensor([ 0. -2.  1.], shape=(3,), dtype=float32)\n",
      "df / dz:  tf.Tensor([-1. -1. -1.], shape=(3,), dtype=float32)\n",
      "df / dg:  tf.Tensor([1. 1. 1.], shape=(3,), dtype=float32)\n",
      "df / dh:  tf.Tensor([1. 1. 1.], shape=(3,), dtype=float32)\n",
      "dh / dy:  tf.Tensor([ 0.        -1.5707964 -3.1415927], shape=(3,), dtype=float32)\n",
      "dg / dz:  None\n",
      "dh / dx:  None\n"
     ]
    }
   ],
   "source": [
    "# 计算梯度\n",
    "df_dx = tape.gradient(f,x)\n",
    "df_dz = tape.gradient(f,z)\n",
    "df_dg = tape.gradient(f,g)\n",
    "df_dh = tape.gradient(f,h)\n",
    "dg_dy = tape.gradient(g,y)\n",
    "dg_dz = tape.gradient(g,z)\n",
    "dh_dx = tape.gradient(h,x)\n",
    "# 打印梯度\n",
    "print(\"df / dx: \",df_dx)\n",
    "print(\"df / dz: \",df_dz)\n",
    "print(\"df / dg: \",df_dg)\n",
    "print(\"df / dh: \",df_dh)\n",
    "print(\"dh / dy: \",dg_dy)\n",
    "print(\"dg / dz: \",dg_dz)\n",
    "print(\"dh / dx: \",dh_dx)"
   ]
  },
  {
   "attachments": {},
   "cell_type": "markdown",
   "metadata": {},
   "source": [
    "可以观察到，**自动梯度计算正确**，并且**由于** $g$ **与** $z$ **无关**，$h$ **与** $x$ **无关**，因此**梯度信息** $\\partial g/\\partial z,\\partial h/\\partial x$ **不存在**"
   ]
  },
  {
   "attachments": {},
   "cell_type": "markdown",
   "metadata": {},
   "source": [
    "对于**定义在**`tape`**对应的**`scope`**外的计算，因为计算图没有追踪它的计算逻辑，我们无法得到它的梯度**"
   ]
  },
  {
   "cell_type": "code",
   "execution_count": 19,
   "metadata": {},
   "outputs": [
    {
     "name": "stdout",
     "output_type": "stream",
     "text": [
      "df_out / dx:  None\n"
     ]
    }
   ],
   "source": [
    "df_out_dx = tape.gradient(f_out,x)\n",
    "print(\"df_out / dx: \",df_out_dx)"
   ]
  },
  {
   "attachments": {},
   "cell_type": "markdown",
   "metadata": {},
   "source": [
    "自动梯度在模型特别复杂时非常有用，我们无需关心反向传播过程，Tensorflow会创建计算图跟踪好每个参数的梯度"
   ]
  },
  {
   "attachments": {},
   "cell_type": "markdown",
   "metadata": {},
   "source": [
    "#### **3.2.2 低层级API**"
   ]
  },
  {
   "attachments": {},
   "cell_type": "markdown",
   "metadata": {},
   "source": [
    "Tensorflow的低层级API能够让我们从**模型包含的参数**和**计算逻辑**出发，细致定义每一个模型，它能够实现对计算过程的精确控制，也是学习深度学习模型，了解每个算法的计算逻辑的最推荐的实现方式"
   ]
  },
  {
   "attachments": {},
   "cell_type": "markdown",
   "metadata": {},
   "source": [
    "为了养成良好的编码习惯，建议将所有的自定义模型继承自`tf.keras.Model`或者`tf.keras.layers.Layer`，后者是神经网络中**层**的基本单元"
   ]
  },
  {
   "attachments": {},
   "cell_type": "markdown",
   "metadata": {},
   "source": [
    "我们使用低层级API定义`LowAPIANN`来实现**第2节中的单隐藏层神经网络**"
   ]
  },
  {
   "attachments": {},
   "cell_type": "markdown",
   "metadata": {},
   "source": [
    "首先，**重新定义激活函数，损失函数，批量数据生成函数，必须使用Tensorflow的接口完成计算**"
   ]
  },
  {
   "cell_type": "code",
   "execution_count": 20,
   "metadata": {},
   "outputs": [],
   "source": [
    "def sigmoid_tf(x : tf.Variable):\n",
    "    return 1 / (1 + tf.exp(-x))\n",
    "\n",
    "def loss_func_tf(y_true : tf.Variable, y_pred : tf.Variable):\n",
    "    return tf.reduce_mean((y_true - y_pred)**2)\n",
    "\n",
    "def BatchGenerator_tf(x : np.ndarray, y : np.ndarray, batch_size : int=32):\n",
    "    return tf.data.Dataset.from_tensor_slices((x,y)).batch(batch_size).shuffle(x.shape[0])"
   ]
  },
  {
   "cell_type": "code",
   "execution_count": 21,
   "metadata": {},
   "outputs": [],
   "source": [
    "class LowAPIANN(tf.keras.Model):\n",
    "    def __init__(self, input_dims : int=1, output_dims : int=1, hidden_size : int=8, *args, **kwargs):\n",
    "        super().__init__(*args, **kwargs)\n",
    "        self.input_dims = input_dims\n",
    "        self.output_dims = output_dims\n",
    "        self.hidden_size = hidden_size\n",
    "\n",
    "        # 声明为 tf.Variable\n",
    "        self.w1 = tf.Variable(np.random.randn(input_dims,hidden_size),dtype=tf.float32,name=\"w1\")\n",
    "        self.b1 = tf.Variable(np.random.randn(hidden_size),dtype=tf.float32,name=\"b1\")\n",
    "        self.w2 = tf.Variable(np.random.randn(hidden_size,output_dims),dtype=tf.float32,name=\"w2\")\n",
    "        self.b2 = tf.Variable(np.random.randn(output_dims),dtype=tf.float32,name=\"b2\")\n",
    "    \n",
    "    def call(self, inputs, training=None, mask=None):\n",
    "        h = inputs @ self.w1 + self.b1\n",
    "        z = sigmoid_tf(h)\n",
    "        y = z @ self.w2 + self.b2\n",
    "        return y"
   ]
  },
  {
   "cell_type": "code",
   "execution_count": 22,
   "metadata": {},
   "outputs": [],
   "source": [
    "# BatchSGD 训练模型\n",
    "def train(model, X : tf.Tensor, y : tf.Tensor, batch_size : int=32, epochs : int=200, lr : float=0.1):\n",
    "    for epoch in range(epochs):\n",
    "        # 该轮迭代的批量生成器\n",
    "        batch_data = BatchGenerator_tf(X,y,batch_size=batch_size)\n",
    "        for x_batch, y_batch in batch_data:\n",
    "            # 跟踪梯度\n",
    "            with tf.GradientTape() as tape:\n",
    "                y_hat = model(x_batch)\n",
    "                loss = loss_func_tf(y_batch,y_hat)\n",
    "            \n",
    "            # 选取参数，计算梯度\n",
    "            weights = model.trainable_variables\n",
    "            grads = tape.gradient(loss,weights)\n",
    "            # 梯度下降更新参数\n",
    "            for weight, grad in zip(weights,grads):\n",
    "                # assign_sub 等价于 weight 自身减去这个更新量\n",
    "                # Tensorflow 参数不允许使用 weight -= lr*grad 这种语法\n",
    "                weight.assign_sub(lr*grad)\n",
    "    \n",
    "    return model"
   ]
  },
  {
   "cell_type": "code",
   "execution_count": 23,
   "metadata": {},
   "outputs": [],
   "source": [
    "# 生成数据\n",
    "x, y, func = ch1.build_regression(N=200)\n",
    "x, y = tf.constant(x,dtype=tf.float32), tf.constant(y,dtype=tf.float32)\n",
    "# 创建模型并训练\n",
    "model = LowAPIANN(hidden_size=8)\n",
    "model = train(model,X=x,y=y)"
   ]
  },
  {
   "cell_type": "code",
   "execution_count": 24,
   "metadata": {},
   "outputs": [
    {
     "data": {
      "image/png": "[encoded data removed]",
      "text/plain": [
       "<Figure size 800x400 with 1 Axes>"
      ]
     },
     "metadata": {},
     "output_type": "display_data"
    }
   ],
   "source": [
    "func_fit = model(x).numpy() # 需要将 tf.Tensor 数据转换为 np.ndarray\n",
    "ch1.regression_plot(x,y,func,x,func_fit)"
   ]
  },
  {
   "attachments": {},
   "cell_type": "markdown",
   "metadata": {},
   "source": [
    "**这与我们在第2节中实现的步骤几乎相同，只不过我们无需手动计算梯度了，借助自动梯度我们能一次性完成所有参数的更新**"
   ]
  },
  {
   "attachments": {},
   "cell_type": "markdown",
   "metadata": {},
   "source": [
    "此外，请注意**使用Tensorflow框架时，请保证**：\n",
    "* **所有的计算都必须使用Tensorflow提供的接口完成**，Tensorflow的接口与numpy非常相似，没有学习成本\n",
    "* **参与模型计算的所有变量都必须是**`tf.Tensor`，我们可以使用`tf.Varialbe`或者`tf.constant`来创建Tensor张量，不能将`tf.Tensor`与`np.ndarray`混合使用，否则会报错\n",
    "  * `tf.Varialbe`或者`tf.constant`可以将`np.ndarray`转换为Tensor张量，区别在于转换后的Tensor一种是变量，一种是常量\n",
    "    * 通常来说，数据样本可以用`tf.constant`变换为常量\n",
    "    * 模型参数可以用`tf.Variable`转换为变量\n",
    "  * 如果要将Tensor张量`X`转换为`np.ndarray`，请使用`X.numpy()`方法\n",
    "* 同一个模型中，**参数**和**样本数据**的**数据类型必须相同**，默认情况下建议使用`tf.float32`\n",
    "  * 如果两种数据类型混合计算（例如`tf.float32`和`tf.float64`混用），程序会报错"
   ]
  },
  {
   "attachments": {},
   "cell_type": "markdown",
   "metadata": {},
   "source": [
    "#### **3.2.3 高层级API**"
   ]
  },
  {
   "attachments": {},
   "cell_type": "markdown",
   "metadata": {},
   "source": [
    "Tensorflow还提供了另外一种**高层级API接口帮助我们快速创建模型，高层级API整合了最常用的模型计算层，损失函数和优化算法**，它们大部分包含在`keras`模块中，我们首先导入它们"
   ]
  },
  {
   "cell_type": "code",
   "execution_count": 25,
   "metadata": {},
   "outputs": [],
   "source": [
    "from keras.models import Sequential # 序列模型\n",
    "from keras.layers import Input, Dense # MLP / FCN全连接层\n",
    "from keras.activations import sigmoid # 激活函数\n",
    "from keras.losses import mean_squared_error # 均方误差\n",
    "from keras.optimizers import SGD # 随机梯度下降优化算法"
   ]
  },
  {
   "attachments": {},
   "cell_type": "markdown",
   "metadata": {},
   "source": [
    "假设隐藏层神经元个数为8，通过序列模型`Sequential`组装计算层"
   ]
  },
  {
   "cell_type": "code",
   "execution_count": 26,
   "metadata": {},
   "outputs": [],
   "source": [
    "hidden_size = 8\n",
    "model = Sequential([\n",
    "    Input(shape=(1)), # 输入层，特征维度为 1\n",
    "    Dense(hidden_size,activation=sigmoid), # 设置隐藏层，并设置激活函数\n",
    "    Dense(1) # 设置输出层，输出维度为 1\n",
    "])"
   ]
  },
  {
   "attachments": {},
   "cell_type": "markdown",
   "metadata": {},
   "source": [
    "`model.summary()`可以查看模型的结构和参数信息"
   ]
  },
  {
   "cell_type": "code",
   "execution_count": 27,
   "metadata": {},
   "outputs": [
    {
     "name": "stdout",
     "output_type": "stream",
     "text": [
      "Model: \"sequential\"\n",
      "_________________________________________________________________\n",
      " Layer (type)                Output Shape              Param #   \n",
      "=================================================================\n",
      " dense (Dense)               (None, 8)                 16        \n",
      "                                                                 \n",
      " dense_1 (Dense)             (None, 1)                 9         \n",
      "                                                                 \n",
      "=================================================================\n",
      "Total params: 25\n",
      "Trainable params: 25\n",
      "Non-trainable params: 0\n",
      "_________________________________________________________________\n"
     ]
    }
   ],
   "source": [
    "model.summary()"
   ]
  },
  {
   "attachments": {},
   "cell_type": "markdown",
   "metadata": {},
   "source": [
    "下一步，我们使用`model.compile()`**编译模型**，指定模型所使用的**损失函数，优化算法，度量指标**"
   ]
  },
  {
   "cell_type": "code",
   "execution_count": 28,
   "metadata": {},
   "outputs": [],
   "source": [
    "# 编译模型\n",
    "x, y, func = ch1.build_regression(N=200,add_dims=False)\n",
    "x, y = tf.constant(x,dtype=tf.float32), tf.constant(y,dtype=tf.float32)\n",
    "model.compile(optimizer=SGD(learning_rate=0.1),loss=mean_squared_error,metrics=mean_squared_error)"
   ]
  },
  {
   "attachments": {},
   "cell_type": "markdown",
   "metadata": {},
   "source": [
    "最后提供数据集，使用`model.fit()`方法训练模型，这里可以指定：\n",
    "* **批量大小**`batch_size`，**迭代轮次**`epochs`\n",
    "* 从**训练数据集中划分验证集的大小**`validation_split`，默认为`0`，即不使用验证集\n",
    "* 或者**直接提供验证集**`validation_data`"
   ]
  },
  {
   "attachments": {},
   "cell_type": "markdown",
   "metadata": {},
   "source": [
    "更多参数可以查看说明文档"
   ]
  },
  {
   "cell_type": "code",
   "execution_count": 29,
   "metadata": {},
   "outputs": [
    {
     "name": "stdout",
     "output_type": "stream",
     "text": [
      "Epoch 1/300\n",
      "7/7 [==============================] - 0s 2ms/step - loss: 1.0848 - mean_squared_error: 1.0848\n",
      "Epoch 2/300\n",
      "7/7 [==============================] - 0s 1ms/step - loss: 0.7628 - mean_squared_error: 0.7628\n",
      "Epoch 3/300\n",
      "7/7 [==============================] - 0s 2ms/step - loss: 0.7656 - mean_squared_error: 0.7656\n",
      "Epoch 4/300\n",
      "7/7 [==============================] - 0s 2ms/step - loss: 0.7598 - mean_squared_error: 0.7598\n",
      "Epoch 5/300\n",
      "7/7 [==============================] - 0s 2ms/step - loss: 0.7542 - mean_squared_error: 0.7542\n",
      "Epoch 6/300\n",
      "7/7 [==============================] - 0s 2ms/step - loss: 0.7822 - mean_squared_error: 0.7822\n",
      "Epoch 7/300\n",
      "7/7 [==============================] - 0s 2ms/step - loss: 0.7301 - mean_squared_error: 0.7301\n",
      "Epoch 8/300\n",
      "7/7 [==============================] - 0s 2ms/step - loss: 0.7611 - mean_squared_error: 0.7611\n",
      "Epoch 9/300\n",
      "7/7 [==============================] - 0s 2ms/step - loss: 0.7482 - mean_squared_error: 0.7482\n",
      "Epoch 10/300\n",
      "7/7 [==============================] - 0s 2ms/step - loss: 0.7400 - mean_squared_error: 0.7400\n",
      "Epoch 11/300\n",
      "7/7 [==============================] - 0s 2ms/step - loss: 0.7555 - mean_squared_error: 0.7555\n",
      "Epoch 12/300\n",
      "7/7 [==============================] - 0s 2ms/step - loss: 0.7350 - mean_squared_error: 0.7350\n",
      "Epoch 13/300\n",
      "7/7 [==============================] - 0s 2ms/step - loss: 0.7399 - mean_squared_error: 0.7399\n",
      "Epoch 14/300\n",
      "7/7 [==============================] - 0s 1ms/step - loss: 0.7406 - mean_squared_error: 0.7406\n",
      "Epoch 15/300\n",
      "7/7 [==============================] - 0s 1ms/step - loss: 0.7431 - mean_squared_error: 0.7431\n",
      "Epoch 16/300\n",
      "7/7 [==============================] - 0s 2ms/step - loss: 0.7793 - mean_squared_error: 0.7793\n",
      "Epoch 17/300\n",
      "7/7 [==============================] - 0s 1ms/step - loss: 0.7714 - mean_squared_error: 0.7714\n",
      "Epoch 18/300\n",
      "7/7 [==============================] - 0s 1ms/step - loss: 0.7629 - mean_squared_error: 0.7629\n",
      "Epoch 19/300\n",
      "7/7 [==============================] - 0s 1ms/step - loss: 0.7586 - mean_squared_error: 0.7586\n",
      "Epoch 20/300\n",
      "7/7 [==============================] - 0s 1ms/step - loss: 0.7472 - mean_squared_error: 0.7472\n",
      "Epoch 21/300\n",
      "7/7 [==============================] - 0s 2ms/step - loss: 0.7371 - mean_squared_error: 0.7371\n",
      "Epoch 22/300\n",
      "7/7 [==============================] - 0s 2ms/step - loss: 0.7319 - mean_squared_error: 0.7319\n",
      "Epoch 23/300\n",
      "7/7 [==============================] - 0s 2ms/step - loss: 0.8117 - mean_squared_error: 0.8117\n",
      "Epoch 24/300\n",
      "7/7 [==============================] - 0s 2ms/step - loss: 0.7431 - mean_squared_error: 0.7431\n",
      "Epoch 25/300\n",
      "7/7 [==============================] - 0s 2ms/step - loss: 0.7464 - mean_squared_error: 0.7464\n",
      "Epoch 26/300\n",
      "7/7 [==============================] - 0s 1ms/step - loss: 0.7551 - mean_squared_error: 0.7551\n",
      "Epoch 27/300\n",
      "7/7 [==============================] - 0s 2ms/step - loss: 0.7480 - mean_squared_error: 0.7480\n",
      "Epoch 28/300\n",
      "7/7 [==============================] - 0s 2ms/step - loss: 0.7668 - mean_squared_error: 0.7668\n",
      "Epoch 29/300\n",
      "7/7 [==============================] - 0s 2ms/step - loss: 0.7681 - mean_squared_error: 0.7681\n",
      "Epoch 30/300\n",
      "7/7 [==============================] - 0s 1ms/step - loss: 0.7746 - mean_squared_error: 0.7746\n",
      "Epoch 31/300\n",
      "7/7 [==============================] - 0s 1ms/step - loss: 0.7498 - mean_squared_error: 0.7498\n",
      "Epoch 32/300\n",
      "7/7 [==============================] - 0s 1ms/step - loss: 0.8269 - mean_squared_error: 0.8269\n",
      "Epoch 33/300\n",
      "7/7 [==============================] - 0s 2ms/step - loss: 0.7638 - mean_squared_error: 0.7638\n",
      "Epoch 34/300\n",
      "7/7 [==============================] - 0s 2ms/step - loss: 0.7468 - mean_squared_error: 0.7468\n",
      "Epoch 35/300\n",
      "7/7 [==============================] - 0s 1ms/step - loss: 0.7440 - mean_squared_error: 0.7440\n",
      "Epoch 36/300\n",
      "7/7 [==============================] - 0s 2ms/step - loss: 0.7338 - mean_squared_error: 0.7338\n",
      "Epoch 37/300\n",
      "7/7 [==============================] - 0s 2ms/step - loss: 0.7527 - mean_squared_error: 0.7527\n",
      "Epoch 38/300\n",
      "7/7 [==============================] - 0s 2ms/step - loss: 0.7598 - mean_squared_error: 0.7598\n",
      "Epoch 39/300\n",
      "7/7 [==============================] - 0s 2ms/step - loss: 0.7489 - mean_squared_error: 0.7489\n",
      "Epoch 40/300\n",
      "7/7 [==============================] - 0s 3ms/step - loss: 0.7513 - mean_squared_error: 0.7513\n",
      "Epoch 41/300\n",
      "7/7 [==============================] - 0s 2ms/step - loss: 0.7464 - mean_squared_error: 0.7464\n",
      "Epoch 42/300\n",
      "7/7 [==============================] - 0s 2ms/step - loss: 0.7482 - mean_squared_error: 0.7482\n",
      "Epoch 43/300\n",
      "7/7 [==============================] - 0s 1ms/step - loss: 0.7591 - mean_squared_error: 0.7591\n",
      "Epoch 44/300\n",
      "7/7 [==============================] - 0s 1ms/step - loss: 0.7604 - mean_squared_error: 0.7604\n",
      "Epoch 45/300\n",
      "7/7 [==============================] - 0s 1ms/step - loss: 0.7552 - mean_squared_error: 0.7552\n",
      "Epoch 46/300\n",
      "7/7 [==============================] - 0s 1ms/step - loss: 0.7448 - mean_squared_error: 0.7448\n",
      "Epoch 47/300\n",
      "7/7 [==============================] - 0s 2ms/step - loss: 0.7526 - mean_squared_error: 0.7526\n",
      "Epoch 48/300\n",
      "7/7 [==============================] - 0s 2ms/step - loss: 0.7448 - mean_squared_error: 0.7448\n",
      "Epoch 49/300\n",
      "7/7 [==============================] - 0s 2ms/step - loss: 0.7446 - mean_squared_error: 0.7446\n",
      "Epoch 50/300\n",
      "7/7 [==============================] - 0s 1ms/step - loss: 0.7300 - mean_squared_error: 0.7300\n",
      "Epoch 51/300\n",
      "7/7 [==============================] - 0s 2ms/step - loss: 0.7506 - mean_squared_error: 0.7506\n",
      "Epoch 52/300\n",
      "7/7 [==============================] - 0s 1ms/step - loss: 0.7331 - mean_squared_error: 0.7331\n",
      "Epoch 53/300\n",
      "7/7 [==============================] - 0s 1ms/step - loss: 0.7634 - mean_squared_error: 0.7634\n",
      "Epoch 54/300\n",
      "7/7 [==============================] - 0s 1ms/step - loss: 0.7432 - mean_squared_error: 0.7432\n",
      "Epoch 55/300\n",
      "7/7 [==============================] - 0s 1ms/step - loss: 0.7494 - mean_squared_error: 0.7494\n",
      "Epoch 56/300\n",
      "7/7 [==============================] - 0s 2ms/step - loss: 0.7537 - mean_squared_error: 0.7537\n",
      "Epoch 57/300\n",
      "7/7 [==============================] - 0s 2ms/step - loss: 0.7444 - mean_squared_error: 0.7444\n",
      "Epoch 58/300\n",
      "7/7 [==============================] - 0s 1ms/step - loss: 0.7554 - mean_squared_error: 0.7554\n",
      "Epoch 59/300\n",
      "7/7 [==============================] - 0s 2ms/step - loss: 0.7490 - mean_squared_error: 0.7490\n",
      "Epoch 60/300\n",
      "7/7 [==============================] - 0s 1ms/step - loss: 0.7906 - mean_squared_error: 0.7906\n",
      "Epoch 61/300\n",
      "7/7 [==============================] - 0s 2ms/step - loss: 0.7631 - mean_squared_error: 0.7631\n",
      "Epoch 62/300\n",
      "7/7 [==============================] - 0s 2ms/step - loss: 0.7354 - mean_squared_error: 0.7354\n",
      "Epoch 63/300\n",
      "7/7 [==============================] - 0s 2ms/step - loss: 0.7339 - mean_squared_error: 0.7339\n",
      "Epoch 64/300\n",
      "7/7 [==============================] - 0s 2ms/step - loss: 0.7452 - mean_squared_error: 0.7452\n",
      "Epoch 65/300\n",
      "7/7 [==============================] - 0s 2ms/step - loss: 0.7930 - mean_squared_error: 0.7930\n",
      "Epoch 66/300\n",
      "7/7 [==============================] - 0s 2ms/step - loss: 0.7487 - mean_squared_error: 0.7487\n",
      "Epoch 67/300\n",
      "7/7 [==============================] - 0s 2ms/step - loss: 0.7641 - mean_squared_error: 0.7641\n",
      "Epoch 68/300\n",
      "7/7 [==============================] - 0s 2ms/step - loss: 0.7309 - mean_squared_error: 0.7309\n",
      "Epoch 69/300\n",
      "7/7 [==============================] - 0s 1ms/step - loss: 0.7365 - mean_squared_error: 0.7365\n",
      "Epoch 70/300\n",
      "7/7 [==============================] - 0s 1ms/step - loss: 0.7598 - mean_squared_error: 0.7598\n",
      "Epoch 71/300\n",
      "7/7 [==============================] - 0s 2ms/step - loss: 0.7347 - mean_squared_error: 0.7347\n",
      "Epoch 72/300\n",
      "7/7 [==============================] - 0s 2ms/step - loss: 0.7451 - mean_squared_error: 0.7451\n",
      "Epoch 73/300\n",
      "7/7 [==============================] - 0s 2ms/step - loss: 0.7293 - mean_squared_error: 0.7293\n",
      "Epoch 74/300\n",
      "7/7 [==============================] - 0s 2ms/step - loss: 0.7302 - mean_squared_error: 0.7302\n",
      "Epoch 75/300\n",
      "7/7 [==============================] - 0s 2ms/step - loss: 0.7348 - mean_squared_error: 0.7348\n",
      "Epoch 76/300\n",
      "7/7 [==============================] - 0s 1ms/step - loss: 0.7636 - mean_squared_error: 0.7636\n",
      "Epoch 77/300\n",
      "7/7 [==============================] - 0s 2ms/step - loss: 0.7435 - mean_squared_error: 0.7435\n",
      "Epoch 78/300\n",
      "7/7 [==============================] - 0s 2ms/step - loss: 0.7338 - mean_squared_error: 0.7338\n",
      "Epoch 79/300\n",
      "7/7 [==============================] - 0s 2ms/step - loss: 0.7450 - mean_squared_error: 0.7450\n",
      "Epoch 80/300\n",
      "7/7 [==============================] - 0s 2ms/step - loss: 0.7288 - mean_squared_error: 0.7288\n",
      "Epoch 81/300\n",
      "7/7 [==============================] - 0s 1ms/step - loss: 0.7502 - mean_squared_error: 0.7502\n",
      "Epoch 82/300\n",
      "7/7 [==============================] - 0s 2ms/step - loss: 0.7327 - mean_squared_error: 0.7327\n",
      "Epoch 83/300\n",
      "7/7 [==============================] - 0s 2ms/step - loss: 0.7517 - mean_squared_error: 0.7517\n",
      "Epoch 84/300\n",
      "7/7 [==============================] - 0s 2ms/step - loss: 0.7382 - mean_squared_error: 0.7382\n",
      "Epoch 85/300\n",
      "7/7 [==============================] - 0s 2ms/step - loss: 0.7350 - mean_squared_error: 0.7350\n",
      "Epoch 86/300\n",
      "7/7 [==============================] - 0s 2ms/step - loss: 0.7360 - mean_squared_error: 0.7360\n",
      "Epoch 87/300\n",
      "7/7 [==============================] - 0s 1ms/step - loss: 0.7449 - mean_squared_error: 0.7449\n",
      "Epoch 88/300\n",
      "7/7 [==============================] - 0s 1ms/step - loss: 0.7533 - mean_squared_error: 0.7533\n",
      "Epoch 89/300\n",
      "7/7 [==============================] - 0s 2ms/step - loss: 0.7290 - mean_squared_error: 0.7290\n",
      "Epoch 90/300\n",
      "7/7 [==============================] - 0s 2ms/step - loss: 0.7408 - mean_squared_error: 0.7408\n",
      "Epoch 91/300\n",
      "7/7 [==============================] - 0s 2ms/step - loss: 0.7534 - mean_squared_error: 0.7534\n",
      "Epoch 92/300\n",
      "7/7 [==============================] - 0s 2ms/step - loss: 0.7508 - mean_squared_error: 0.7508\n",
      "Epoch 93/300\n",
      "7/7 [==============================] - 0s 2ms/step - loss: 0.7170 - mean_squared_error: 0.7170\n",
      "Epoch 94/300\n",
      "7/7 [==============================] - 0s 2ms/step - loss: 0.7181 - mean_squared_error: 0.7181\n",
      "Epoch 95/300\n",
      "7/7 [==============================] - 0s 2ms/step - loss: 0.7160 - mean_squared_error: 0.7160\n",
      "Epoch 96/300\n",
      "7/7 [==============================] - 0s 2ms/step - loss: 0.7363 - mean_squared_error: 0.7363\n",
      "Epoch 97/300\n",
      "7/7 [==============================] - 0s 2ms/step - loss: 0.7291 - mean_squared_error: 0.7291\n",
      "Epoch 98/300\n",
      "7/7 [==============================] - 0s 2ms/step - loss: 0.7292 - mean_squared_error: 0.7292\n",
      "Epoch 99/300\n",
      "7/7 [==============================] - 0s 2ms/step - loss: 0.7205 - mean_squared_error: 0.7205\n",
      "Epoch 100/300\n",
      "7/7 [==============================] - 0s 2ms/step - loss: 0.7262 - mean_squared_error: 0.7262\n",
      "Epoch 101/300\n",
      "7/7 [==============================] - 0s 2ms/step - loss: 0.7273 - mean_squared_error: 0.7273\n",
      "Epoch 102/300\n",
      "7/7 [==============================] - 0s 1ms/step - loss: 0.7156 - mean_squared_error: 0.7156\n",
      "Epoch 103/300\n",
      "7/7 [==============================] - 0s 1ms/step - loss: 0.7067 - mean_squared_error: 0.7067\n",
      "Epoch 104/300\n",
      "7/7 [==============================] - 0s 2ms/step - loss: 0.7076 - mean_squared_error: 0.7076\n",
      "Epoch 105/300\n",
      "7/7 [==============================] - 0s 2ms/step - loss: 0.6995 - mean_squared_error: 0.6995\n",
      "Epoch 106/300\n",
      "7/7 [==============================] - 0s 2ms/step - loss: 0.7009 - mean_squared_error: 0.7009\n",
      "Epoch 107/300\n",
      "7/7 [==============================] - 0s 2ms/step - loss: 0.7302 - mean_squared_error: 0.7302\n",
      "Epoch 108/300\n",
      "7/7 [==============================] - 0s 1ms/step - loss: 0.7015 - mean_squared_error: 0.7015\n",
      "Epoch 109/300\n",
      "7/7 [==============================] - 0s 2ms/step - loss: 0.7301 - mean_squared_error: 0.7301\n",
      "Epoch 110/300\n",
      "7/7 [==============================] - 0s 1ms/step - loss: 0.7084 - mean_squared_error: 0.7084\n",
      "Epoch 111/300\n",
      "7/7 [==============================] - 0s 2ms/step - loss: 0.6952 - mean_squared_error: 0.6952\n",
      "Epoch 112/300\n",
      "7/7 [==============================] - 0s 1ms/step - loss: 0.6960 - mean_squared_error: 0.6960\n",
      "Epoch 113/300\n",
      "7/7 [==============================] - 0s 1ms/step - loss: 0.7405 - mean_squared_error: 0.7405\n",
      "Epoch 114/300\n",
      "7/7 [==============================] - 0s 2ms/step - loss: 0.6885 - mean_squared_error: 0.6885\n",
      "Epoch 115/300\n",
      "7/7 [==============================] - 0s 2ms/step - loss: 0.6802 - mean_squared_error: 0.6802\n",
      "Epoch 116/300\n",
      "7/7 [==============================] - 0s 2ms/step - loss: 0.6877 - mean_squared_error: 0.6877\n",
      "Epoch 117/300\n",
      "7/7 [==============================] - 0s 1ms/step - loss: 0.6785 - mean_squared_error: 0.6785\n",
      "Epoch 118/300\n",
      "7/7 [==============================] - 0s 2ms/step - loss: 0.6873 - mean_squared_error: 0.6873\n",
      "Epoch 119/300\n",
      "7/7 [==============================] - 0s 2ms/step - loss: 0.6824 - mean_squared_error: 0.6824\n",
      "Epoch 120/300\n",
      "7/7 [==============================] - 0s 2ms/step - loss: 0.6664 - mean_squared_error: 0.6664\n",
      "Epoch 121/300\n",
      "7/7 [==============================] - 0s 2ms/step - loss: 0.6578 - mean_squared_error: 0.6578\n",
      "Epoch 122/300\n",
      "7/7 [==============================] - 0s 2ms/step - loss: 0.6576 - mean_squared_error: 0.6576\n",
      "Epoch 123/300\n",
      "7/7 [==============================] - 0s 2ms/step - loss: 0.6507 - mean_squared_error: 0.6507\n",
      "Epoch 124/300\n",
      "7/7 [==============================] - 0s 2ms/step - loss: 0.6550 - mean_squared_error: 0.6550\n",
      "Epoch 125/300\n",
      "7/7 [==============================] - 0s 2ms/step - loss: 0.6420 - mean_squared_error: 0.6420\n",
      "Epoch 126/300\n",
      "7/7 [==============================] - 0s 2ms/step - loss: 0.6373 - mean_squared_error: 0.6373\n",
      "Epoch 127/300\n",
      "7/7 [==============================] - 0s 2ms/step - loss: 0.6550 - mean_squared_error: 0.6550\n",
      "Epoch 128/300\n",
      "7/7 [==============================] - 0s 2ms/step - loss: 0.6241 - mean_squared_error: 0.6241\n",
      "Epoch 129/300\n",
      "7/7 [==============================] - 0s 2ms/step - loss: 0.6210 - mean_squared_error: 0.6210\n",
      "Epoch 130/300\n",
      "7/7 [==============================] - 0s 2ms/step - loss: 0.6330 - mean_squared_error: 0.6330\n",
      "Epoch 131/300\n",
      "7/7 [==============================] - 0s 1ms/step - loss: 0.6282 - mean_squared_error: 0.6282\n",
      "Epoch 132/300\n",
      "7/7 [==============================] - 0s 1ms/step - loss: 0.6218 - mean_squared_error: 0.6218\n",
      "Epoch 133/300\n",
      "7/7 [==============================] - 0s 1ms/step - loss: 0.6101 - mean_squared_error: 0.6101\n",
      "Epoch 134/300\n",
      "7/7 [==============================] - 0s 2ms/step - loss: 0.6015 - mean_squared_error: 0.6015\n",
      "Epoch 135/300\n",
      "7/7 [==============================] - 0s 2ms/step - loss: 0.6096 - mean_squared_error: 0.6096\n",
      "Epoch 136/300\n",
      "7/7 [==============================] - 0s 2ms/step - loss: 0.6130 - mean_squared_error: 0.6130\n",
      "Epoch 137/300\n",
      "7/7 [==============================] - 0s 2ms/step - loss: 0.5895 - mean_squared_error: 0.5895\n",
      "Epoch 138/300\n",
      "7/7 [==============================] - 0s 2ms/step - loss: 0.5825 - mean_squared_error: 0.5825\n",
      "Epoch 139/300\n",
      "7/7 [==============================] - 0s 2ms/step - loss: 0.5895 - mean_squared_error: 0.5895\n",
      "Epoch 140/300\n",
      "7/7 [==============================] - 0s 2ms/step - loss: 0.5690 - mean_squared_error: 0.5690\n",
      "Epoch 141/300\n",
      "7/7 [==============================] - 0s 2ms/step - loss: 0.5729 - mean_squared_error: 0.5729\n",
      "Epoch 142/300\n",
      "7/7 [==============================] - 0s 1ms/step - loss: 0.5654 - mean_squared_error: 0.5654\n",
      "Epoch 143/300\n",
      "7/7 [==============================] - 0s 1ms/step - loss: 0.5547 - mean_squared_error: 0.5547\n",
      "Epoch 144/300\n",
      "7/7 [==============================] - 0s 2ms/step - loss: 0.5646 - mean_squared_error: 0.5646\n",
      "Epoch 145/300\n",
      "7/7 [==============================] - 0s 2ms/step - loss: 0.5502 - mean_squared_error: 0.5502\n",
      "Epoch 146/300\n",
      "7/7 [==============================] - 0s 2ms/step - loss: 0.5450 - mean_squared_error: 0.5450\n",
      "Epoch 147/300\n",
      "7/7 [==============================] - 0s 1ms/step - loss: 0.5457 - mean_squared_error: 0.5457\n",
      "Epoch 148/300\n",
      "7/7 [==============================] - 0s 2ms/step - loss: 0.5453 - mean_squared_error: 0.5453\n",
      "Epoch 149/300\n",
      "7/7 [==============================] - 0s 2ms/step - loss: 0.5398 - mean_squared_error: 0.5398\n",
      "Epoch 150/300\n",
      "7/7 [==============================] - 0s 2ms/step - loss: 0.5357 - mean_squared_error: 0.5357\n",
      "Epoch 151/300\n",
      "7/7 [==============================] - 0s 2ms/step - loss: 0.5234 - mean_squared_error: 0.5234\n",
      "Epoch 152/300\n",
      "7/7 [==============================] - 0s 2ms/step - loss: 0.5111 - mean_squared_error: 0.5111\n",
      "Epoch 153/300\n",
      "7/7 [==============================] - 0s 2ms/step - loss: 0.5135 - mean_squared_error: 0.5135\n",
      "Epoch 154/300\n",
      "7/7 [==============================] - 0s 2ms/step - loss: 0.5093 - mean_squared_error: 0.5093\n",
      "Epoch 155/300\n",
      "7/7 [==============================] - 0s 2ms/step - loss: 0.5064 - mean_squared_error: 0.5064\n",
      "Epoch 156/300\n",
      "7/7 [==============================] - 0s 2ms/step - loss: 0.5163 - mean_squared_error: 0.5163\n",
      "Epoch 157/300\n",
      "7/7 [==============================] - 0s 2ms/step - loss: 0.4935 - mean_squared_error: 0.4935\n",
      "Epoch 158/300\n",
      "7/7 [==============================] - 0s 2ms/step - loss: 0.4860 - mean_squared_error: 0.4860\n",
      "Epoch 159/300\n",
      "7/7 [==============================] - 0s 2ms/step - loss: 0.4874 - mean_squared_error: 0.4874\n",
      "Epoch 160/300\n",
      "7/7 [==============================] - 0s 2ms/step - loss: 0.4721 - mean_squared_error: 0.4721\n",
      "Epoch 161/300\n",
      "7/7 [==============================] - 0s 2ms/step - loss: 0.4723 - mean_squared_error: 0.4723\n",
      "Epoch 162/300\n",
      "7/7 [==============================] - 0s 2ms/step - loss: 0.4740 - mean_squared_error: 0.4740\n",
      "Epoch 163/300\n",
      "7/7 [==============================] - 0s 1ms/step - loss: 0.4618 - mean_squared_error: 0.4618\n",
      "Epoch 164/300\n",
      "7/7 [==============================] - 0s 1ms/step - loss: 0.4626 - mean_squared_error: 0.4626\n",
      "Epoch 165/300\n",
      "7/7 [==============================] - 0s 1ms/step - loss: 0.4587 - mean_squared_error: 0.4587\n",
      "Epoch 166/300\n",
      "7/7 [==============================] - 0s 1ms/step - loss: 0.4533 - mean_squared_error: 0.4533\n",
      "Epoch 167/300\n",
      "7/7 [==============================] - 0s 2ms/step - loss: 0.4467 - mean_squared_error: 0.4467\n",
      "Epoch 168/300\n",
      "7/7 [==============================] - 0s 1ms/step - loss: 0.4399 - mean_squared_error: 0.4399\n",
      "Epoch 169/300\n",
      "7/7 [==============================] - 0s 2ms/step - loss: 0.4368 - mean_squared_error: 0.4368\n",
      "Epoch 170/300\n",
      "7/7 [==============================] - 0s 1ms/step - loss: 0.4457 - mean_squared_error: 0.4457\n",
      "Epoch 171/300\n",
      "7/7 [==============================] - 0s 2ms/step - loss: 0.4233 - mean_squared_error: 0.4233\n",
      "Epoch 172/300\n",
      "7/7 [==============================] - 0s 1ms/step - loss: 0.4222 - mean_squared_error: 0.4222\n",
      "Epoch 173/300\n",
      "7/7 [==============================] - 0s 1ms/step - loss: 0.4312 - mean_squared_error: 0.4312\n",
      "Epoch 174/300\n",
      "7/7 [==============================] - 0s 2ms/step - loss: 0.4193 - mean_squared_error: 0.4193\n",
      "Epoch 175/300\n",
      "7/7 [==============================] - 0s 1ms/step - loss: 0.4122 - mean_squared_error: 0.4122\n",
      "Epoch 176/300\n",
      "7/7 [==============================] - 0s 1ms/step - loss: 0.4116 - mean_squared_error: 0.4116\n",
      "Epoch 177/300\n",
      "7/7 [==============================] - 0s 2ms/step - loss: 0.4146 - mean_squared_error: 0.4146\n",
      "Epoch 178/300\n",
      "7/7 [==============================] - 0s 2ms/step - loss: 0.4090 - mean_squared_error: 0.4090\n",
      "Epoch 179/300\n",
      "7/7 [==============================] - 0s 2ms/step - loss: 0.4147 - mean_squared_error: 0.4147\n",
      "Epoch 180/300\n",
      "7/7 [==============================] - 0s 2ms/step - loss: 0.4569 - mean_squared_error: 0.4569\n",
      "Epoch 181/300\n",
      "7/7 [==============================] - 0s 2ms/step - loss: 0.4033 - mean_squared_error: 0.4033\n",
      "Epoch 182/300\n",
      "7/7 [==============================] - 0s 2ms/step - loss: 0.3818 - mean_squared_error: 0.3818\n",
      "Epoch 183/300\n",
      "7/7 [==============================] - 0s 2ms/step - loss: 0.3971 - mean_squared_error: 0.3971\n",
      "Epoch 184/300\n",
      "7/7 [==============================] - 0s 2ms/step - loss: 0.3915 - mean_squared_error: 0.3915\n",
      "Epoch 185/300\n",
      "7/7 [==============================] - 0s 2ms/step - loss: 0.3804 - mean_squared_error: 0.3804\n",
      "Epoch 186/300\n",
      "7/7 [==============================] - 0s 2ms/step - loss: 0.3719 - mean_squared_error: 0.3719\n",
      "Epoch 187/300\n",
      "7/7 [==============================] - 0s 2ms/step - loss: 0.3766 - mean_squared_error: 0.3766\n",
      "Epoch 188/300\n",
      "7/7 [==============================] - 0s 2ms/step - loss: 0.3815 - mean_squared_error: 0.3815\n",
      "Epoch 189/300\n",
      "7/7 [==============================] - 0s 2ms/step - loss: 0.3646 - mean_squared_error: 0.3646\n",
      "Epoch 190/300\n",
      "7/7 [==============================] - 0s 2ms/step - loss: 0.3660 - mean_squared_error: 0.3660\n",
      "Epoch 191/300\n",
      "7/7 [==============================] - 0s 2ms/step - loss: 0.3515 - mean_squared_error: 0.3515\n",
      "Epoch 192/300\n",
      "7/7 [==============================] - 0s 2ms/step - loss: 0.3521 - mean_squared_error: 0.3521\n",
      "Epoch 193/300\n",
      "7/7 [==============================] - 0s 2ms/step - loss: 0.3567 - mean_squared_error: 0.3567\n",
      "Epoch 194/300\n",
      "7/7 [==============================] - 0s 1ms/step - loss: 0.3662 - mean_squared_error: 0.3662\n",
      "Epoch 195/300\n",
      "7/7 [==============================] - 0s 2ms/step - loss: 0.3533 - mean_squared_error: 0.3533\n",
      "Epoch 196/300\n",
      "7/7 [==============================] - 0s 2ms/step - loss: 0.3525 - mean_squared_error: 0.3525\n",
      "Epoch 197/300\n",
      "7/7 [==============================] - 0s 2ms/step - loss: 0.3397 - mean_squared_error: 0.3397\n",
      "Epoch 198/300\n",
      "7/7 [==============================] - 0s 2ms/step - loss: 0.3345 - mean_squared_error: 0.3345\n",
      "Epoch 199/300\n",
      "7/7 [==============================] - 0s 2ms/step - loss: 0.3355 - mean_squared_error: 0.3355\n",
      "Epoch 200/300\n",
      "7/7 [==============================] - 0s 2ms/step - loss: 0.3312 - mean_squared_error: 0.3312\n",
      "Epoch 201/300\n",
      "7/7 [==============================] - 0s 2ms/step - loss: 0.3319 - mean_squared_error: 0.3319\n",
      "Epoch 202/300\n",
      "7/7 [==============================] - 0s 2ms/step - loss: 0.3292 - mean_squared_error: 0.3292\n",
      "Epoch 203/300\n",
      "7/7 [==============================] - 0s 2ms/step - loss: 0.3314 - mean_squared_error: 0.3314\n",
      "Epoch 204/300\n",
      "7/7 [==============================] - 0s 2ms/step - loss: 0.3393 - mean_squared_error: 0.3393\n",
      "Epoch 205/300\n",
      "7/7 [==============================] - 0s 2ms/step - loss: 0.3177 - mean_squared_error: 0.3177\n",
      "Epoch 206/300\n",
      "7/7 [==============================] - 0s 2ms/step - loss: 0.3213 - mean_squared_error: 0.3213\n",
      "Epoch 207/300\n",
      "7/7 [==============================] - 0s 2ms/step - loss: 0.3128 - mean_squared_error: 0.3128\n",
      "Epoch 208/300\n",
      "7/7 [==============================] - 0s 2ms/step - loss: 0.3097 - mean_squared_error: 0.3097\n",
      "Epoch 209/300\n",
      "7/7 [==============================] - 0s 2ms/step - loss: 0.3043 - mean_squared_error: 0.3043\n",
      "Epoch 210/300\n",
      "7/7 [==============================] - 0s 2ms/step - loss: 0.3150 - mean_squared_error: 0.3150\n",
      "Epoch 211/300\n",
      "7/7 [==============================] - 0s 2ms/step - loss: 0.3144 - mean_squared_error: 0.3144\n",
      "Epoch 212/300\n",
      "7/7 [==============================] - 0s 2ms/step - loss: 0.2948 - mean_squared_error: 0.2948\n",
      "Epoch 213/300\n",
      "7/7 [==============================] - 0s 2ms/step - loss: 0.2924 - mean_squared_error: 0.2924\n",
      "Epoch 214/300\n",
      "7/7 [==============================] - 0s 2ms/step - loss: 0.2949 - mean_squared_error: 0.2949\n",
      "Epoch 215/300\n",
      "7/7 [==============================] - 0s 2ms/step - loss: 0.2979 - mean_squared_error: 0.2979\n",
      "Epoch 216/300\n",
      "7/7 [==============================] - 0s 2ms/step - loss: 0.2910 - mean_squared_error: 0.2910\n",
      "Epoch 217/300\n",
      "7/7 [==============================] - 0s 1ms/step - loss: 0.2960 - mean_squared_error: 0.2960\n",
      "Epoch 218/300\n",
      "7/7 [==============================] - 0s 2ms/step - loss: 0.3086 - mean_squared_error: 0.3086\n",
      "Epoch 219/300\n",
      "7/7 [==============================] - 0s 2ms/step - loss: 0.2845 - mean_squared_error: 0.2845\n",
      "Epoch 220/300\n",
      "7/7 [==============================] - 0s 2ms/step - loss: 0.2914 - mean_squared_error: 0.2914\n",
      "Epoch 221/300\n",
      "7/7 [==============================] - 0s 2ms/step - loss: 0.2900 - mean_squared_error: 0.2900\n",
      "Epoch 222/300\n",
      "7/7 [==============================] - 0s 2ms/step - loss: 0.2784 - mean_squared_error: 0.2784\n",
      "Epoch 223/300\n",
      "7/7 [==============================] - 0s 1ms/step - loss: 0.2751 - mean_squared_error: 0.2751\n",
      "Epoch 224/300\n",
      "7/7 [==============================] - 0s 2ms/step - loss: 0.2824 - mean_squared_error: 0.2824\n",
      "Epoch 225/300\n",
      "7/7 [==============================] - 0s 2ms/step - loss: 0.2685 - mean_squared_error: 0.2685\n",
      "Epoch 226/300\n",
      "7/7 [==============================] - 0s 2ms/step - loss: 0.2696 - mean_squared_error: 0.2696\n",
      "Epoch 227/300\n",
      "7/7 [==============================] - 0s 2ms/step - loss: 0.2673 - mean_squared_error: 0.2673\n",
      "Epoch 228/300\n",
      "7/7 [==============================] - 0s 2ms/step - loss: 0.2594 - mean_squared_error: 0.2594\n",
      "Epoch 229/300\n",
      "7/7 [==============================] - 0s 2ms/step - loss: 0.2602 - mean_squared_error: 0.2602\n",
      "Epoch 230/300\n",
      "7/7 [==============================] - 0s 2ms/step - loss: 0.2642 - mean_squared_error: 0.2642\n",
      "Epoch 231/300\n",
      "7/7 [==============================] - 0s 2ms/step - loss: 0.2583 - mean_squared_error: 0.2583\n",
      "Epoch 232/300\n",
      "7/7 [==============================] - 0s 2ms/step - loss: 0.2531 - mean_squared_error: 0.2531\n",
      "Epoch 233/300\n",
      "7/7 [==============================] - 0s 2ms/step - loss: 0.2604 - mean_squared_error: 0.2604\n",
      "Epoch 234/300\n",
      "7/7 [==============================] - 0s 3ms/step - loss: 0.2540 - mean_squared_error: 0.2540\n",
      "Epoch 235/300\n",
      "7/7 [==============================] - 0s 2ms/step - loss: 0.2497 - mean_squared_error: 0.2497\n",
      "Epoch 236/300\n",
      "7/7 [==============================] - 0s 2ms/step - loss: 0.2486 - mean_squared_error: 0.2486\n",
      "Epoch 237/300\n",
      "7/7 [==============================] - 0s 2ms/step - loss: 0.2502 - mean_squared_error: 0.2502\n",
      "Epoch 238/300\n",
      "7/7 [==============================] - 0s 2ms/step - loss: 0.2492 - mean_squared_error: 0.2492\n",
      "Epoch 239/300\n",
      "7/7 [==============================] - 0s 2ms/step - loss: 0.2412 - mean_squared_error: 0.2412\n",
      "Epoch 240/300\n",
      "7/7 [==============================] - 0s 1ms/step - loss: 0.2361 - mean_squared_error: 0.2361\n",
      "Epoch 241/300\n",
      "7/7 [==============================] - 0s 2ms/step - loss: 0.2418 - mean_squared_error: 0.2418\n",
      "Epoch 242/300\n",
      "7/7 [==============================] - 0s 2ms/step - loss: 0.2319 - mean_squared_error: 0.2319\n",
      "Epoch 243/300\n",
      "7/7 [==============================] - 0s 2ms/step - loss: 0.2344 - mean_squared_error: 0.2344\n",
      "Epoch 244/300\n",
      "7/7 [==============================] - 0s 2ms/step - loss: 0.2430 - mean_squared_error: 0.2430\n",
      "Epoch 245/300\n",
      "7/7 [==============================] - 0s 2ms/step - loss: 0.2357 - mean_squared_error: 0.2357\n",
      "Epoch 246/300\n",
      "7/7 [==============================] - 0s 2ms/step - loss: 0.2313 - mean_squared_error: 0.2313\n",
      "Epoch 247/300\n",
      "7/7 [==============================] - 0s 2ms/step - loss: 0.2305 - mean_squared_error: 0.2305\n",
      "Epoch 248/300\n",
      "7/7 [==============================] - 0s 2ms/step - loss: 0.2267 - mean_squared_error: 0.2267\n",
      "Epoch 249/300\n",
      "7/7 [==============================] - 0s 2ms/step - loss: 0.2329 - mean_squared_error: 0.2329\n",
      "Epoch 250/300\n",
      "7/7 [==============================] - 0s 2ms/step - loss: 0.2277 - mean_squared_error: 0.2277\n",
      "Epoch 251/300\n",
      "7/7 [==============================] - 0s 2ms/step - loss: 0.2211 - mean_squared_error: 0.2211\n",
      "Epoch 252/300\n",
      "7/7 [==============================] - 0s 1ms/step - loss: 0.2304 - mean_squared_error: 0.2304\n",
      "Epoch 253/300\n",
      "7/7 [==============================] - 0s 1ms/step - loss: 0.2180 - mean_squared_error: 0.2180\n",
      "Epoch 254/300\n",
      "7/7 [==============================] - 0s 2ms/step - loss: 0.2224 - mean_squared_error: 0.2224\n",
      "Epoch 255/300\n",
      "7/7 [==============================] - 0s 2ms/step - loss: 0.2233 - mean_squared_error: 0.2233\n",
      "Epoch 256/300\n",
      "7/7 [==============================] - 0s 2ms/step - loss: 0.2146 - mean_squared_error: 0.2146\n",
      "Epoch 257/300\n",
      "7/7 [==============================] - 0s 1ms/step - loss: 0.2118 - mean_squared_error: 0.2118\n",
      "Epoch 258/300\n",
      "7/7 [==============================] - 0s 2ms/step - loss: 0.2201 - mean_squared_error: 0.2201\n",
      "Epoch 259/300\n",
      "7/7 [==============================] - 0s 1ms/step - loss: 0.2114 - mean_squared_error: 0.2114\n",
      "Epoch 260/300\n",
      "7/7 [==============================] - 0s 2ms/step - loss: 0.2107 - mean_squared_error: 0.2107\n",
      "Epoch 261/300\n",
      "7/7 [==============================] - 0s 2ms/step - loss: 0.2123 - mean_squared_error: 0.2123\n",
      "Epoch 262/300\n",
      "7/7 [==============================] - 0s 2ms/step - loss: 0.2083 - mean_squared_error: 0.2083\n",
      "Epoch 263/300\n",
      "7/7 [==============================] - 0s 2ms/step - loss: 0.2103 - mean_squared_error: 0.2103\n",
      "Epoch 264/300\n",
      "7/7 [==============================] - 0s 1ms/step - loss: 0.2138 - mean_squared_error: 0.2138\n",
      "Epoch 265/300\n",
      "7/7 [==============================] - 0s 2ms/step - loss: 0.2045 - mean_squared_error: 0.2045\n",
      "Epoch 266/300\n",
      "7/7 [==============================] - 0s 2ms/step - loss: 0.1997 - mean_squared_error: 0.1997\n",
      "Epoch 267/300\n",
      "7/7 [==============================] - 0s 2ms/step - loss: 0.1970 - mean_squared_error: 0.1970\n",
      "Epoch 268/300\n",
      "7/7 [==============================] - 0s 2ms/step - loss: 0.1994 - mean_squared_error: 0.1994\n",
      "Epoch 269/300\n",
      "7/7 [==============================] - 0s 2ms/step - loss: 0.2034 - mean_squared_error: 0.2034\n",
      "Epoch 270/300\n",
      "7/7 [==============================] - 0s 2ms/step - loss: 0.1938 - mean_squared_error: 0.1938\n",
      "Epoch 271/300\n",
      "7/7 [==============================] - 0s 2ms/step - loss: 0.2138 - mean_squared_error: 0.2138\n",
      "Epoch 272/300\n",
      "7/7 [==============================] - 0s 1ms/step - loss: 0.2183 - mean_squared_error: 0.2183\n",
      "Epoch 273/300\n",
      "7/7 [==============================] - 0s 2ms/step - loss: 0.1969 - mean_squared_error: 0.1969\n",
      "Epoch 274/300\n",
      "7/7 [==============================] - 0s 2ms/step - loss: 0.1971 - mean_squared_error: 0.1971\n",
      "Epoch 275/300\n",
      "7/7 [==============================] - 0s 2ms/step - loss: 0.1949 - mean_squared_error: 0.1949\n",
      "Epoch 276/300\n",
      "7/7 [==============================] - 0s 2ms/step - loss: 0.1973 - mean_squared_error: 0.1973\n",
      "Epoch 277/300\n",
      "7/7 [==============================] - 0s 2ms/step - loss: 0.1911 - mean_squared_error: 0.1911\n",
      "Epoch 278/300\n",
      "7/7 [==============================] - 0s 2ms/step - loss: 0.1890 - mean_squared_error: 0.1890\n",
      "Epoch 279/300\n",
      "7/7 [==============================] - 0s 2ms/step - loss: 0.1872 - mean_squared_error: 0.1872\n",
      "Epoch 280/300\n",
      "7/7 [==============================] - 0s 2ms/step - loss: 0.1924 - mean_squared_error: 0.1924\n",
      "Epoch 281/300\n",
      "7/7 [==============================] - 0s 2ms/step - loss: 0.2031 - mean_squared_error: 0.2031\n",
      "Epoch 282/300\n",
      "7/7 [==============================] - 0s 2ms/step - loss: 0.1808 - mean_squared_error: 0.1808\n",
      "Epoch 283/300\n",
      "7/7 [==============================] - 0s 2ms/step - loss: 0.1801 - mean_squared_error: 0.1801\n",
      "Epoch 284/300\n",
      "7/7 [==============================] - 0s 1ms/step - loss: 0.1838 - mean_squared_error: 0.1838\n",
      "Epoch 285/300\n",
      "7/7 [==============================] - 0s 2ms/step - loss: 0.1835 - mean_squared_error: 0.1835\n",
      "Epoch 286/300\n",
      "7/7 [==============================] - 0s 2ms/step - loss: 0.1781 - mean_squared_error: 0.1781\n",
      "Epoch 287/300\n",
      "7/7 [==============================] - 0s 2ms/step - loss: 0.1728 - mean_squared_error: 0.1728\n",
      "Epoch 288/300\n",
      "7/7 [==============================] - 0s 1ms/step - loss: 0.1974 - mean_squared_error: 0.1974\n",
      "Epoch 289/300\n",
      "7/7 [==============================] - 0s 2ms/step - loss: 0.1822 - mean_squared_error: 0.1822\n",
      "Epoch 290/300\n",
      "7/7 [==============================] - 0s 2ms/step - loss: 0.1885 - mean_squared_error: 0.1885\n",
      "Epoch 291/300\n",
      "7/7 [==============================] - 0s 2ms/step - loss: 0.1804 - mean_squared_error: 0.1804\n",
      "Epoch 292/300\n",
      "7/7 [==============================] - 0s 2ms/step - loss: 0.1755 - mean_squared_error: 0.1755\n",
      "Epoch 293/300\n",
      "7/7 [==============================] - 0s 2ms/step - loss: 0.1722 - mean_squared_error: 0.1722\n",
      "Epoch 294/300\n",
      "7/7 [==============================] - 0s 2ms/step - loss: 0.1858 - mean_squared_error: 0.1858\n",
      "Epoch 295/300\n",
      "7/7 [==============================] - 0s 2ms/step - loss: 0.1854 - mean_squared_error: 0.1854\n",
      "Epoch 296/300\n",
      "7/7 [==============================] - 0s 2ms/step - loss: 0.1717 - mean_squared_error: 0.1717\n",
      "Epoch 297/300\n",
      "7/7 [==============================] - 0s 2ms/step - loss: 0.1738 - mean_squared_error: 0.1738\n",
      "Epoch 298/300\n",
      "7/7 [==============================] - 0s 2ms/step - loss: 0.1726 - mean_squared_error: 0.1726\n",
      "Epoch 299/300\n",
      "7/7 [==============================] - 0s 2ms/step - loss: 0.1731 - mean_squared_error: 0.1731\n",
      "Epoch 300/300\n",
      "7/7 [==============================] - 0s 2ms/step - loss: 0.1700 - mean_squared_error: 0.1700\n"
     ]
    },
    {
     "data": {
      "text/plain": [
       "<keras.callbacks.History at 0x2c73123bb20>"
      ]
     },
     "execution_count": 29,
     "metadata": {},
     "output_type": "execute_result"
    }
   ],
   "source": [
    "# 训练模型\n",
    "model.fit(x=x,y=y,batch_size=32,epochs=300)"
   ]
  },
  {
   "attachments": {},
   "cell_type": "markdown",
   "metadata": {},
   "source": [
    "**高层级API经过开发工程师的优化，执行效率非常高**，在掌握算法的原理和计算逻辑后，**大部分不需要自定义模型的场合，建议使用高层级API来搭建模型**，以保证计算效率，当然，一些定制化的模型和计算逻辑还是离不开低层级API，二者也可以混合使用"
   ]
  },
  {
   "attachments": {},
   "cell_type": "markdown",
   "metadata": {},
   "source": [
    "最后，`model.predict()`或者`model.__call__()`方法能够进行预测"
   ]
  },
  {
   "cell_type": "code",
   "execution_count": 30,
   "metadata": {},
   "outputs": [
    {
     "data": {
      "image/png": "[encoded data removed]",
      "text/plain": [
       "<Figure size 800x400 with 1 Axes>"
      ]
     },
     "metadata": {},
     "output_type": "display_data"
    }
   ],
   "source": [
    "func_fit = model(x).numpy() # 需要将 tf.Tensor 数据转换为 np.ndarray\n",
    "ch1.regression_plot(x,y,func,x,func_fit)"
   ]
  },
  {
   "attachments": {},
   "cell_type": "markdown",
   "metadata": {},
   "source": [
    "#### **3.2.4 混合使用低层级API和高层级API**"
   ]
  },
  {
   "attachments": {},
   "cell_type": "markdown",
   "metadata": {},
   "source": [
    "这是**更常见**的一种使用方式，简单来说，我们可以调用`Tensorflow`提供的各种**损失函数**、**优化器**接口，而无需自己定义，唯一需要定义的就是**模型的计算逻辑**，即`__call__()`方法中的计算逻辑，模型的训练函数`train()`在借助高层级API时写起来也更方便"
   ]
  },
  {
   "attachments": {},
   "cell_type": "markdown",
   "metadata": {},
   "source": [
    "总之，深度学习的计算模块搭建非常灵活，要学会灵活应用各种接口，并把计算过程中的一些局部抽象为整体的块儿(`Block`)，则模型的定义只是在组装这些`Blocks`"
   ]
  },
  {
   "cell_type": "code",
   "execution_count": 31,
   "metadata": {},
   "outputs": [],
   "source": [
    "# 导入高层级API\n",
    "from keras.losses import MeanSquaredError\n",
    "from keras.optimizers import SGD\n",
    "from keras.layers import Dense\n",
    "from keras.activations import sigmoid"
   ]
  },
  {
   "attachments": {},
   "cell_type": "markdown",
   "metadata": {},
   "source": [
    "接下来定义模型，记住让模型继承自`tf.keras.Model`或者`tf.keras.layers.Layer`"
   ]
  },
  {
   "cell_type": "code",
   "execution_count": 32,
   "metadata": {},
   "outputs": [],
   "source": [
    "class MixedAPIANN(tf.keras.Model):\n",
    "    def __init__(self, input_dims : int=1, output_dims : int=1, hidden_size : int=8, *args, **kwargs):\n",
    "        super().__init__(*args,**kwargs)\n",
    "        self.input_dims = input_dims\n",
    "        self.output_dims = output_dims\n",
    "        self.hidden_size = hidden_size\n",
    "\n",
    "        self.dense1 = Dense(hidden_size,activation=sigmoid) # 设置激活函数\n",
    "        self.dense2 = Dense(output_dims)\n",
    "    \n",
    "    def call(self, inputs, training=None, mask=None):\n",
    "        X = self.dense1(inputs)\n",
    "        y = self.dense2(X)\n",
    "        return y"
   ]
  },
  {
   "cell_type": "code",
   "execution_count": 33,
   "metadata": {},
   "outputs": [],
   "source": [
    "def train(model, X : tf.Tensor, y : tf.Tensor, batch_size : int=32, epochs : int=200, lr : float=0.1):\n",
    "    optimizer = SGD(learning_rate=lr) # 创建优化器\n",
    "    mse = MeanSquaredError() # 实例化损失函数\n",
    "\n",
    "    for epoch in range(epochs):\n",
    "        # 使用 Tensorflow API 创建批量数据的生成器\n",
    "        batch_data = tf.data.Dataset.from_tensor_slices((X,y)).batch(batch_size=batch_size).shuffle(buffer_size=batch_size)\n",
    "        for x_batch, y_batch in batch_data:\n",
    "            # 跟踪梯度\n",
    "            with tf.GradientTape() as tape:\n",
    "                y_hat = model(x_batch)\n",
    "                loss = mse(y_batch,y_hat)\n",
    "            \n",
    "            # 选取参数，计算梯度\n",
    "            weights = model.trainable_variables\n",
    "            grads = tape.gradient(loss,weights)\n",
    "            optimizer.apply_gradients(zip(grads,weights)) # 直接调用优化器 API\n",
    "    \n",
    "    return model"
   ]
  },
  {
   "attachments": {},
   "cell_type": "markdown",
   "metadata": {},
   "source": [
    "最后再补充说明：\n",
    "* 上面模型的`train()`方法逻辑，在大部分情况下，几乎不需要改变，它对任意模型通用\n",
    "* 我们应该**关注模型计算逻辑的定义**，这包含两部分：\n",
    "  * 在`__init__()`方法中，**定义好模型计算所需要的层和块**（例如`Dense()`等），以及参数\n",
    "  * 在`call()`方法中，定义好模型的推理逻辑"
   ]
  },
  {
   "attachments": {},
   "cell_type": "markdown",
   "metadata": {},
   "source": [
    "最后，创建模型和数据集，并训练模型"
   ]
  },
  {
   "cell_type": "code",
   "execution_count": 34,
   "metadata": {},
   "outputs": [],
   "source": [
    "# 生成数据\n",
    "x, y, func = ch1.build_regression(N=200)\n",
    "x, y = tf.constant(x,dtype=tf.float32), tf.constant(y,dtype=tf.float32)\n",
    "# 创建模型并训练\n",
    "model = MixedAPIANN(hidden_size=8)\n",
    "model = train(model,X=x,y=y,epochs=200,lr=0.1,batch_size=32)"
   ]
  },
  {
   "cell_type": "code",
   "execution_count": 35,
   "metadata": {},
   "outputs": [
    {
     "data": {
      "image/png": "[encoded data removed]",
      "text/plain": [
       "<Figure size 800x400 with 1 Axes>"
      ]
     },
     "metadata": {},
     "output_type": "display_data"
    }
   ],
   "source": [
    "func_fit = model(x).numpy() # 需要将 tf.Tensor 数据转换为 np.ndarray\n",
    "ch1.regression_plot(x,y,func,x,func_fit)"
   ]
  },
  {
   "attachments": {},
   "cell_type": "markdown",
   "metadata": {},
   "source": [
    "----"
   ]
  },
  {
   "attachments": {},
   "cell_type": "markdown",
   "metadata": {},
   "source": [
    "### **练习**"
   ]
  },
  {
   "attachments": {},
   "cell_type": "markdown",
   "metadata": {},
   "source": [
    "1. 设计一个单隐藏层神经网络，隐藏神经元个数等于2，并确定模型参数，以解决XOR问题"
   ]
  },
  {
   "attachments": {},
   "cell_type": "markdown",
   "metadata": {},
   "source": [
    "2. 尝试调整第2节中解决回归问题的ANN的隐藏层神经元个数，查看拟合效果与隐藏神经元个数的关系，你可以用任何方法实现该神经网络（手动计算梯度，低层级API，高层级API，混合API，推荐使用混合API）"
   ]
  },
  {
   "attachments": {},
   "cell_type": "markdown",
   "metadata": {},
   "source": [
    "3. 使用`ch1_build_classification()`生成二维二分类数据集，完成下面的任务：\n",
    "   1. 在3.2节模型的基础上，使用低层级API搭建一个单隐藏层神经网络，用于解决该二分类问题\n",
    "      * 回顾机器学习相关知识，为了对二分类问题的概率分布建模，神经网络的输出层 $f(x)$ 还需要施加什么额外变换？\n",
    "      * 模型应该使用什么损失函数？\n",
    "   2. 汇报模型在训练集和测试集上的准确率\n",
    "   3. 绘制训练集和测试集的损失函数值随着迭代次数`epochs`的变换情况\n",
    "   4. 用高层级API实现上面的神经网络分类模型\n",
    "   5. 绘制神经网络模型的决策边界"
   ]
  },
  {
   "cell_type": "code",
   "execution_count": 36,
   "metadata": {},
   "outputs": [
    {
     "data": {
      "image/png": "[encoded data removed]",
      "text/plain": [
       "<Figure size 600x600 with 1 Axes>"
      ]
     },
     "metadata": {},
     "output_type": "display_data"
    }
   ],
   "source": [
    "# 生成二分类数据集\n",
    "X_train, X_test, y_train, y_test = ch1.build_classification(N=400,noise=0.3,show=True)"
   ]
  },
  {
   "attachments": {},
   "cell_type": "markdown",
   "metadata": {},
   "source": [
    "----"
   ]
  }
 ],
 "metadata": {
  "kernelspec": {
   "display_name": "Python 3 (ipykernel)",
   "language": "python",
   "name": "python3"
  },
  "language_info": {
   "codemirror_mode": {
    "name": "ipython",
    "version": 3
   },
   "file_extension": ".py",
   "mimetype": "text/x-python",
   "name": "python",
   "nbconvert_exporter": "python",
   "pygments_lexer": "ipython3",
   "version": "3.9.16"
  }
 },
 "nbformat": 4,
 "nbformat_minor": 2
}
