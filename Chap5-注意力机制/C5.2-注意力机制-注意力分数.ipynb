{
 "cells": [
  {
   "attachments": {},
   "cell_type": "markdown",
   "metadata": {},
   "source": [
    "# **Chap5：注意力机制**"
   ]
  },
  {
   "cell_type": "code",
   "execution_count": 56,
   "metadata": {},
   "outputs": [],
   "source": [
    "import tensorflow as tf\n",
    "from matplotlib import pyplot as plt\n",
    "import numpy as np\n",
    "import jieba\n",
    "from source.code import ch5\n",
    "from source.code import ch4\n",
    "from source.code import utils"
   ]
  },
  {
   "cell_type": "code",
   "execution_count": 2,
   "metadata": {},
   "outputs": [],
   "source": [
    "# 如果你要在服务器上和别人共用GPU，可以设置你需要的显存资源\n",
    "utils.gpu_limitation_config(memory=30,device=1)"
   ]
  },
  {
   "attachments": {},
   "cell_type": "markdown",
   "metadata": {},
   "source": [
    "## **5.2 注意力分数**"
   ]
  },
  {
   "attachments": {},
   "cell_type": "markdown",
   "metadata": {},
   "source": [
    "### **5.2.1 两种注意力计算方法**"
   ]
  },
  {
   "attachments": {},
   "cell_type": "markdown",
   "metadata": {},
   "source": [
    "在上一节中，我们讨论了如何用高斯核函数来对 `query` 和 `key` 之间的关系建模，并且我们得到了**一般的注意力池化公式**：\n",
    "$$\n",
    "\\text{AttentionPooling}(x) = \\sum_{i=1}^{n_k} \\frac{ a(x,x_i)  }{\\sum_{j=1}^{n_k} a(x,x_j)} y_i\n",
    "$$"
   ]
  },
  {
   "attachments": {},
   "cell_type": "markdown",
   "metadata": {},
   "source": [
    "其中，$a(x,y)\\in\\mathbb{R}$ **称为注意力分数函数**，或简称**评分函数**，评分函数通过 `Softmax` 变换后转换为一个**概率分布**，即**注意力权重**，最后与 `key` 对应的 `value` 做加权求和，得到注意力输出，如下图所示："
   ]
  },
  {
   "attachments": {},
   "cell_type": "markdown",
   "metadata": {},
   "source": [
    "<img src=\"../source/Chap5/注意力池化思想.svg\" width=700>"
   ]
  },
  {
   "attachments": {},
   "cell_type": "markdown",
   "metadata": {},
   "source": [
    "上一节我们讨论的 `query, key, value` 都是**一维实数**，下面我们讨论更一般的计算过程，并讨论注意力评分函数 $a$ 的设计"
   ]
  },
  {
   "attachments": {},
   "cell_type": "markdown",
   "metadata": {},
   "source": [
    "假设有一个 `query` $q\\in\\mathbb{R}^q$，以及 $n_k=n_v=n$ 个 `key-value` 对 $(k_1,v_1),\\cdots,(k_{n},v_n)$，其中 $k_i\\in\\mathbb{R}^{k}, v_i\\in\\mathbb{R}^v$，注意力汇聚函数 $f$ 可以统一表示为：\n",
    "$$\n",
    "f(q,(k_1,v_1),\\cdots,(k_n,v_n)) = \\sum_{i=1}^{n} w(q,k_i)v_i \\in \\mathbb{R}^v\n",
    "$$"
   ]
  },
  {
   "attachments": {},
   "cell_type": "markdown",
   "metadata": {},
   "source": [
    "其中，`query` $q$ 和 `key` $k_i$ 的**注意力权重（标量）** $w(q,k_i)$ 通过**注意力评分函数** $a(q,k_i):(\\mathbb{R}^q,\\mathbb{R}^k) \\to \\mathbb{R}$ **将两个向量映射为标量后**，再经过 `Softmax` 变换得到"
   ]
  },
  {
   "attachments": {},
   "cell_type": "markdown",
   "metadata": {},
   "source": [
    "$$\n",
    "w(q,k_i) = \\text{Softmax}\\left( a(q,k_i) \\right) = \\frac{ \\exp\\left(a(q,k_i) \\right) }{ \\sum_{j=1}^{n} \\exp\\left(a(q,k_j) \\right) } \\in\\mathbb{R}\n",
    "$$"
   ]
  },
  {
   "attachments": {},
   "cell_type": "markdown",
   "metadata": {},
   "source": [
    "因此，**不同的注意力评分函数** $a(q,k)$ **会得到不同的注意力汇聚操作**，我们介绍深度学习中常用的两个评分函数"
   ]
  },
  {
   "attachments": {},
   "cell_type": "markdown",
   "metadata": {},
   "source": [
    "在此之前，我们需要先介绍**掩蔽Softmax**算子，`Softmax` 操作用于输出一个概率分布作为注意力权重\n",
    "* 在某些情况下，**并非所有的值都应该被纳入到注意力汇聚中**，例如在上一章的**机器翻译**任务中，为了让每个小批量的序列长度一致，**我们在短序列的末尾填充了无意义特殊词元** `<pad>`\n",
    "* 为了**仅将有意义的词元作为值来获取注意力汇聚**，可以指定一个有效序列长度 `valid_lens`（有效词元个数），然后**在计算Softmax 时过滤掉超出指定范围的值**"
   ]
  },
  {
   "cell_type": "code",
   "execution_count": 3,
   "metadata": {},
   "outputs": [],
   "source": [
    "def Masked_Softmax(X : tf.Tensor, valid_lens=None):\n",
    "    \"\"\"\n",
    "    添加掩蔽的 Softmax 操作\n",
    "\n",
    "    Parameters\n",
    "    ----------\n",
    "    X : tf.Tensor\n",
    "        三维张量，形状为 (batch_size, n_q, n_k)，对应 (batch_size, query 个数, key 个数)\n",
    "    valid_lens : tf.Tensor\n",
    "        一维张量或二维张量，形状为 (batch_size, ) 或 (batch_size, n_q)\\n\n",
    "        一维说明批量中的每个 query 样本使用相同的有效长度\\n\n",
    "        二维说明批量中的每个 query 样本使用不同的有效长度\\n\n",
    "    \"\"\"\n",
    "    # 不进行掩蔽\n",
    "    if valid_lens is None:\n",
    "        return tf.nn.softmax(X, axis=-1)\n",
    "    else:\n",
    "        shape = X.shape\n",
    "        # 如果 valid_lens 是一维张量，则它只有 batch_size 维度\n",
    "        # 将其重复 n_q 次，大小变为 (batch_size*n_q,)\n",
    "        if len(valid_lens.shape) == 1:\n",
    "            valid_lens = tf.repeat(valid_lens, repeats=shape[1])\n",
    "        # 如果 valid_lens 是二维张量，将它展开成一维张量\n",
    "        # 大小变为 (batch_size*n_q,)\n",
    "        else:\n",
    "            valid_lens = tf.reshape(valid_lens, shape=(-1,))\n",
    "        \n",
    "        # 被掩蔽的元素使用一个非常大的负值 -1e6 替换，从而其 Softmax 输出为 0\n",
    "        # 可以借用上一章定义的 sequence_mask 函数\n",
    "        # 先将 X 的形状变成 (batch_size * n_q, n_k)，便于与 valid_lens 操作\n",
    "        X = utils.sequence_mask(X=tf.reshape(X, shape=(-1, shape[-1])), \n",
    "                                valid_len=valid_lens, value=-1e6)\n",
    "\n",
    "        # 还原回原来的形状，并在最后一轴，即 n_k 所在维度上做 Softmax 操作\n",
    "        return tf.nn.softmax(tf.reshape(X, shape=shape), axis=-1)"
   ]
  },
  {
   "attachments": {},
   "cell_type": "markdown",
   "metadata": {},
   "source": [
    "该函数已经写入 `../source/code/utils.py`，我们来测试下效果"
   ]
  },
  {
   "cell_type": "code",
   "execution_count": 5,
   "metadata": {},
   "outputs": [
    {
     "data": {
      "text/plain": [
       "<tf.Tensor: shape=(2, 2, 5), dtype=float32, numpy=\n",
       "array([[[0.3874024 , 0.61259764, 0.        , 0.        , 0.        ],\n",
       "        [0.6534972 , 0.34650272, 0.        , 0.        , 0.        ]],\n",
       "\n",
       "       [[0.49347442, 0.20129122, 0.30523437, 0.        , 0.        ],\n",
       "        [0.3334698 , 0.37663725, 0.28989294, 0.        , 0.        ]]],\n",
       "      dtype=float32)>"
      ]
     },
     "execution_count": 5,
     "metadata": {},
     "output_type": "execute_result"
    }
   ],
   "source": [
    "X = tf.random.uniform((2, 2, 5)) # batch_size = 2, query 个数 = 2, key 个数 = 5\n",
    "valid_lens = tf.constant([2, 3]) # 两组 query 的有效长度分别为 2 和 3\n",
    "utils.Masked_Softmax(X, valid_lens)"
   ]
  },
  {
   "attachments": {},
   "cell_type": "markdown",
   "metadata": {},
   "source": [
    "当然，**同一个样本里的不同** `query` **可以使用不同的** `valid_lens`"
   ]
  },
  {
   "cell_type": "code",
   "execution_count": 6,
   "metadata": {},
   "outputs": [
    {
     "data": {
      "text/plain": [
       "<tf.Tensor: shape=(2, 2, 5), dtype=float32, numpy=\n",
       "array([[[0.5025212 , 0.49747878, 0.        , 0.        , 0.        ],\n",
       "        [0.303248  , 0.40090445, 0.29584754, 0.        , 0.        ]],\n",
       "\n",
       "       [[1.        , 0.        , 0.        , 0.        , 0.        ],\n",
       "        [0.14618057, 0.31824294, 0.21065399, 0.3249225 , 0.        ]]],\n",
       "      dtype=float32)>"
      ]
     },
     "execution_count": 6,
     "metadata": {},
     "output_type": "execute_result"
    }
   ],
   "source": [
    "X = tf.random.uniform((2, 2, 5)) # batch_size = 2, query 个数 = 2, key 个数 = 4\n",
    "valid_lens = tf.constant([[2, 3], [1, 4]]) # 两组 query 的有效长度分别为 (2, 3) 和 (2, 4)\n",
    "utils.Masked_Softmax(X, valid_lens)"
   ]
  },
  {
   "attachments": {},
   "cell_type": "markdown",
   "metadata": {},
   "source": [
    "**(1) 加性注意力**"
   ]
  },
  {
   "attachments": {},
   "cell_type": "markdown",
   "metadata": {},
   "source": [
    "一般来说，`query` 和 `key` 是**不同维度的向量**时，可以使用**加性注意力**作为评分函数，给定 `query` $q\\in\\mathbb{R}^q$，`key` $k_i\\in\\mathbb{R}^k$，评分函数为：\n",
    "$$\n",
    "a(q,k_i) = w_v^T\\text{tanh}(W_q q + W_k k_i) \\in\\mathbb{R}\n",
    "$$"
   ]
  },
  {
   "attachments": {},
   "cell_type": "markdown",
   "metadata": {},
   "source": [
    "其中\n",
    "* 参数 $W_q\\in\\mathbb{R}^{h\\times q}, W_k\\in\\mathbb{R}^{h\\times k}$ 负责**先将** $q,k_i$ **变换到相同的维度** $h$\n",
    "* $w_v\\in\\mathbb{R}^h$ 最后**将** $\\text{tanh}$ **激活后的** $\\mathbb{R}^{h}$ **维向量通过向量内积变为实数**\n",
    "* $W_q,W_k,w_v$ 都是**模型的可学习参数**，模型**不使用偏置项**"
   ]
  },
  {
   "cell_type": "code",
   "execution_count": 7,
   "metadata": {},
   "outputs": [],
   "source": [
    "class AdditiveAttention(tf.keras.layers.Layer):\n",
    "    def __init__(self, query_size : int, key_size : int, num_hiddens : int, dropout : float, \n",
    "                 trainable=True, name=None, dtype=None, dynamic=False, **kwargs):\n",
    "        super().__init__(trainable, name, dtype, dynamic, **kwargs)\n",
    "        self.W_k = tf.keras.layers.Dense(num_hiddens, use_bias=False)\n",
    "        self.W_q = tf.keras.layers.Dense(num_hiddens, use_bias=False)\n",
    "        self.w_v = tf.keras.layers.Dense(1, use_bias=False)\n",
    "        self.dropout = tf.keras.layers.Dropout(dropout)\n",
    "        self.attn_weights = None\n",
    "    \n",
    "    def call(self, queries, keys, values, valid_lens=None, **kwargs):\n",
    "        # 将 queries 和 keys 变换到 num_hiddens 维度\n",
    "        # queries 的形状为 (batch_size, n_q, num_hiddens)\n",
    "        # keys 的形状为 (batch_size, n_k, num_hiddens)\n",
    "        queries, keys = self.W_q(queries), self.W_k(keys)\n",
    "\n",
    "        # 利用广播机制，将 queries 和 keys 相加\n",
    "        # 扩充 queries 维度，变成 (batch_size, n_q, 1, num_hiddens)\n",
    "        # 扩充 keys 维度，变成 (batch_size, 1, n_k, num_hiddens)\n",
    "        # features 的形状为 (batch_size, n_q, n_k, num_hiddens)\n",
    "        features = tf.expand_dims(queries, axis=2) + tf.expand_dims(keys, axis=1)\n",
    "        features = tf.nn.tanh(features) # 使用 tanh 函数变换\n",
    "\n",
    "        # 通过 w_v 将输出特征变换为形状为 (batch_size, n_q, n_k, 1) 的张量\n",
    "        # 去除掉最后多余的维度，形状为 (batch_size, n_q, n_k)\n",
    "        scores = tf.squeeze(self.w_v(features), axis=-1) # 注意力分数\n",
    "        self.attn_weights = utils.Masked_Softmax(scores, valid_lens) # 注意力权重\n",
    "        \n",
    "        # 计算注意力池化输出，对权重使用 dropout，缓解过拟合\n",
    "        # (batch_size, n_q, n_k) @ (batch_size, n_v = n_k, v) -> (batch_size, n_q, v)\n",
    "        Y = self.dropout(self.attn_weights, **kwargs) @ values\n",
    "        return Y"
   ]
  },
  {
   "attachments": {},
   "cell_type": "markdown",
   "metadata": {},
   "source": [
    "我们来测试一下上面的**加性注意力层**：\n",
    "  *  `query` 维度为 `(batch_size = 2, n_q = 1, q = 20)`\n",
    "  * `key` 维度为 `(batch_size = 2, n_k = 10, k = 2)`\n",
    "  * `value` 维度为 `(batch_szie = 2, n_v = n_k = 10, v = 4)`"
   ]
  },
  {
   "attachments": {},
   "cell_type": "markdown",
   "metadata": {},
   "source": [
    "则注意力池化的输出维度应该是 `(batch_size = 2, n_q = 1, v = 4)`"
   ]
  },
  {
   "cell_type": "code",
   "execution_count": 8,
   "metadata": {},
   "outputs": [
    {
     "data": {
      "text/plain": [
       "<tf.Tensor: shape=(2, 1, 4), dtype=float32, numpy=\n",
       "array([[[ 3.3938313,  4.3938313,  5.3938313,  6.3938313]],\n",
       "\n",
       "       [[52.387486 , 53.387486 , 54.387486 , 55.387486 ]]], dtype=float32)>"
      ]
     },
     "execution_count": 8,
     "metadata": {},
     "output_type": "execute_result"
    }
   ],
   "source": [
    "queries = tf.random.normal(shape=(2, 1, 20))\n",
    "keys = tf.random.normal(shape=(2, 10, 2))\n",
    "values = tf.reshape(tf.range(80, dtype=tf.float32), shape=(2, 10, 4))\n",
    "valid_lens = tf.constant([3, 6])\n",
    "\n",
    "attention = AdditiveAttention(query_size=20, key_size=2, num_hiddens=8, dropout=0.1)\n",
    "attention(queries, keys, values, valid_lens=valid_lens, training=False)"
   ]
  },
  {
   "attachments": {},
   "cell_type": "markdown",
   "metadata": {},
   "source": [
    "我们可以来看一下**注意力的分布情况**，可以看到超出 `valid_lens` 的部分**全部被遮盖了，注意力权重为 0**"
   ]
  },
  {
   "cell_type": "code",
   "execution_count": 9,
   "metadata": {},
   "outputs": [
    {
     "data": {
      "image/png": "[encoded data removed]",
      "text/plain": [
       "<Figure size 600x300 with 2 Axes>"
      ]
     },
     "metadata": {},
     "output_type": "display_data"
    }
   ],
   "source": [
    "# 注意函数接口，注意力权重需要变换为四维张量\n",
    "utils.show_attention(tf.reshape(attention.attn_weights, shape=(1, 1, 2, 10)), \n",
    "                     xlabel='Keys', ylabel='Queries',figsize=(6, 3))"
   ]
  },
  {
   "attachments": {},
   "cell_type": "markdown",
   "metadata": {},
   "source": [
    "**(2) 缩放点积注意力**"
   ]
  },
  {
   "attachments": {},
   "cell_type": "markdown",
   "metadata": {},
   "source": [
    "当 `query` 和 `key` 有相同的维度时，我们可以**借助向量内积更高效的计算注意力分数，并减少模型参数**，设 $q\\in\\mathbb{R}^d$，$k_i\\in\\mathbb{R}^d$，则**缩放点积注意力分数**计算为：\n",
    "$$\n",
    "a(q,k_i) = \\frac{q^Tk_i}{\\sqrt{d}}\n",
    "$$"
   ]
  },
  {
   "attachments": {},
   "cell_type": "markdown",
   "metadata": {},
   "source": [
    "假设 `query` 和 `key` 的所有元素都是独立的随机变量，并且都满足**零均值和单位方差**，则内积 $q^Tk_i$ 的均值为 0，方差为 $d$，我们除以 $\\sqrt{d}$ 来调整进行数据缩放"
   ]
  },
  {
   "attachments": {},
   "cell_type": "markdown",
   "metadata": {},
   "source": [
    "实践中，我们通常**从批量数据考虑提升计算效率**，现在假设有 $n_q$ 个查询组成的矩阵 $Q\\in\\mathbb{R}^{n_q\\times d}$，$n_k$ 个 `key` 组成的矩阵 $K\\in\\mathbb{R}^{n_k\\times d}$，以及 $n_v = n_k$ 个 `value` 组成的矩阵 $V\\in\\mathbb{R}^{n_k\\times v}$，则缩放点积注意力权重为：\n",
    "$$\n",
    "\\text{Softmax}\\left( \\frac{QK^T}{\\sqrt{d}} \\right)V\\in\\mathbb{R}^{n_q\\times v}\n",
    "$$"
   ]
  },
  {
   "cell_type": "code",
   "execution_count": 10,
   "metadata": {},
   "outputs": [],
   "source": [
    "class DotProductAttention(tf.keras.layers.Layer):\n",
    "    def __init__(self, dropout : float, trainable=True, name=None, dtype=None, dynamic=False, **kwargs):\n",
    "        super().__init__(trainable, name, dtype, dynamic, **kwargs)\n",
    "        self.dropout = tf.keras.layers.Dropout(dropout)\n",
    "        self.attn_weights = None\n",
    "    \n",
    "    def call(self, queries, keys, values, valid_lens, *args, **kwargs):\n",
    "        # queries 的形状为 (batch_size, n_q, d)\n",
    "        # keys 的形状为 (batch_size, n_k, d)\n",
    "        # values 的形状为 (batch_size, n_v = n_k, v)\n",
    "        # valid_lens 的形状为 (batch_size,) 或者 (batch_size, n_q)\n",
    "        d = queries.shape[-1]\n",
    "        # 计算注意力分数\n",
    "        # (batch_size, n_q, d) @ (batch_size, d, n_k) -> (batch_size, n_q, n_k)\n",
    "        scores = tf.matmul(queries, keys, transpose_b=True) / tf.math.sqrt(tf.cast(d, dtype=tf.float32))\n",
    "        self.attn_weights = utils.Masked_Softmax(scores, valid_lens) # 注意力权重\n",
    "\n",
    "        # 计算注意力池化结果\n",
    "        # (batch_size, n_q, n_k) @ (batch_size, n_v = n_k, v) -> (batch_size, n_q, v)\n",
    "        Y = self.dropout(self.attn_weights, **kwargs) @ values\n",
    "        return Y"
   ]
  },
  {
   "attachments": {},
   "cell_type": "markdown",
   "metadata": {},
   "source": [
    "我们来测试一下上面的**缩放点积注意力**的计算结果：\n",
    "  *  `query` 维度为 `(batch_size = 2, n_q = 3, q = d = 10)`\n",
    "  * `key` 维度为 `(batch_size = 2, n_k = 10, k = d = 10)`\n",
    "  * `value` 维度为 `(batch_szie = 2, n_v = n_k = 10, v = 4)`"
   ]
  },
  {
   "attachments": {},
   "cell_type": "markdown",
   "metadata": {},
   "source": [
    "则注意力池化的输出维度应该是 `(batch_size = 2, n_q = 3, v = 4)`"
   ]
  },
  {
   "cell_type": "code",
   "execution_count": 11,
   "metadata": {},
   "outputs": [
    {
     "data": {
      "text/plain": [
       "<tf.Tensor: shape=(2, 3, 4), dtype=float32, numpy=\n",
       "array([[[ 0.       ,  1.       ,  2.       ,  3.       ],\n",
       "        [10.216486 , 11.216485 , 12.216485 , 13.216485 ],\n",
       "        [ 6.3999624,  7.3999624,  8.399962 ,  9.399961 ]],\n",
       "\n",
       "       [[45.037395 , 46.037395 , 47.037395 , 48.037395 ],\n",
       "        [53.88717  , 54.887173 , 55.88717  , 56.88717  ],\n",
       "        [46.060684 , 47.06068  , 48.06068  , 49.060684 ]]], dtype=float32)>"
      ]
     },
     "execution_count": 11,
     "metadata": {},
     "output_type": "execute_result"
    }
   ],
   "source": [
    "queries = tf.random.normal(shape=(2, 3, 10))\n",
    "keys = tf.random.normal(shape=(2, 10, 10))\n",
    "values = tf.reshape(tf.range(80, dtype=tf.float32), shape=(2, 10, 4))\n",
    "valid_lens = tf.constant([[1, 6, 4], [3, 8, 5]])\n",
    "\n",
    "attention = DotProductAttention(dropout=0.1)\n",
    "attention(queries, keys, values, valid_lens=valid_lens, training=False)"
   ]
  },
  {
   "cell_type": "code",
   "execution_count": 12,
   "metadata": {},
   "outputs": [
    {
     "data": {
      "image/png": "[encoded data removed]",
      "text/plain": [
       "<Figure size 1000x300 with 3 Axes>"
      ]
     },
     "metadata": {},
     "output_type": "display_data"
    }
   ],
   "source": [
    "# 注意函数接口，注意力权重需要变换为四维张量\n",
    "utils.show_attention(tf.reshape(attention.attn_weights, shape=(1, 2, 3, 10)), \n",
    "                     xlabel='Keys', ylabel='Queries',figsize=(10, 3),\n",
    "                     titles=['Batch 1', 'Batch 2'])"
   ]
  },
  {
   "attachments": {},
   "cell_type": "markdown",
   "metadata": {},
   "source": [
    "### **5.2.2 机器翻译中的 Bahdanau 注意力机制**"
   ]
  },
  {
   "attachments": {},
   "cell_type": "markdown",
   "metadata": {},
   "source": [
    "我们来看一个注意力机制在机器翻译中的实践"
   ]
  },
  {
   "attachments": {},
   "cell_type": "markdown",
   "metadata": {},
   "source": [
    "我们在上一章学习了一个基于**两个 RNN 的编码器-解码器架构**用于**序列到序列学习**的机器翻译任务\n",
    "* 编码器 RNN 将**长度可变的序列**转换为固定形状的**上下文变量** $c$\n",
    "* 解码器 RNN 根据生成的词元和上下文变量 $c$ 生成下一个词的输出"
   ]
  },
  {
   "attachments": {},
   "cell_type": "markdown",
   "metadata": {},
   "source": [
    "然而\n",
    "* **并非所有输入词元（源语句）对解码时某个词元都有帮助**\n",
    "* 解码器在每个时间步都使用相同的上下文变量 $c$"
   ]
  },
  {
   "attachments": {},
   "cell_type": "markdown",
   "metadata": {},
   "source": [
    "在预测词元时，如果不是所有输入词元都相关，**模型应该仅关注输入序列中与当前预测相关的部分**，而这可以通过**将上下文变量视为注意力集中的输出来实现**"
   ]
  },
  {
   "attachments": {},
   "cell_type": "markdown",
   "metadata": {},
   "source": [
    "相较于原始的 RNN 编码器-解码器架构，我们现在来**更新上下文变量** $c$，在解码器预测的每个时间步 $t'$，假设输入序列长度为 $T$ 包含 $T$ 个词元，则解码器 $t'$ 时上下文变量 $c_{t'}$ 是下面注意力池化的输出：\n",
    "$$\n",
    "c_{t'} = \\sum_{t=1}^{T} w(s_{t'-1}, h_t)h_t\n",
    "$$"
   ]
  },
  {
   "attachments": {},
   "cell_type": "markdown",
   "metadata": {},
   "source": [
    "其中，$s_{t'-1}$ 是时间步 $t'-1$ **解码器的隐状态**，它作为 `query`，$h_t$ 是**编码器在编码器每个时间步** $t$ 的**隐状态**，它**同时作为** `key` 和 `value`，注意力分数使用**加性注意力**"
   ]
  },
  {
   "attachments": {},
   "cell_type": "markdown",
   "metadata": {},
   "source": [
    "下图演示了 Bahdanau 注意力架构示意图："
   ]
  },
  {
   "attachments": {},
   "cell_type": "markdown",
   "metadata": {},
   "source": [
    "<img src=\"../source/Chap5/Bahdanau注意力.svg\" width=700>"
   ]
  },
  {
   "attachments": {},
   "cell_type": "markdown",
   "metadata": {},
   "source": [
    "在实现上，我们只需要**重新定义解码器**，我们可以先定义**注意力解码器的基本接口** `AttentionDecoder`"
   ]
  },
  {
   "cell_type": "code",
   "execution_count": 13,
   "metadata": {},
   "outputs": [],
   "source": [
    "class AttentionDecoder(utils.Decoder):\n",
    "    def __init__(self, **kwargs):\n",
    "        super().__init__(**kwargs)\n",
    "    \n",
    "    # 获取当前解码器的注意力权重\n",
    "    @property\n",
    "    def attention_weights(self):\n",
    "        raise NotImplementedError"
   ]
  },
  {
   "attachments": {},
   "cell_type": "markdown",
   "metadata": {},
   "source": [
    "`AttentionDecoder` 已经写入 `../source/code/utils.py`"
   ]
  },
  {
   "attachments": {},
   "cell_type": "markdown",
   "metadata": {},
   "source": [
    "下面我们定义类 `Seq2SeqAttentionDecoder` 以实现带有 Bahdanau 注意力的 RNN 解码器\n",
    "* 为了**初始化解码器状态**，需要有以下输入：\n",
    "    * 编码器在**所有时间步** $t=1,\\cdots,T$ 的**最后一层隐状态**，它将作为注意力的 `key`, `value`\n",
    "    * 上一个时间步编码器全层的隐状态，用于**初始化解码器隐状态**\n",
    "    * **编码器处理输入的有效长度** `valid_len`，这用于排除注意力池化中不必要考虑的词元\n",
    "* 在每个解码器时间步 $t'$，将上一时间步 $t'-1$ 的最后一层隐状态 $s_{t'-1}$ 作为 `query`\n",
    "* 最后将注意力池化的输出 $c_{t'}$（**上下文变量**） 和**词元嵌入向量**共同作为解码器的输入"
   ]
  },
  {
   "cell_type": "code",
   "execution_count": 8,
   "metadata": {},
   "outputs": [],
   "source": [
    "class Seq2SeqAttentionDecoder(utils.AttentionDecoder):\n",
    "    def __init__(self, vocab_size, embed_size, num_hiddens, num_layers, dropout=0,**kwargs):\n",
    "        super().__init__(**kwargs)\n",
    "        # 注意力层\n",
    "        self.attention = ch5.AdditiveAttention(\n",
    "            query_size=num_hiddens, key_size=num_hiddens, num_hiddens=num_hiddens, dropout=dropout)\n",
    "        # 词嵌入层\n",
    "        self.embedding = tf.keras.layers.Embedding(vocab_size, embed_size)\n",
    "        # RNN 层\n",
    "        self.rnn = []\n",
    "        for i in range(num_layers):\n",
    "            self.rnn.append(tf.keras.layers.GRU(\n",
    "                num_hiddens, dropout=dropout, return_sequences=True, return_state=True))\n",
    "        self.dense = tf.keras.layers.Dense(vocab_size) # 输出层\n",
    "\n",
    "    def init_state(self, enc_outputs, enc_valid_len=None, *args, **kwargs):\n",
    "        # 解码器输出 enc_outputs 包含两个元素\n",
    "        # outputs 形状为 (batch_size, num_steps, num_hiddens)\n",
    "        # hidden_state 是一个列表，包含 num_layers 个元素\n",
    "        # 每一层 hidden_state[i] 也是列表\n",
    "        # 如果是单向 RNN，那么 hidden_state[i] 只包含一个元素，双向 RNN 包含两个元素\n",
    "        # 每个元素形状 (batch_size, num_hiddens)\n",
    "        outputs, hidden_state = enc_outputs\n",
    "        hidden_state = [tf.concat(layer_state, axis=1) for layer_state in hidden_state]\n",
    "        \n",
    "        # 将 valid_len 一起返回，便于注意力掩蔽\n",
    "        return (outputs, hidden_state, enc_valid_len) \n",
    "\n",
    "    def call(self, X, state, **kwargs):\n",
    "        # 从初始化状态中取出 enc_outputs, hidden_state, enc_valid_len\n",
    "        enc_outputs, hidden_state, enc_valid_len = state\n",
    "\n",
    "        # 进行词嵌入\n",
    "        X = self.embedding(X) # 形状为 (batch_size, num_steps, embed_size)\n",
    "        X = tf.transpose(X, perm=[1, 0, 2]) # 转置为 (num_steps, batch_size, embed_size)\n",
    "        outputs, self._attn_weights = [], [] # 注意力输出和注意力权重\n",
    "\n",
    "        # 依次取出每个时间步\n",
    "        for x in X:\n",
    "            # x 的形状为 (batch_size, embed_size)\n",
    "            # 初始化 query，形状为 (batch_size, n_q = 1, num_hiddens)\n",
    "            query = tf.expand_dims(hidden_state[-1], axis=1)\n",
    "            # 利用注意力机制计算上下文变量\n",
    "            # key, value 的形状为 (batch_size, n_k = n_v = num_steps, num_hiddens)\n",
    "            # context 的形状为 (batch_size, n_q = 1, num_hiddens)\n",
    "            # 传入 enc_valid_len 便于注意力掩蔽\n",
    "            context = self.attention(query, enc_outputs, enc_outputs, enc_valid_len, **kwargs)\n",
    "\n",
    "            # 将上下文和嵌入词特征拼接\n",
    "            # 拼接后形状为 (batch_size, 1, embed_size + num_hiddens)\n",
    "            x = tf.concat((context, tf.expand_dims(x, axis=1)), axis=-1)\n",
    "\n",
    "            # RNN 层计算\n",
    "            for i,layer in enumerate(self.rnn):\n",
    "                # 逐层计算时，同时更新隐藏状态\n",
    "                x, hidden_state[i] = layer(x, hidden_state[i], **kwargs)\n",
    "            \n",
    "            # x 形状为 (batch_size, 1, num_hiddens)\n",
    "            outputs.append(x) # 添加到输出列表中\n",
    "            self._attn_weights.append(self.attention.attn_weights) # 添加注意力权重\n",
    "\n",
    "        # 计算输出层\n",
    "        outputs = tf.concat(outputs, axis=1) # 形状 (batch_size, num_steps, num_hiddens)\n",
    "        outputs = tf.nn.softmax(self.dense(outputs), axis=-1) # 形状 (batch_size, num_steps, vocab_size)\n",
    "\n",
    "        return outputs, (enc_outputs, hidden_state, enc_valid_len)\n",
    "\n",
    "    # 获取注意力权重\n",
    "    @property\n",
    "    def attention_weights(self):\n",
    "        return self._attn_weights"
   ]
  },
  {
   "attachments": {},
   "cell_type": "markdown",
   "metadata": {},
   "source": [
    "我们沿用上一章中定义的编码器，注意当时我们**在编码器上使用了双向 RNN**\n",
    "* 这会使得它的**输出**，**隐藏状态的隐藏维度是单向 RNN 的两倍**\n",
    "* 此时，需要设置解码器的 `num_hiddens` 是**编码器的两倍**"
   ]
  },
  {
   "attachments": {},
   "cell_type": "markdown",
   "metadata": {},
   "source": [
    "先测试一下编码器-解码器工作是否正确"
   ]
  },
  {
   "cell_type": "code",
   "execution_count": 12,
   "metadata": {},
   "outputs": [
    {
     "name": "stdout",
     "output_type": "stream",
     "text": [
      "输出形状： (4, 7, 10)\n",
      "编码器输出形状： (4, 7, 32)\n",
      "隐藏状态层数： 2\n",
      "第一个隐藏状态形状： (4, 32)\n"
     ]
    }
   ],
   "source": [
    "# 创建编码器-解码器模型\n",
    "encoder = ch4.Seq2SeqEncoder(vocab_size=10, embed_size=8, \n",
    "                             num_hiddens=16, num_layers=2, dropout=0.1)\n",
    "decoder = ch5.Seq2SeqAttentionDecoder(vocab_size=10, embed_size=8, \n",
    "                                      num_hiddens=2*16, num_layers=2, dropout=0.1)\n",
    "\n",
    "# 创建输入\n",
    "X = tf.zeros((4, 7)) # (batch_size, num_steps)\n",
    "state = decoder.init_state(encoder(X, training=False), None) # 初始化隐状态\n",
    "output, state = decoder(X, state, training=False) # 计算输出和更新隐状态\n",
    "print(\"输出形状：\", output.shape) # (batch_size, num_steps, vocab_size)\n",
    "print(\"编码器输出形状：\", state[0].shape) # (batch_size, num_steps, 2*num_hiddens)\n",
    "print(\"隐藏状态层数：\", len(state[1])) # num_layers = 2\n",
    "print(\"第一个隐藏状态形状：\", state[1][0].shape) # (batch_size, 2*num_hiddens)"
   ]
  },
  {
   "attachments": {},
   "cell_type": "markdown",
   "metadata": {},
   "source": [
    "最后，我们在机器翻译任务上实测模型\n",
    "* 为了**减少模型的训练时间**，我们这里仅设置 `num_steps = 10`"
   ]
  },
  {
   "cell_type": "code",
   "execution_count": 3,
   "metadata": {},
   "outputs": [
    {
     "name": "stderr",
     "output_type": "stream",
     "text": [
      "  0%|          | 0/322275 [00:00<?, ?it/s]Building prefix dict from the default dictionary ...\n",
      "Loading model from cache /tmp/jieba.cache\n",
      "Loading model cost 0.540 seconds.\n",
      "Prefix dict has been built successfully.\n",
      "100%|██████████| 322275/322275 [01:29<00:00, 3590.26it/s]\n",
      "2023-04-27 16:53:46.451981: I tensorflow/core/platform/cpu_feature_guard.cc:193] This TensorFlow binary is optimized with oneAPI Deep Neural Network Library (oneDNN) to use the following CPU instructions in performance-critical operations:  AVX2 AVX512F AVX512_VNNI FMA\n",
      "To enable them in other operations, rebuild TensorFlow with the appropriate compiler flags.\n",
      "2023-04-27 16:53:47.051895: I tensorflow/core/common_runtime/gpu/gpu_device.cc:1616] Created device /job:localhost/replica:0/task:0/device:GPU:0 with 30000 MB memory:  -> device: 0, name: Tesla V100-SXM2-32GB, pci bus id: 0000:1b:00.0, compute capability: 7.0\n"
     ]
    }
   ],
   "source": [
    "# 创建编码器解码器模型\n",
    "embed_size, num_hiddens, num_layers, dropout = 32, 64, 2, 0.25\n",
    "batch_size, num_steps = 1024, 10\n",
    "\n",
    "# 读取数据\n",
    "train_iter, src_vocab, tgt_vocab = ch4.load_translation_en_zh(\n",
    "    file=\"../source/data/translation/news_v16-en-zh.tsv\",\n",
    "    batch_size=batch_size, num_steps=num_steps)\n",
    "\n",
    "# 创建编码器-解码器模型\n",
    "encoder = ch4.Seq2SeqEncoder(vocab_size=len(src_vocab), embed_size=embed_size, \n",
    "                             num_hiddens=num_hiddens, num_layers=num_layers, dropout=dropout)\n",
    "decoder = ch5.Seq2SeqAttentionDecoder(vocab_size=len(tgt_vocab), embed_size=embed_size, \n",
    "                                      num_hiddens=2*num_hiddens, num_layers=num_layers, dropout=dropout)\n",
    "model = utils.EncoderDecoder(encoder, decoder)"
   ]
  },
  {
   "cell_type": "code",
   "execution_count": 4,
   "metadata": {},
   "outputs": [
    {
     "name": "stdout",
     "output_type": "stream",
     "text": [
      "平均 472415.7 词元/秒\n"
     ]
    },
    {
     "data": {
      "image/png": "[encoded data removed]",
      "text/plain": [
       "<Figure size 500x300 with 1 Axes>"
      ]
     },
     "metadata": {},
     "output_type": "display_data"
    }
   ],
   "source": [
    "model = utils.train_seq2seq(model, train_iter, tgt_vocab, Epochs=50, lr=0.005)"
   ]
  },
  {
   "cell_type": "code",
   "execution_count": 64,
   "metadata": {},
   "outputs": [],
   "source": [
    "# model.save_weights(\"../source/model/ch5_translation_Bahdanau_en_zh.h5\")"
   ]
  },
  {
   "attachments": {},
   "cell_type": "markdown",
   "metadata": {},
   "source": [
    "我们测试模型的预测结果"
   ]
  },
  {
   "cell_type": "code",
   "execution_count": 57,
   "metadata": {},
   "outputs": [
    {
     "name": "stdout",
     "output_type": "stream",
     "text": [
      "he says america will not invade others . \n",
      "=> 他说，美国不会入侵美国。, bleu 0.759\n",
      "peace is what we want . \n",
      "=> 和平是我们的和平。, bleu 0.615\n",
      "cool ! the brother came back ! \n",
      "=> “大哥”归来！, bleu 0.548\n"
     ]
    }
   ],
   "source": [
    "# 句子对\n",
    "pairs = [[\"he says america will not invade others .\", \"他说，美国不会入侵他国。\",],\n",
    "         [\"peace is what we want .\", \"和平是我们所希望的。\",],\n",
    "         [\"cool ! the brother came back !\", \"酷！大哥归来！\",]]\n",
    "# 保存注意力权重\n",
    "attention_weights = []\n",
    "translations = []\n",
    "# 评估模型\n",
    "for en, zh in pairs:\n",
    "    trans, dec_attn_weights = utils.predict_seq2seq(\n",
    "        model, en, src_vocab, tgt_vocab, num_steps=num_steps, num_preds=10, save_attention_weights=True)\n",
    "    translations.append(list(jieba.cut(trans)))\n",
    "    # 变换注意力权重的形状为 (1, 1, num_preds, num_steps)\n",
    "    dec_attn_weights = tf.reshape(\n",
    "        tf.concat([step[0][0][0] for step in dec_attn_weights], axis=0), (1, 1, -1, num_steps))\n",
    "    attention_weights.append(dec_attn_weights)\n",
    "    # 计算 BLEU\n",
    "    bleu = utils.chinese_bleu(zh, trans, k=2)\n",
    "    print(f\"{en} \\n=> {trans}, bleu {bleu:.3f}\")"
   ]
  },
  {
   "attachments": {},
   "cell_type": "markdown",
   "metadata": {},
   "source": [
    "接下来绘制注意力权重的分布，观察**解码器在每个词翻译时，将注意力放置到哪个位置**\n",
    "* 对于大部分语句的翻译，可以观察到随着翻译词元 $y_{t'}$ 的**时间步从左到右**（$t'=1,\\cdots,T'$），**翻译当前词时，模型的注意力也在源文本序列的时间步上从左到右移动**\n",
    "* 因为提供了 `valid_lens`，模型的**注意力不会被分配到填充词元** `<pad>` 上"
   ]
  },
  {
   "cell_type": "code",
   "execution_count": 65,
   "metadata": {},
   "outputs": [],
   "source": [
    "from matplotlib import font_manager\n",
    "font = font_manager.FontProperties(fname=\"../source/fonts/SimHei.ttf\") # 读取中文字体"
   ]
  },
  {
   "cell_type": "code",
   "execution_count": 79,
   "metadata": {},
   "outputs": [
    {
     "data": {
      "image/png": "[encoded data removed]",
      "text/plain": [
       "<Figure size 600x700 with 2 Axes>"
      ]
     },
     "metadata": {},
     "output_type": "display_data"
    }
   ],
   "source": [
    "ax = utils.show_attention(attention_weights[0],\n",
    "                     xlabel='Key posistions', ylabel='Query posistions',figsize=(6, 7))\n",
    "ax = ax.flatten()\n",
    "ax[0].set_xticks(range(len(pairs[0][0].split()) + 1))\n",
    "_ = ax[0].set_xticklabels(pairs[0][0].split() + [\"<eos>\"], rotation=45)\n",
    "ax[0].set_yticks(range(len(translations[0]) + 1))\n",
    "_ = ax[0].set_yticklabels(translations[0] + [\"<eos>\"],fontproperties=font)"
   ]
  },
  {
   "cell_type": "code",
   "execution_count": 75,
   "metadata": {},
   "outputs": [
    {
     "data": {
      "image/png": "[encoded data removed]",
      "text/plain": [
       "<Figure size 500x500 with 2 Axes>"
      ]
     },
     "metadata": {},
     "output_type": "display_data"
    }
   ],
   "source": [
    "ax = utils.show_attention(attention_weights[1],\n",
    "                     xlabel='Key posistions', ylabel='Query posistions',figsize=(5, 5))\n",
    "ax = ax.flatten()\n",
    "ax[0].set_xticks(range(len(pairs[1][0].split()) + 1))\n",
    "_ = ax[0].set_xticklabels(pairs[1][0].split() + [\"<eos>\"], rotation=45)\n",
    "ax[0].set_yticks(range(len(translations[1]) + 1))\n",
    "_ = ax[0].set_yticklabels(translations[1] + [\"<eos>\"],fontproperties=font)"
   ]
  },
  {
   "cell_type": "code",
   "execution_count": 76,
   "metadata": {},
   "outputs": [
    {
     "data": {
      "image/png": "[encoded data removed]",
      "text/plain": [
       "<Figure size 600x500 with 2 Axes>"
      ]
     },
     "metadata": {},
     "output_type": "display_data"
    }
   ],
   "source": [
    "ax = utils.show_attention(attention_weights[2],\n",
    "                     xlabel='Key posistions', ylabel='Query posistions',figsize=(6, 5))\n",
    "ax = ax.flatten()\n",
    "ax[0].set_xticks(range(len(pairs[2][0].split()) + 1))\n",
    "_ = ax[0].set_xticklabels(pairs[2][0].split() + [\"<eos>\"], rotation=45)\n",
    "ax[0].set_yticks(range(len(translations[2]) + 1))\n",
    "_ = ax[0].set_yticklabels(translations[2] + [\"<eos>\"],fontproperties=font)"
   ]
  },
  {
   "attachments": {},
   "cell_type": "markdown",
   "metadata": {},
   "source": [
    "### **5.2.3 多头注意力**"
   ]
  },
  {
   "attachments": {},
   "cell_type": "markdown",
   "metadata": {},
   "source": [
    "在实践中，当给定相同的 `query`、`key` 和 `value` 集合时。我们希望**模型可以基于相同的注意力机制学习到不同的行为**，最后**再把不同的行为作为知识组合起来**，从而**捕获序列内各种范围的依赖关系**（例如分别捕捉**短距离依赖**和**长距离依赖**）"
   ]
  },
  {
   "attachments": {},
   "cell_type": "markdown",
   "metadata": {},
   "source": [
    "这类似于 CNN 中，我们希望**同一个位置像素在不同通道上拥有一组而不只是一个特征表达**，因此我们会使用多输入多输出通道的卷积层，不同的卷积核提取不同类型的特征，最后再组合\n",
    "* 我们希望注意力机制也能有类似的**多通道特点**，允许注意力机制组合使用 `query`、`key` 和 `value` 的**不同子空间表示** 一般是有益的"
   ]
  },
  {
   "attachments": {},
   "cell_type": "markdown",
   "metadata": {},
   "source": [
    "为此，与其只使用单独一个注意力汇聚，我们可以独立学习得到 $H$ 组不同的注意力汇聚结果，具体地：\n",
    "* 先用 $H$ 组不同的线性变换将 `query`, `key`, `value` 变换形状\n",
    "* 将每组变换形状后的 `query`, `key`, `value` 进行**注意力汇聚**操作\n",
    "* 将 $H$ 组注意力汇聚的输出**在特征维度上拼接在一起**，再通过另一个可以学习的线性变换转换到最终的输出"
   ]
  },
  {
   "attachments": {},
   "cell_type": "markdown",
   "metadata": {},
   "source": [
    "这种设计称为**多头注意力**（**Multihead Attention**），其框架如下图所示："
   ]
  },
  {
   "attachments": {},
   "cell_type": "markdown",
   "metadata": {},
   "source": [
    "<img src=\"../source/Chap5/多头注意力.svg\" width=600>"
   ]
  },
  {
   "attachments": {},
   "cell_type": "markdown",
   "metadata": {},
   "source": [
    "我们来形式化这个过程，假设 `query` $q\\in\\mathbb{R}^q$，`key` $k_i\\in\\mathbb{R}^k$，`value` $v_i\\in\\mathbb{R}^{v}$，每个**注意力头** $h_j,j=1,2,\\cdots,H$ 的计算方式为：\n",
    "$$\n",
    "h_j = f(W_j^{(q)}q, W_j^{(k)}k_i, W_j^{(v)}v_i) \\in\\mathbb{R}^{d_v}\n",
    "$$"
   ]
  },
  {
   "attachments": {},
   "cell_type": "markdown",
   "metadata": {},
   "source": [
    "其中，$W_j^{(q)}\\in\\mathbb{R}^{d_q\\times q},W_j^{(k)}\\in\\mathbb{R}^{d_k\\times k},W_j^{(v)}\\in\\mathbb{R}^{d_v\\times v}$ 是可学习参数，$f$ 表示**注意力汇聚函数**，例如上面介绍的**缩放点积注意力**或者**加性注意力**，**多头注意力通过一个线性变换** $W_o\\in\\mathbb{R}^{o\\times H\\cdot d_v}$，**将** $H$ **个头拼接后的结果，变换到所需要的维度** $o$：\n",
    "$$\n",
    "W_o\\left[\n",
    "\\begin{array}{c}\n",
    "h_1 \\\\\n",
    "\\vdots\\\\\n",
    "h_H\n",
    "\\end{array}\n",
    "\\right] \\in\\mathbb{R}^{o}\n",
    "$$"
   ]
  },
  {
   "attachments": {},
   "cell_type": "markdown",
   "metadata": {},
   "source": [
    "这样，**每个头** $h_i$ **就可以关注输入的不同部分，使整个模型有更强的学习力**"
   ]
  },
  {
   "attachments": {},
   "cell_type": "markdown",
   "metadata": {},
   "source": [
    "我们下面来实现多头注意力\n",
    "* 在实现过程中**通常选择缩放点积注意力**作为每一个注意力头，这能避免计算代价和参数代价的大幅增长\n",
    "* 我们设定 $d_q = d_k = d_v = o / H$\n",
    "* 实践中，如果将 `query`、`key` 和 `value` 的线性变换的输出数量设置为 $d_pH = d_kH = d_vH = o$，则**可以并行计算** $H$ **个头**，在实现中，输出维度 $o$ 通过参数 `num_hiddens` 指定"
   ]
  },
  {
   "cell_type": "code",
   "execution_count": 80,
   "metadata": {},
   "outputs": [],
   "source": [
    "def transpose_qkv(X, num_heads):\n",
    "    \"\"\"\n",
    "    对输入进行变换，便于多注意力头的并行计算\n",
    "    \"\"\"\n",
    "    # 输入X的形状 (batch_size, n_q 或 n_k, num_hiddens)\n",
    "    # 先变换形状为 (batch_size, n_q 或 n_k, num_heads, num_hiddens / num_heads)\n",
    "    X = tf.reshape(X, shape=(X.shape[0], X.shape[1], num_heads, -1))\n",
    "\n",
    "    # 交换中间两个轴顺序\n",
    "    # 变换形状为 (batch_size, num_heads, n_q 或 n_k, num_hiddens / num_heads)\n",
    "    X = tf.transpose(X, perm=(0, 2, 1, 3))\n",
    "\n",
    "    # 合并第一第二个轴，形状变为 (batch_size * num_heads, n_q 或 n_k, num_hiddens / num_heads)\n",
    "    return tf.reshape(X, shape=(-1, X.shape[2], X.shape[3]))"
   ]
  },
  {
   "cell_type": "code",
   "execution_count": 81,
   "metadata": {},
   "outputs": [],
   "source": [
    "def transpose_output(X, num_heads):\n",
    "    \"\"\"\n",
    "    逆转 transpose_qkv 函数的操作\n",
    "    \"\"\"\n",
    "    # 输入 X 的形状 (batch_size * num_heads, n_q, num_hiddens / num_heads)\n",
    "    # 先拆分第一第二个轴，形状变为 (batch_size, num_heads, n_q, num_hiddens / num_heads)\n",
    "    X = tf.reshape(X, shape=(-1, num_heads, X.shape[1], X.shape[2]))\n",
    "    \n",
    "    # 交换中间两个轴顺序，形状变为 (batch_size, n_q, num_heads, num_hiddens / num_heads)\n",
    "    X = tf.transpose(X, perm=(0, 2, 1, 3))\n",
    "\n",
    "    # 最后合并多头注意力，将最后两个轴合并\n",
    "    # 输出形状为 (batch_size, n_q, num_hiddens)\n",
    "    return tf.reshape(X, shape=(X.shape[0], X.shape[1], -1))"
   ]
  },
  {
   "cell_type": "code",
   "execution_count": 82,
   "metadata": {},
   "outputs": [],
   "source": [
    "class MultiHeadAttention(tf.keras.layers.Layer):\n",
    "    def __init__(self, num_hiddens, num_heads, dropout, bias=False,\n",
    "                 trainable=True, name=None, dtype=None, dynamic=False, **kwargs):\n",
    "        super().__init__(trainable, name, dtype, dynamic, **kwargs)\n",
    "        self.num_hiddens = num_hiddens\n",
    "        self.num_heads = num_heads\n",
    "        self.attention = ch5.DotProductAttention(dropout=dropout)\n",
    "        # 我们会设定 d_p = d_q = d_v = d_o / h，这样可以并行计算多头注意力\n",
    "        self.W_q = tf.keras.layers.Dense(num_hiddens, use_bias=bias)\n",
    "        self.W_k = tf.keras.layers.Dense(num_hiddens, use_bias=bias)\n",
    "        self.W_v = tf.keras.layers.Dense(num_hiddens, use_bias=bias)\n",
    "        self.W_o = tf.keras.layers.Dense(num_hiddens, use_bias=bias)\n",
    "    \n",
    "    def call(self, queries, keys, values, valid_lens=None, *args, **kwargs):\n",
    "        # queries 形状 (batch_size, n_q, num_hiddens)\n",
    "        # keys, values 形状 (batch_size, n_k = n_v, num_hiddens)\n",
    "        # valid_lens 形状 (batch_size,) 或者 (batch_size, n_q)\n",
    "\n",
    "        # 首先变换 qeuries、keys 和 values 的维度到 num_hiddeans\n",
    "        # 变换后形状变为 (batch_size * num_heads, n_q 或 n_k, num_hiddens / num_heads)\n",
    "        queries = transpose_qkv(self.W_q(queries), self.num_heads) \n",
    "        keys = transpose_qkv(self.W_k(keys), self.num_heads) \n",
    "        values = transpose_qkv(self.W_v(values), self.num_heads) \n",
    "        \n",
    "        # 变换 valid_lens 的形状，用于多头注意力\n",
    "        if valid_lens is not None:\n",
    "            # 在轴 0 上重复 num_heads 次\n",
    "            valid_lens = tf.repeat(valid_lens, repeats=self.num_heads, axis=0)\n",
    "        \n",
    "        # 做注意力池化\n",
    "        # 输出形状为 (batch_size * num_heads, n_q, num_hiddens / num_heads)\n",
    "        output = self.attention(queries, keys, values, valid_lens, **kwargs)\n",
    "\n",
    "        # 最后恢复输出的形状\n",
    "        output_concat = transpose_output(output, self.num_heads)\n",
    "        return self.W_o(output_concat) # 对输出再做一次变换"
   ]
  },
  {
   "cell_type": "code",
   "execution_count": 83,
   "metadata": {},
   "outputs": [
    {
     "data": {
      "text/plain": [
       "TensorShape([2, 4, 128])"
      ]
     },
     "execution_count": 83,
     "metadata": {},
     "output_type": "execute_result"
    }
   ],
   "source": [
    "# 创建多头注意力\n",
    "num_hiddens, num_heads = 128, 4\n",
    "attention = MultiHeadAttention(num_hiddens, num_heads, dropout=0.5)\n",
    "# 输入\n",
    "batch_size, num_queries, num_kvpairs = 2, 4, 6\n",
    "valid_lens = tf.constant([3, 2])\n",
    "# 生成 queries, keys, values\n",
    "queries = tf.ones((batch_size, num_queries, num_hiddens))\n",
    "keys = tf.ones((batch_size, num_kvpairs, num_hiddens))\n",
    "values = tf.ones((batch_size, num_kvpairs, num_hiddens))\n",
    "# 注意力池化\n",
    "attention(queries, keys, values, valid_lens, training=False).shape"
   ]
  },
  {
   "attachments": {},
   "cell_type": "markdown",
   "metadata": {},
   "source": [
    "----"
   ]
  },
  {
   "attachments": {},
   "cell_type": "markdown",
   "metadata": {},
   "source": [
    "### **练习**"
   ]
  },
  {
   "attachments": {},
   "cell_type": "markdown",
   "metadata": {},
   "source": [
    "1. 在 Bahdanau 注意力实现的机器翻译的例子中，我们来进一步思考：\n",
    "    1. 你可以尝试对模型进行改动，例如**改变编码器**，将**加性注意力替换为缩短点积注意力**，或者是使用多头注意力等\n",
    "    2. 尝试训练模型，**模型训练速度缓慢，你无需迭代多次**，仅通过调试确认模型的计算逻辑正确即可\n",
    "    3. 将加性注意力替换为缩短点积注意力，**对模型有哪些影响**？\n",
    "    4. 思考，现在**注意力机制只用在了解码器上**，编码器可以加入注意力机制吗？你有什么设想？它能带来什么优势吗？"
   ]
  },
  {
   "attachments": {},
   "cell_type": "markdown",
   "metadata": {},
   "source": [
    "----"
   ]
  }
 ],
 "metadata": {
  "kernelspec": {
   "display_name": "tensorflow",
   "language": "python",
   "name": "python3"
  },
  "language_info": {
   "codemirror_mode": {
    "name": "ipython",
    "version": 3
   },
   "file_extension": ".py",
   "mimetype": "text/x-python",
   "name": "python",
   "nbconvert_exporter": "python",
   "pygments_lexer": "ipython3",
   "version": "3.9.16"
  },
  "orig_nbformat": 4
 },
 "nbformat": 4,
 "nbformat_minor": 2
}
