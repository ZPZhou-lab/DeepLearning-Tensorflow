{
 "cells": [
  {
   "cell_type": "code",
   "execution_count": 2,
   "metadata": {},
   "outputs": [],
   "source": [
    "import tensorflow as tf\n",
    "import numpy as np\n",
    "import cv2\n",
    "from matplotlib import pyplot as plt\n",
    "from source.code import ch3\n",
    "from source.code import utils"
   ]
  },
  {
   "cell_type": "code",
   "execution_count": 3,
   "metadata": {},
   "outputs": [],
   "source": [
    "utils.gpu_limitation_config(memory=12)"
   ]
  },
  {
   "cell_type": "markdown",
   "metadata": {},
   "source": [
    "1. 模仿本节中设计的垂直边缘检测卷积，**手动设计一个水平边缘检测卷积**"
   ]
  },
  {
   "cell_type": "code",
   "execution_count": 4,
   "metadata": {},
   "outputs": [],
   "source": [
    "#创建图像\n",
    "X, Y = np.linspace(-2,2,50), np.linspace(-2,2,50)\n",
    "X, Y = np.meshgrid(X,Y)\n",
    "image = np.zeros_like(X)\n",
    "image[X**2 + Y**2 <= 1] = 1 # 圆 x^2 + y^2 <= 1"
   ]
  },
  {
   "cell_type": "code",
   "execution_count": 6,
   "metadata": {},
   "outputs": [],
   "source": [
    "# 创建2*1水平边缘检测的卷积核\n",
    "kernel = tf.constant([[1.0], [-1.0]])\n",
    "H = ch3.corr2d(X=tf.constant(image,dtype=tf.float32),kernel=kernel)"
   ]
  },
  {
   "cell_type": "code",
   "execution_count": 7,
   "metadata": {},
   "outputs": [
    {
     "data": {
      "image/png": "[encoded data removed]",
      "text/plain": [
       "<Figure size 600x300 with 2 Axes>"
      ]
     },
     "metadata": {},
     "output_type": "display_data"
    }
   ],
   "source": [
    "fig, ax = plt.subplots(1,2,figsize=(6,3))\n",
    "ax = ax.flatten()\n",
    "ax[0].imshow(image,cmap=plt.cm.Blues) # 原始图像\n",
    "ax[1].imshow(H.numpy(),cmap=plt.cm.Blues) # 卷积核运算后的结果\n",
    "plt.tight_layout()"
   ]
  },
  {
   "cell_type": "markdown",
   "metadata": {},
   "source": [
    "2. 我们再一次深入讨论卷积的计算问题、\n",
    "   1. 利用 `Tensorflow` 的自动梯度，尝试让我们在3.2.3节中，自定义的 `corr2d()` 的卷积计算输出对卷积核 `kernal` 求梯度，结果是什么？（你可以直接查看 `ch3.corr2d` 的代码）\n",
    "   2. 理解卷积的运算过程后，尝试改变输入张量`X`和卷积核张量 `kernel` （或者在输入张量和卷积核张量的基础上加工其他变量），将互相关运算 `corr2d()` 表示为**矩阵乘法**\n",
    "      * 定义**矩阵乘法卷积运算** `MatMultiplyCorr2d()` ，当给定相同的输入和卷积核时，它的输出结果应该与 `corr2d()` 完全相同\n",
    "      * 函数 `MatMultiplyCorr2d()` 的接口和参数说明已经定义在下方\n",
    "   3. 尝试让 `MatMultiplyCorr2d()` 的计算输出对卷积核 `kernal` 求梯度，这时候梯度存在吗？"
   ]
  },
  {
   "cell_type": "code",
   "execution_count": 8,
   "metadata": {},
   "outputs": [],
   "source": [
    "X = tf.constant([[0.0, 1.0, 2.0], [3.0, 4.0, 5.0], [6.0, 7.0, 8.0]])\n",
    "kernel = tf.constant([[0.0, 1.0], [2.0, 3.0]])"
   ]
  },
  {
   "cell_type": "code",
   "execution_count": 9,
   "metadata": {},
   "outputs": [
    {
     "name": "stdout",
     "output_type": "stream",
     "text": [
      "None\n"
     ]
    }
   ],
   "source": [
    "with tf.GradientTape() as tape:\n",
    "    H = ch3.corr2d(X,kernel)\n",
    "grad = tape.gradient(H,kernel)\n",
    "print(grad)"
   ]
  },
  {
   "cell_type": "markdown",
   "metadata": {},
   "source": [
    "梯度不存在？"
   ]
  },
  {
   "cell_type": "code",
   "execution_count": 11,
   "metadata": {},
   "outputs": [],
   "source": [
    "def MatMultiplyCorr2d(X : tf.Tensor, kernel : tf.Tensor):\n",
    "    \"\"\"\n",
    "    MatMultiplyCorr2d(X : tf.Tensor, kernel : tf.Tensor)\n",
    "        矩阵乘法实现卷积运算\n",
    "    \n",
    "    Parameters\n",
    "    ----------\n",
    "    X : tf.Tensor\n",
    "        输入特征，二维张量，维度`(n_h, n_w)`\n",
    "    kernel : tf.Tensor\n",
    "        卷积核，二维张量，维度`(k_h, k_w)`\n",
    "    \"\"\"\n",
    "    # 在下面编写你的代码\n",
    "    # 你可以参考 corr2d 的实现逻辑\n",
    "    n_h, n_w = X.shape\n",
    "    k_h, k_w = kernel.shape\n",
    "    Y = tf.Variable(tf.zeros((n_h - k_h + 1,n_w - k_w + 1)))\n",
    "    for i in range(Y.shape[0]):\n",
    "        for j in range(Y.shape[1]):\n",
    "            Y[i,j].assign(tf.reduce_sum(tf.matmul(X[i:i+k_h, j:j+k_w],kernel)))\n",
    "    return Y"
   ]
  },
  {
   "cell_type": "code",
   "execution_count": 13,
   "metadata": {},
   "outputs": [
    {
     "name": "stdout",
     "output_type": "stream",
     "text": [
      "None\n"
     ]
    }
   ],
   "source": [
    "with tf.GradientTape() as tape:\n",
    "    H2 = MatMultiplyCorr2d(X,kernel)\n",
    "grad = tape.gradient(H2,kernel)\n",
    "print(grad)"
   ]
  },
  {
   "cell_type": "markdown",
   "metadata": {},
   "source": [
    "还是不存在？？"
   ]
  },
  {
   "cell_type": "markdown",
   "metadata": {},
   "source": [
    "3. 完成下面的计算\n",
    "   1. 假设输入图像的大小是 $16\\times 16$，卷积核尺寸 $3\\times 5$，使用自动填充（即设定`padding = \"same\"`），步幅大小 $2\\times 2$，则输出图像的大小是多少？\n",
    "   2. 考虑如下的卷积神经网络结构：\n",
    "      ```python\n",
    "      model = tf.keras.models.Sequential([\n",
    "         tf.keras.layers.Input(shape=(32,32,3)),\n",
    "         # 第一层卷积\n",
    "         tf.keras.layers.Conv2D(6,kernel_size=5,padding=\"same\",activation=\"relu\"),\n",
    "         tf.keras.layers.AvgPool2D(pool_size=2, strides=2),\n",
    "\n",
    "         # 第二层卷积\n",
    "         tf.keras.layers.Conv2D(16,kernel_size=3,activation=\"relu\"),\n",
    "         tf.keras.layers.AvgPool2D(pool_size=2, strides=2),\n",
    "\n",
    "         # 第三层卷积\n",
    "         tf.keras.layers.Conv2D(32,kernel_size=3,activation=\"relu\")\n",
    "      ])\n",
    "      ```\n",
    "      请问，**模型最后一层卷积输出的每个像素的感受野是多大**？"
   ]
  },
  {
   "cell_type": "markdown",
   "metadata": {},
   "source": [
    "1. 输出大小应为 $8 \\times 8$"
   ]
  },
  {
   "cell_type": "markdown",
   "metadata": {},
   "source": [
    "2. 逐层分析\n",
    "    1. 输入层感受野：1\n",
    "    2. 第一层的卷积层感受野：$5 \\times 5 \\times 3$\n",
    "    3. 第一层的池化层感受野：$6 \\times 6 \\times 3$\n",
    "    4. 第二层的卷积层感受野：$10 \\times 10 \\times3$\n",
    "    5. 第二层的池化层感受野：$12 \\times 12 \\times 3$\n",
    "    6. 第三层的池化层感受野：$20 \\times 20 \\times 3$"
   ]
  }
 ],
 "metadata": {
  "kernelspec": {
   "display_name": "Python 3 (ipykernel)",
   "language": "python",
   "name": "python3"
  },
  "language_info": {
   "codemirror_mode": {
    "name": "ipython",
    "version": 3
   },
   "file_extension": ".py",
   "mimetype": "text/x-python",
   "name": "python",
   "nbconvert_exporter": "python",
   "pygments_lexer": "ipython3",
   "version": "3.9.16"
  }
 },
 "nbformat": 4,
 "nbformat_minor": 2
}
