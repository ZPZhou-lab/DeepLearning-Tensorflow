{
 "cells": [
  {
   "attachments": {},
   "cell_type": "markdown",
   "metadata": {},
   "source": [
    "# **Chap 7：自然语言处理**"
   ]
  },
  {
   "cell_type": "code",
   "execution_count": 1,
   "metadata": {},
   "outputs": [
    {
     "name": "stderr",
     "output_type": "stream",
     "text": [
      "2023-05-31 11:09:06.271779: I tensorflow/core/platform/cpu_feature_guard.cc:193] This TensorFlow binary is optimized with oneAPI Deep Neural Network Library (oneDNN) to use the following CPU instructions in performance-critical operations:  AVX2 AVX512F AVX512_VNNI FMA\n",
      "To enable them in other operations, rebuild TensorFlow with the appropriate compiler flags.\n",
      "2023-05-31 11:09:06.458791: I tensorflow/core/util/util.cc:169] oneDNN custom operations are on. You may see slightly different numerical results due to floating-point round-off errors from different computation orders. To turn them off, set the environment variable `TF_ENABLE_ONEDNN_OPTS=0`.\n",
      "2023-05-31 11:09:06.491476: E tensorflow/stream_executor/cuda/cuda_blas.cc:2981] Unable to register cuBLAS factory: Attempting to register factory for plugin cuBLAS when one has already been registered\n",
      "2023-05-31 11:09:07.619773: W tensorflow/stream_executor/platform/default/dso_loader.cc:64] Could not load dynamic library 'libnvinfer.so.7'; dlerror: libnvinfer.so.7: cannot open shared object file: No such file or directory; LD_LIBRARY_PATH: :/home/chenguangze/software/miniconda3/lib/:/home/chenguangze/software/miniconda3/lib/:/home/chenguangze/software/miniconda3/envs/tensorflow/lib/\n",
      "2023-05-31 11:09:07.619922: W tensorflow/stream_executor/platform/default/dso_loader.cc:64] Could not load dynamic library 'libnvinfer_plugin.so.7'; dlerror: libnvinfer_plugin.so.7: cannot open shared object file: No such file or directory; LD_LIBRARY_PATH: :/home/chenguangze/software/miniconda3/lib/:/home/chenguangze/software/miniconda3/lib/:/home/chenguangze/software/miniconda3/envs/tensorflow/lib/\n",
      "2023-05-31 11:09:07.619930: W tensorflow/compiler/tf2tensorrt/utils/py_utils.cc:38] TF-TRT Warning: Cannot dlopen some TensorRT libraries. If you would like to use Nvidia GPU with TensorRT, please make sure the missing libraries mentioned above are installed properly.\n"
     ]
    }
   ],
   "source": [
    "import tensorflow as tf\n",
    "import matplotlib\n",
    "from matplotlib import pyplot as plt\n",
    "import numpy as np\n",
    "import time\n",
    "from source.code import ch7\n",
    "from source.code import utils "
   ]
  },
  {
   "cell_type": "code",
   "execution_count": 2,
   "metadata": {},
   "outputs": [],
   "source": [
    "# 如果你要在服务器上和别人共用GPU，可以设置你需要的显存资源\n",
    "utils.gpu_limitation_config(memory=30,device=1)"
   ]
  },
  {
   "attachments": {},
   "cell_type": "markdown",
   "metadata": {},
   "source": [
    "## **7.1 词嵌入 word2vec**"
   ]
  },
  {
   "attachments": {},
   "cell_type": "markdown",
   "metadata": {},
   "source": [
    "### **7.1.1 自监督的词向量表示 word2vec**"
   ]
  },
  {
   "attachments": {},
   "cell_type": "markdown",
   "metadata": {},
   "source": [
    "**(1) 词向量表示的背景**"
   ]
  },
  {
   "attachments": {},
   "cell_type": "markdown",
   "metadata": {},
   "source": [
    "在 `RNN` 部分的学习过程中，我们介绍了部分自然语言处理的相关知识，现在我们将进一步深入讨论"
   ]
  },
  {
   "attachments": {},
   "cell_type": "markdown",
   "metadata": {},
   "source": [
    "对文本这种序列进行建模时，我们通常需要先将文本按照某种规则**进行分词**（`tokenize`），然后**创建词表**（`Vocab`），词表负责将分词后的每个字符串映射到一个**整数索引**，但在输入给模型之前，我们不会直接使用整数索引，因为**索引变换范围很大**（`[0, vocab_size]`），这会带来极大的**数值不稳定性**"
   ]
  },
  {
   "attachments": {},
   "cell_type": "markdown",
   "metadata": {},
   "source": [
    "一种处理这种离散编码的方案是**One Hot编码**（虽然我们在 `RNN` 一节中没有使用），它将索引为 $i$ 的变量编码到一个长度为 `vocab_size` 的 **01 二值向量**，使其第 $i$ 个分量为 1，其余分量为 0\n",
    "* 独热编码虽然思想简单，操作容易，但通常并不是一个合适的选择\n",
    "* 一方面，它会带来**稀疏矩阵**的问题，浪费不必要的内存空间\n",
    "* 另一方面，词元的独热编码表示依然没办法满足**相近含义的词应该有相近的词向量表示**的要求"
   ]
  },
  {
   "attachments": {},
   "cell_type": "markdown",
   "metadata": {},
   "source": [
    "例如考虑两个词向量 $x,y\\in\\mathbb{R}^{p}$，计算它们的**余弦相似度**：\n",
    "$$\n",
    "\\frac{x^Ty}{\\|x\\| \\|y\\|} \\in [-1,1]\n",
    "$$"
   ]
  },
  {
   "attachments": {},
   "cell_type": "markdown",
   "metadata": {},
   "source": [
    "我们希望含义相近的词具有越高的预先相似度，但**对于独热编码而言，任意两个词的余弦相似度都等于 0**"
   ]
  },
  {
   "attachments": {},
   "cell_type": "markdown",
   "metadata": {},
   "source": [
    "**(2) word2vec 模型**"
   ]
  },
  {
   "attachments": {},
   "cell_type": "markdown",
   "metadata": {},
   "source": [
    "因此，人们提出**嵌入层**（`Embedding Layer`）的概念，嵌入层负责将每个词元映射到一个固定维度 $p$ 的**稠密向量**，并希望该稠密向量空间能够正确表示词元的含义，`word2vec` 就是词嵌入重要的工作之一，word2vec 包含两种不同的建模思路：**跳元模型**（**Skip-Gram**），和**连续词袋**（**CBOW**）\n",
    "* 这两种模型都从语义的角度对文本序列建模，训练依赖于条件概率（即用文本序列中的一些词去预测另一些词）\n",
    "* 由于这些文本序列建模过程中，**不需要额外标注的标签信息**，文本序列建模的一大特点是可以从文本自身出发构造出标签，因此这类模型称为**自监督模型**"
   ]
  },
  {
   "attachments": {},
   "cell_type": "markdown",
   "metadata": {},
   "source": [
    "#### **跳元模型 Skip-Gram**"
   ]
  },
  {
   "attachments": {},
   "cell_type": "markdown",
   "metadata": {},
   "source": [
    "跳元模型假设**一个词可以用来在文本序列中生成其周围的词**，假设词元序列为 $x_1,x_2,\\cdots,x_T$，中心词是 $x_k$，并**将上下文窗口大小设置为** $2$，则建模考虑的条件概率为：\n",
    "$$\n",
    "P(x_{k-2},x_{k-1},x_{k+1},x_{k+2}|x_k)\n",
    "$$"
   ]
  },
  {
   "attachments": {},
   "cell_type": "markdown",
   "metadata": {},
   "source": [
    "如果**假设上下文词在给定中心词时是独立生成的**，则条件概率由独立性假设会变得更加简单：\n",
    "$$\n",
    "P(x_{k-2}|x_k)\\cdot P(x_{k-1}|x_k)\\cdot P(x_{k+1}|x_k)\\cdot P(x_{k+2}|x_k)\n",
    "$$"
   ]
  },
  {
   "attachments": {},
   "cell_type": "markdown",
   "metadata": {},
   "source": [
    "在跳元模型中，每个词元 $x_i$ 会**有两个维度为 $p$ 的词向量表示** $v_i,u_i\\in\\mathbb{R}^p$，它们分别作为**中心词表示**和**上下文表示**：\n",
    "* 当把 $x_i$ **作为中心词使用时**，它将用 $v_i$ 来表示其嵌入结果\n",
    "* 而如果 $x_i$ 被**作为上下文词使用时**，它将用 $u_i$ 来表示其嵌入结果"
   ]
  },
  {
   "attachments": {},
   "cell_type": "markdown",
   "metadata": {},
   "source": [
    "因此，当给定中心词 $w_c$（假设在词表中的索引为 $c$），其生成任何上下文词元 $w_o$（假设在词表中的索引为 $o$）的**条件概率被建模为**：\n",
    "$$\n",
    "P(w_o|w_c) = \\frac{ \\exp(u_o^Tv_c) }{ \\sum_{i\\in\\mathcal{V}} \\exp(u_i^Tv_c) }\n",
    "$$"
   ]
  },
  {
   "attachments": {},
   "cell_type": "markdown",
   "metadata": {},
   "source": [
    "其中，$\\mathcal{V}$ 是词表中词元索引集合，当给定一个长度为 $T$ 的文本序列，$w_t$ 表示时间步 $t$ 处的词元，并**继续使用条件概率的独立性假设**，则对于上下文窗口 $m$，该序列的**跳元模型的似然概率可以写作**：\n",
    "$$\n",
    "\\prod_{t=1}^{T} \\prod_{\\substack{-m\\leq j\\leq m,j\\ne 0\\\\ 1\\leq t+j \\leq T}} P(w_{t+j} | w_t)\n",
    "$$"
   ]
  },
  {
   "attachments": {},
   "cell_type": "markdown",
   "metadata": {},
   "source": [
    "在建模时，可以省略所有时间步小于 $1$ 和大于 $T$ 的概率，训练时，**中心词向量和上下文词向量** $v_i,u_i$ **作为模型参数进行更新**，通过**最大化似然函数**或者**最小化下方的对数似然函数**来驱动模型训练，它就是模型的**损失函数** $L$：\n",
    "$$\n",
    "L = -\\sum_{t=1}^{T} \\sum_{-m\\leq j\\leq m,j\\ne 0} \\log P(w_{t+j}|w_t)\n",
    "$$"
   ]
  },
  {
   "attachments": {},
   "cell_type": "markdown",
   "metadata": {},
   "source": [
    "训练结束后，我们得到每个词元 $x_i$ 的中心词表示 $v_i\\in\\mathbb{R}^p$，和上下文词表示 $u_i\\in\\mathbb{R}^p$，**在自然语言处理应用中，跳元模型的中心词向量通常用作词嵌入的表示**"
   ]
  },
  {
   "attachments": {},
   "cell_type": "markdown",
   "metadata": {},
   "source": [
    "#### **连续词袋模型 CBOW**"
   ]
  },
  {
   "attachments": {},
   "cell_type": "markdown",
   "metadata": {},
   "source": [
    "连续词袋模型类似于跳元模型，只不过**将建模方向调换一下**，我们**用上下文词元来预测中心词元**，同样给定序列 $x_1,x_2,\\cdots,x_T$，中心词是 $x_k$，并将**上下文窗口长度设置为 2**，则建模考虑的条件概率为：\n",
    "$$\n",
    "P(x_k|x_{k-2},x_{k-1},x_{k+1},x_{k+2})\n",
    "$$"
   ]
  },
  {
   "attachments": {},
   "cell_type": "markdown",
   "metadata": {},
   "source": [
    "由于 CBOW 模型中存在多个上下文词元，因此在计算条件概率时需要**对这些上下文词向量进行平均**，我们用 $v_i,u_i\\in\\mathbb{R}^p$ 是**词元的上下文词向量表示和中心词向量表示**（**注意，这里与跳元模型中的符号相反**），给定上下文序列 $w_{o_1},\\cdots,w_{o_{2m}}$，下标表示词元索引，它们生成中心词 $w_c$，则条件概率为：\n",
    "$$\n",
    "P(w_c | w_{o_1},\\cdots,w_{o_{2m}}) = \\frac{ \\exp{\\left( \\frac{1}{2m} u_c^T(v_{o_1} + \\cdots + v_{o_{2m}}) \\right)} }{ \\sum_{i\\in\\mathbb{V}} \\exp{\\left( \\frac{1}{2m} u_i^T(v_{o_1} + \\cdots + v_{o_{2m}}) \\right)}  }\n",
    "$$"
   ]
  },
  {
   "attachments": {},
   "cell_type": "markdown",
   "metadata": {},
   "source": [
    "我们记 $W_o = \\{w_{o_1},\\cdots,w_{o_{2m}}\\}$，以及上下文的均值向量 $\\overline{v}_o = (v_{o_1} + \\cdots + v_{o_{2m}}) / (2m)$，则上式可以简化：\n",
    "$$\n",
    "P(w_c | W_o) = \\frac{ \\exp(u_c^T \\overline{v}_o) }{ \\sum_{i\\in\\mathbb{V} } \\exp(u_i^T \\overline{v}_o) }\n",
    "$$"
   ]
  },
  {
   "attachments": {},
   "cell_type": "markdown",
   "metadata": {},
   "source": [
    "当给定一个长度为 $T$ 的文本序列，则对于上下文窗口 $m$，该序列的**连续词袋模型的似然概率可以写作**：\n",
    "$$\n",
    "\\prod_{t=1}^{T} P(w_t | w_{t-m},\\cdots,w_{t-1},w_{t+1},\\cdots,w_{t+m})\n",
    "$$"
   ]
  },
  {
   "attachments": {},
   "cell_type": "markdown",
   "metadata": {},
   "source": [
    "在训练模型参数 $v_i,u_i$ 时，依然是通过**最小化负对数似然进行的**：\n",
    "$$\n",
    "L = -\\sum_{t=1}^T \\log P(w_t|w_{t-m},\\cdots,w_{t-1},w_{t+1},\\cdots,w_{t+m})\n",
    "$$"
   ]
  },
  {
   "attachments": {},
   "cell_type": "markdown",
   "metadata": {},
   "source": [
    "训练结束后，我们得到每个词元 $x_i$ 的上下文表示 $v_i\\in\\mathbb{R}^p$，和中心词表示 $u_i\\in\\mathbb{R}^p$，**与跳元模型不同，CBOW 的上下文词向量用作词嵌入的表示**"
   ]
  },
  {
   "attachments": {},
   "cell_type": "markdown",
   "metadata": {},
   "source": [
    "### **7.1.2 word2vec 模型预训练**"
   ]
  },
  {
   "attachments": {},
   "cell_type": "markdown",
   "metadata": {},
   "source": [
    "由于跳元模型和连续词袋模型的相似性，后文中，我们仅以跳元模型为例进行说明"
   ]
  },
  {
   "attachments": {},
   "cell_type": "markdown",
   "metadata": {},
   "source": [
    "**(1) 近似训练**"
   ]
  },
  {
   "attachments": {},
   "cell_type": "markdown",
   "metadata": {},
   "source": [
    "无论是跳元模型还是连续词袋模型，在实际应用中，词表大小 $|\\mathcal{V}|$ 可能达到几十万，概率建模中包含的 `softmax` 操作都需要计算 $|\\mathcal{V}|$ 个求和项，再考虑到模型更新时梯度下降，**求和的梯度计算成本巨大**，为了降低计算复杂度，两种主流的处理思路是**负采样**和**分层 softmax**\n",
    "* **负采样**\n",
    "  * 定义**事件** $S$：给定中心词 $w_c$ 和上下文窗口，任何上下文词 $w_o$ 来自该上下文窗口，该事件的概率用下式建模：\n",
    "    $$\n",
    "    P(D=1|w_c,w_o) = \\sigma(u_o^Tv_c)\n",
    "    $$\n",
    "    $\\sigma$ 是 `sigmoid` 函数，将内积映射为概率\n",
    "  * 考虑从**最大化序列中所有上述事件的联合概率**的角度出发，则目标变为最大化下面的概率模型：\n",
    "    $$\n",
    "    \\prod_{t=1}^{T}\\prod_{-m\\leq j\\leq m,j\\ne 0} P(D=1|w_t,t_{t+j})\n",
    "    $$\n",
    "    但上式只考虑了**正样本事件**（上述概率仅当所有词向量趋于无穷时，概率取得最大值 1，这**显然毫无意义**），因此，为了使目标函数变得有意义，**负采样技术**从预定义的分布中采样负样本，并添加到概率模型中\n",
    "  * 从预定义的分布 $P(w)$ 中采样 $K$ 与事件 $S$ 相悖的**噪声词**，并用 $N_k$ 表示噪声词 $w_k,k=1,\\cdots,K$ 不是来自 $w_c$ 的上下文窗口的事件，假设正样本和负样本 $S,N_1,\\cdots,N_K$ **事件相互独立**，则负采样会将上述仅涉及正样本的联合概率改写为：\n",
    "    $$\n",
    "    \\prod_{t=1}^{T}\\prod_{-m\\leq j\\leq m,j\\ne 0} P(w_{t+j} | w_t)\n",
    "    $$ \n",
    "    通过事件 $S,N_1,\\cdots,N_K$ 的**近似条件概率** 对 $P(w_{t+j}| w_t)$ 建模：\n",
    "    $$\n",
    "    P(w_{t+j}|w_t) = P(D=1| w_t,w_{t+j}) \\prod_{k=1, w_k\\sim P(w)}^{K} P(D=0|w_t,w_k)\n",
    "    $$\n",
    "    其中，概率 $P(D=0|w_t,w_k) = 1 - P(D=1|w_t,w_k)$\n",
    "  * 现在经过转换，每个训练步中，模型推理，梯度计算的成本都与词表大小 $|\\mathcal{V}|$ 无关了，而是**线性依赖于负采样个数** $K$，当将超参数 $K$ 设置为较小的数时，负采样每个训练步的梯度计算成本较小"
   ]
  },
  {
   "attachments": {},
   "cell_type": "markdown",
   "metadata": {},
   "source": [
    "* **分层 softmax / 层序 softmax**\n",
    "  * 虽然分层 softmax 名字中依然包含 softmax，但实际的计算过程与 softmax 没有关系，算法的第一步，需要**根据每个词元的词频，创建一棵 Huffman 二叉树**，**越靠近树根，词元词频越高**，最终，**每个词元会被编码到二叉树的某个叶子结点上**（具体可以查阅 [Huffman二叉树](https://blog.csdn.net/qq_46785243/article/details/127622507)）\n",
    "  * 假设下图是我们根据词频得到的一棵二叉树的部分结构：\n",
    "  \n",
    "    <img src=\"./source/Chap7/Huffman二叉树.svg\" width=600>\n",
    "  \n",
    "    此外，对于每个非叶子节点，它们还需要存储一个**隐藏的可训练参数** $\\theta\\in\\mathbb{R}^p$，它与词元嵌入的表示 $v_i$ 具有相同的维度\n",
    "  * 用 $L(w)$ 表示二叉树中词元 $w$ 所在的叶节点深度，例如 $L(w_3) = 4$，设 $n(w,j)$ 表示到达词元 $w$ 的路径上的第 $j$ 个节点，其保存的参数为 $\\theta_{n(w,j)}$，则**条件概率被建模为**：\n",
    "    $$\n",
    "    P(w_o | w_c) = \\prod_{j=1}^{L(w_o) - 1} \\sigma\\left( \\text{isLeft}(n(w_o,j),n(w_o,j+1))\\cdot \\theta_{n(w_o,j)}^T v_c \\right)\n",
    "    $$\n",
    "    其中，$\\sigma$ 是 `sigmoid` 函数，$\\text{isLeft}$ 函数判断路径中下一个节点 $n(w_o,j+1)$ 是否是 $n(w_o,j)$ 的左子节点，**是取 1，否取 -1**\n",
    "  * 对于给定中心词 $w_c$，向上图中生成 $w_3$ 的条件概率可以写作：\n",
    "    $$\n",
    "    P(w_3 | w_c) = \\sigma(u_{n(w_3,1)}^Tv_c)\\cdot \\sigma(-u_{n(w_3,2)}^Tv_c)\\cdot \\sigma(u_{n(w_3,3)}^Tv_c)\n",
    "    $$\n",
    "  * 由于 $\\sigma(x) + \\sigma(-x) = 1$，基于中心词 $w_c$ 生成词表中所有可能的词的条件概率和等于 1，这相当于遍历了整棵二叉树：\n",
    "    $$\n",
    "    \\sum_{i \\in\\mathcal{V}} P(w_i | w_c) = 1\n",
    "    $$\n",
    "  * 通过这种二叉树的技巧，**树的深度大约为** $\\mathcal{O}(\\log_2 |\\mathcal{V}|)$，因此，当词表大小很大时，**使用分层 softmax 这种近似算法也能使得计算复杂度大大降低**"
   ]
  },
  {
   "attachments": {},
   "cell_type": "markdown",
   "metadata": {},
   "source": [
    "**(2) 预训练数据集**"
   ]
  },
  {
   "attachments": {},
   "cell_type": "markdown",
   "metadata": {},
   "source": [
    "**(2.1) 导入数据，创建词表**"
   ]
  },
  {
   "attachments": {},
   "cell_type": "markdown",
   "metadata": {},
   "source": [
    "我们演示使用 `PTB`（`Penn Tree Bank`，华尔街日报文章数据集）数据集来**预训练一个 word2vec 模型**\n",
    "* 在深度学习中，**预训练**（**Pre-Training**）希望让模型在一些较为通用的数据集上训练以**获得通用的特征抽取能力**\n",
    "  * 例如在 CNN 中，在 `ImageNet` 预训练过的 ResNet，VGGNet 等模型就有很好的泛化能力，我们只需要**借助它们，根据下游任务进行微调**\n",
    "  * word2vec 可以作为文本处理方面的预训练模型，它可以用于抽取词元的特征\n",
    "* `PTB` 语料库分为训练集、验证集和测试集，文本文件的每一行表示由空格分隔的一句话\n",
    "* 在该任务中，我们**以每个单词作为一个词元**"
   ]
  },
  {
   "cell_type": "code",
   "execution_count": 3,
   "metadata": {},
   "outputs": [],
   "source": [
    "def load_ptb(path : str):\n",
    "    with open(path, 'r') as f:\n",
    "        lines = f.read()\n",
    "    # 按照换行符分割，抽取得到每个句子\n",
    "    # 然后按照空格分割，得到每个单词，完成分词\n",
    "    # 由于 PTB 数据集非常干净，所以不需要做其他的预处理\n",
    "    return [sentence.split() for sentence in lines.split('\\n')]"
   ]
  },
  {
   "cell_type": "code",
   "execution_count": 4,
   "metadata": {},
   "outputs": [
    {
     "name": "stdout",
     "output_type": "stream",
     "text": [
      "句子数目： 42069\n"
     ]
    }
   ],
   "source": [
    "sentences = load_ptb(path=\"./source/data/text/ptb/ptb.train.txt\")\n",
    "print(\"句子数目：\", len(sentences))"
   ]
  },
  {
   "attachments": {},
   "cell_type": "markdown",
   "metadata": {},
   "source": [
    "与所有自然语言处理任务相同，我们需要创建词表 `Vocab`，设置 `min_freq = 10` 过滤掉出现次数较少的词元"
   ]
  },
  {
   "cell_type": "code",
   "execution_count": 5,
   "metadata": {},
   "outputs": [
    {
     "name": "stdout",
     "output_type": "stream",
     "text": [
      "词表大小： 6722\n"
     ]
    }
   ],
   "source": [
    "vocab = utils.Vocab(sentences, min_freq=10)\n",
    "print(\"词表大小：\", len(vocab))"
   ]
  },
  {
   "attachments": {},
   "cell_type": "markdown",
   "metadata": {},
   "source": [
    "**(2.2) 下采样**"
   ]
  },
  {
   "attachments": {},
   "cell_type": "markdown",
   "metadata": {},
   "source": [
    "一些上下文连接词，例如 `the`, `a`, `in` 等，**在文本中出现的频率非常高**（在大型文本数据集中，出现次数可能超过几十亿次）\n",
    "* 但这些词在上下文窗口中通常与其他有意义的词元一同出现，**提供的信息又很少**，无含义的高频词可能会**让模型对概率的建模偏向于选择预测这些无意义的词**\n",
    "* 此外，这些无含义的高频词，会**占用很多的计算时间，使得模型的训练速度变慢**"
   ]
  },
  {
   "attachments": {},
   "cell_type": "markdown",
   "metadata": {},
   "source": [
    "一种解决思路是，对文本中出现的高频词进行**下采样**，舍数据集中每个词 $w_i$ 的次数与总词数的比例为 $f(w_i)$，则**下采样按照概率** $P(w_i)$ **丢弃词元**：\n",
    "$$\n",
    "P(w_i) = \\max\\left( 1 - \\sqrt{\\frac{t}{f(w_i)}},0 \\right)\n",
    "$$\n",
    "常数 $t$ 是超参数，例如取 $t = 10^{-4}$，只有当 $f(w_i) > t$ 时，高频词 $w_i$ 才能被丢弃，并且**出现频率** $f(w_i)$ **越高，被丢弃的概率越大**"
   ]
  },
  {
   "attachments": {},
   "cell_type": "markdown",
   "metadata": {},
   "source": [
    "函数 `down_sampling()` 用于实现对高频词的下采样，函数已经写入 `/source/code/ch7.py`"
   ]
  },
  {
   "cell_type": "code",
   "execution_count": 6,
   "metadata": {},
   "outputs": [],
   "source": [
    "def down_sampling(sentences : list, vocab, t : float = 1e-4):\n",
    "    from collections import Counter\n",
    "    import random\n",
    "    # 下采样高频词\n",
    "\n",
    "    # 排除掉未知词元 <unk>\n",
    "    sentences = [[token for token in line if vocab[token] != vocab['<unk>']] for line in sentences]\n",
    "    \n",
    "    # 统计词频\n",
    "    \n",
    "    counter = Counter([token for line in sentences for token in line])\n",
    "    num_tokens = sum(counter.values()) # 总词数\n",
    "\n",
    "    # 定义一个辅助函数，如果在下采样过程中保留该词，则返回 True\n",
    "    def keep(token):\n",
    "        return random.uniform(0, 1) < np.sqrt(t / counter[token] * num_tokens)\n",
    "    \n",
    "    # 对每个句子的词元进行下采样\n",
    "    return [[token for token in line if keep(token)] for line in sentences], counter"
   ]
  },
  {
   "cell_type": "code",
   "execution_count": 7,
   "metadata": {},
   "outputs": [],
   "source": [
    "# 对高频词进行下采样\n",
    "down_sampled_sentences, counter = down_sampling(sentences, vocab)"
   ]
  },
  {
   "attachments": {},
   "cell_type": "markdown",
   "metadata": {},
   "source": [
    "绘制下采样前后，句子长度的分布可以看到，**下采样通过删除高频词能够显著缩短句子，从而加速模型的训练**"
   ]
  },
  {
   "cell_type": "code",
   "execution_count": 8,
   "metadata": {},
   "outputs": [
    {
     "data": {
      "text/plain": [
       "<matplotlib.legend.Legend at 0x7f6814ed9f70>"
      ]
     },
     "execution_count": 8,
     "metadata": {},
     "output_type": "execute_result"
    },
    {
     "data": {
      "image/png": "[encoded data removed]",
      "text/plain": [
       "<Figure size 500x300 with 1 Axes>"
      ]
     },
     "metadata": {},
     "output_type": "display_data"
    }
   ],
   "source": [
    "fig = plt.figure(figsize=(5, 3))\n",
    "# 统计句子长度\n",
    "origin = [len(line) for line in sentences]\n",
    "down_sampled = [len(line) for line in down_sampled_sentences]\n",
    "# 绘制直方图\n",
    "_,_,patches = plt.hist([origin, down_sampled], bins=10, label=[\"origin\", \"down sampled\"])\n",
    "# 显示条纹\n",
    "for patch in patches[1]:\n",
    "    patch.set_hatch('///')\n",
    "plt.legend()"
   ]
  },
  {
   "attachments": {},
   "cell_type": "markdown",
   "metadata": {},
   "source": [
    "函数 `compare_token_counts` 帮助我们对比下采样前后，词元出现频率的变化情况\n",
    "* 高频词元被大幅下采样，而低频词元不受影响，继续保留"
   ]
  },
  {
   "cell_type": "code",
   "execution_count": 9,
   "metadata": {},
   "outputs": [],
   "source": [
    "def compare_token_counts(token):\n",
    "    print(\"词元 {} 的数量：\\n下采样前：{}\\n下采样后：{}\".format(token, \n",
    "        sum([line.count(token) for line in sentences]), \n",
    "        sum([line.count(token) for line in down_sampled_sentences])))"
   ]
  },
  {
   "cell_type": "code",
   "execution_count": 10,
   "metadata": {},
   "outputs": [
    {
     "name": "stdout",
     "output_type": "stream",
     "text": [
      "词元 the 的数量：\n",
      "下采样前：50770\n",
      "下采样后：2055\n",
      "词元 join 的数量：\n",
      "下采样前：45\n",
      "下采样后：45\n"
     ]
    }
   ],
   "source": [
    "compare_token_counts(\"the\")\n",
    "compare_token_counts(\"join\")"
   ]
  },
  {
   "attachments": {},
   "cell_type": "markdown",
   "metadata": {},
   "source": [
    "现在，我们可以将词元映射到词表索引，处理为语料 `corpus`"
   ]
  },
  {
   "cell_type": "code",
   "execution_count": 12,
   "metadata": {},
   "outputs": [
    {
     "name": "stdout",
     "output_type": "stream",
     "text": [
      "语料大小： 42069\n",
      "第10个句子： [66, 278, 1902, 1442, 2370, 3145, 716, 108, 5582, 1295]\n"
     ]
    }
   ],
   "source": [
    "corpus = [vocab[line] for line in down_sampled_sentences]\n",
    "print(\"语料大小：\", len(corpus))\n",
    "print(\"第10个句子：\", corpus[9])"
   ]
  },
  {
   "attachments": {},
   "cell_type": "markdown",
   "metadata": {},
   "source": [
    "**(3) 抽取中心词和上下文**"
   ]
  },
  {
   "attachments": {},
   "cell_type": "markdown",
   "metadata": {},
   "source": [
    "函数 `create_centers_and_context` 用于构造中心词和上下文：\n",
    "* 我们依次处理每条语句，并把每条语句的每个词元都作为中心词\n",
    "* 生成中心词对应的上下文时，我们随机从范围 `[1, max_window_size]` 选取窗口长度，然后**从中心词两侧扩散**，得到上下文窗口\n",
    "  * 需要**确保窗口范围不会小于 0，也不会大于句子长度**\n",
    "  * 为了确保至少有一个上下文词，句子的长度必须大于 2"
   ]
  },
  {
   "cell_type": "code",
   "execution_count": 13,
   "metadata": {},
   "outputs": [],
   "source": [
    "def create_centers_and_context(corpus : list, max_window_size : int=2):\n",
    "    # 抽取中心词和上下文词\n",
    "    import random\n",
    "\n",
    "    # 初始化中心词和上下文词\n",
    "    centers, contexts = [], []\n",
    "    # 遍历每个句子\n",
    "    for line in corpus:\n",
    "        # 如果句子长度小于 2，跳过\n",
    "        if len(line) < 2:\n",
    "            continue\n",
    "        # 遍历句子中的每个词元，将其作为中心词\n",
    "        centers += line # 先将句子中的词元添加到中心词列表中\n",
    "        for index, center in enumerate(line):\n",
    "            # 随机选择窗口大小\n",
    "            window_size = random.randint(1, max_window_size)\n",
    "            # 确认上下文词的索引\n",
    "            indices = list(range(max(0, index - window_size), min(len(line), index + 1 + window_size)))\n",
    "            indices.remove(index) # 移除中心词\n",
    "            contexts.append([line[idx] for idx in indices]) # 添加上下文词\n",
    "    return centers, contexts"
   ]
  },
  {
   "attachments": {},
   "cell_type": "markdown",
   "metadata": {},
   "source": [
    "我们可以创建一个测试语料库，观察中心词和上下文词的抽取逻辑"
   ]
  },
  {
   "cell_type": "code",
   "execution_count": 14,
   "metadata": {},
   "outputs": [
    {
     "name": "stdout",
     "output_type": "stream",
     "text": [
      "语料： [[0, 1, 2, 3, 4], [7, 8, 9]]\n",
      "中心词 0 的上下文词是： [1, 2]\n",
      "中心词 1 的上下文词是： [0, 2, 3]\n",
      "中心词 2 的上下文词是： [0, 1, 3, 4]\n",
      "中心词 3 的上下文词是： [2, 4]\n",
      "中心词 4 的上下文词是： [3]\n",
      "中心词 7 的上下文词是： [8]\n",
      "中心词 8 的上下文词是： [7, 9]\n",
      "中心词 9 的上下文词是： [7, 8]\n"
     ]
    }
   ],
   "source": [
    "fake_corpus = [list(range(5)), list(range(7, 10))]\n",
    "print(\"语料：\", fake_corpus)\n",
    "centers, contexts = create_centers_and_context(fake_corpus, max_window_size=2)\n",
    "for center, context in zip(centers, contexts):\n",
    "    print(\"中心词\", center, \"的上下文词是：\", context)"
   ]
  },
  {
   "attachments": {},
   "cell_type": "markdown",
   "metadata": {},
   "source": [
    "对于 `PTB` 数据集，我们可以设置最大窗口长度为 `max_window_size = 5`"
   ]
  },
  {
   "cell_type": "code",
   "execution_count": 15,
   "metadata": {},
   "outputs": [
    {
     "name": "stdout",
     "output_type": "stream",
     "text": [
      "中心词-上下文词对数目： 342754\n"
     ]
    }
   ],
   "source": [
    "centers, contexts = create_centers_and_context(corpus, max_window_size=5)\n",
    "print(\"中心词-上下文词对数目：\", len(centers))"
   ]
  },
  {
   "attachments": {},
   "cell_type": "markdown",
   "metadata": {},
   "source": [
    "**(4) 负采样**"
   ]
  },
  {
   "attachments": {},
   "cell_type": "markdown",
   "metadata": {},
   "source": [
    "我们来实现在**近似训练**中提到的**负采样技巧**\n",
    "* 创建 `RandomGenerator` 类根据采样权重 `sampling_weights`在顺序索引中采样"
   ]
  },
  {
   "cell_type": "code",
   "execution_count": 16,
   "metadata": {},
   "outputs": [],
   "source": [
    "class RandomGenerator:\n",
    "    def __init__(self, sampling_weights, buffer_size : int=10000) -> None:\n",
    "        self.population = list(range(len(sampling_weights))) # 总体的顺序索引\n",
    "        self.samping_weights = sampling_weights\n",
    "        self.candidates = []\n",
    "        self.i = 0\n",
    "        self.buffer_size = buffer_size # 缓存大小\n",
    "    \n",
    "    # 采样\n",
    "    def draw(self):\n",
    "        import random\n",
    "        # 通过递归，直到采样数目达到 \n",
    "        if self.i == len(self.candidates):\n",
    "            # 缓存采样结果\n",
    "            self.candidates = random.choices(self.population, weights=self.samping_weights, k=self.buffer_size)\n",
    "            self.i = 0 # 重置索引\n",
    "        # 每次返回一个采样结果，并将索引加 1\n",
    "        self.i += 1\n",
    "        return self.candidates[self.i - 1]"
   ]
  },
  {
   "attachments": {},
   "cell_type": "markdown",
   "metadata": {},
   "source": [
    "例如我们有三个索引 `[0,1,2]`，如下方式可以得到一个采样比例为 `2 : 3 : 4` 的抽样结果"
   ]
  },
  {
   "cell_type": "code",
   "execution_count": 17,
   "metadata": {},
   "outputs": [
    {
     "data": {
      "text/plain": [
       "[0, 2, 1, 1, 1, 1, 2, 2, 2, 2, 2, 2, 2, 2, 1, 2, 2, 1, 2, 1]"
      ]
     },
     "execution_count": 17,
     "metadata": {},
     "output_type": "execute_result"
    }
   ],
   "source": [
    "generator = ch7.RandomGenerator([1, 3, 5])\n",
    "[generator.draw() for _ in range(20)] # 采样 20 次"
   ]
  },
  {
   "attachments": {},
   "cell_type": "markdown",
   "metadata": {},
   "source": [
    "`negative_sampling()` 用于实现负采样，负采样的个数 `K` 作为超参数可以控制\n",
    "* 采样分布 $P(w)$ 根据 word2vec 原论文中的建议，可以**设置为词元出现频率的 0.75 次幂**"
   ]
  },
  {
   "cell_type": "code",
   "execution_count": 18,
   "metadata": {},
   "outputs": [],
   "source": [
    "def negative_sampling(contexts, vocab, counter, K : int=5):\n",
    "    \"\"\"\n",
    "    ## negative_sampling\n",
    "        上下文词元负采样\n",
    "\n",
    "    Parameters\n",
    "    ----------\n",
    "    contexts : list\n",
    "        上下文词元列表\n",
    "    vocab : Vocab\n",
    "        词表\n",
    "    counter : dict\n",
    "        词频统计\n",
    "    K : int, default = 5\n",
    "        负采样数目\n",
    "    \"\"\"\n",
    "    \n",
    "    # 计算采样权重，确定采样分布 P(w)\n",
    "    # 四个特殊词元不会出现在词频统计中，因此使用 get 方法获取词频时，指定默认值 0\n",
    "    # 0**0.75 = 0，因此这四个特殊词元的采样权重为 0\n",
    "    sampling_weights = [counter.get(vocab.to_tokens(i),0)**0.75 for i in range(len(vocab))]\n",
    "    # 初始化采样器和负样本\n",
    "    sampler = ch7.RandomGenerator(sampling_weights)\n",
    "    negatives = []\n",
    "    # 遍历每个上下文词元\n",
    "    for context in contexts:\n",
    "        negative = [] # 初始化当前上下文词元的负样本\n",
    "        while len(negative) < len(context) * K: # 每个上下文词元需要采样 K 个负样本\n",
    "            # 采样\n",
    "            neg = sampler.draw()\n",
    "            # 如果采样到的词元是上下文词元，跳过\n",
    "            if neg not in context:\n",
    "                negative.append(neg)\n",
    "        negatives.append(negative)\n",
    "\n",
    "    return negatives"
   ]
  },
  {
   "cell_type": "code",
   "execution_count": 19,
   "metadata": {},
   "outputs": [],
   "source": [
    "negative_samples = negative_sampling(contexts, vocab, counter, K=5)"
   ]
  },
  {
   "attachments": {},
   "cell_type": "markdown",
   "metadata": {},
   "source": [
    "**(5) 组件整合，拼装为批量数据**"
   ]
  },
  {
   "attachments": {},
   "cell_type": "markdown",
   "metadata": {},
   "source": [
    "`create_batch_data()` 用于创建和组装批量数据，我们需要将中心词，上下文词（正样本）和随机采样的噪声词（负样本）填充到相同的维度拼在一起\n",
    "* 输入 `data` 是一个列表，长度等于样本量，**每个元素包含三个部分**：中心词，上下文词和噪声词\n",
    "* 在批量中，第 $i$ 个样本的中心词，可能有 $n_i$ 个上下文词和 $m_i$ 个噪声词，由于**上下文窗口不固定**，$n_i + m_i$ 也各不相同\n",
    "  * 我们用 `context_negatives` 将上下文和噪声词连接起来，并**通过填充 0 使其扩充到固定长度** `max_len = max_i(n_i + m_i)`\n",
    "  * 在计算损失时，我们类似之前 RNN 和 Transformer，**创建掩码** `masks`，将填充的元素掩蔽，从而**在损失的计算中过滤掉它们**\n",
    "  * 同理，为了区分正样本和负样本，我们也创建一个掩码 `labels`，当 `labels = 1` 时，其对应上下文词，即正样本\n",
    "  * `masks` 和 `labels` 与 `context_negatives` 有相同的形状，它们的元素一一对应"
   ]
  },
  {
   "cell_type": "code",
   "execution_count": 20,
   "metadata": {},
   "outputs": [],
   "source": [
    "def create_batch_data(data : list):\n",
    "    # 计算 max_len\n",
    "    max_len = max([len(context) + len(negative) for center, context, negative in data])\n",
    "    # 初始化中心词、上下文词和负样本的索引列表，以及掩码\n",
    "    centers, contexts_negatives, masks, labels = [], [], [], []\n",
    "    for center, context, negative in data:\n",
    "        valid_len = len(context) + len(negative) # 当前样本的有效长度\n",
    "        centers += [center] # 添加中心词\n",
    "        contexts_negatives += [context + negative + [0] * (max_len - valid_len)] # 添加上下文词和负样本\n",
    "        masks += [[1] * valid_len + [0] * (max_len - valid_len)] # 有效填充的掩码\n",
    "        labels += [[1] * len(context) + [0] * (max_len - len(context))] # 正负样本掩码\n",
    "    return tf.reshape(tf.constant(centers), (-1,1)), tf.constant(contexts_negatives), tf.constant(masks), tf.constant(labels)"
   ]
  },
  {
   "cell_type": "code",
   "execution_count": 22,
   "metadata": {},
   "outputs": [
    {
     "name": "stdout",
     "output_type": "stream",
     "text": [
      "centers = tf.Tensor(\n",
      "[[1]\n",
      " [1]], shape=(2, 1), dtype=int32)\n",
      "contexts_negatives = tf.Tensor(\n",
      "[[2 2 3 3 3 3]\n",
      " [2 2 2 3 3 0]], shape=(2, 6), dtype=int32)\n",
      "masks = tf.Tensor(\n",
      "[[1 1 1 1 1 1]\n",
      " [1 1 1 1 1 0]], shape=(2, 6), dtype=int32)\n",
      "labels = tf.Tensor(\n",
      "[[1 1 0 0 0 0]\n",
      " [1 1 1 0 0 0]], shape=(2, 6), dtype=int32)\n"
     ]
    }
   ],
   "source": [
    "x1 = (1, [2, 2], [3, 3, 3, 3])\n",
    "x2 = (1, [2, 2, 2], [3, 3])\n",
    "batch = ch7.create_batch_data((x1, x2))\n",
    "\n",
    "names = ['centers', 'contexts_negatives', 'masks', 'labels']\n",
    "for name, data in zip(names, batch):\n",
    "    print(name, '=', data)"
   ]
  },
  {
   "attachments": {},
   "cell_type": "markdown",
   "metadata": {},
   "source": [
    "最后，我们将以上所有组件包装成为 `create_PTBdataloader()`"
   ]
  },
  {
   "cell_type": "code",
   "execution_count": 54,
   "metadata": {},
   "outputs": [],
   "source": [
    "def create_PTBdataloader(path : str, batch_size : int=32, max_window_size : int=5, num_noise_words : int=5):\n",
    "    # 加载文件，并进行分词\n",
    "    sentences = load_ptb(path)\n",
    "    vocab = utils.Vocab(sentences, min_freq=10) # 创建词表\n",
    "    # 下采样高频词元\n",
    "    down_sampled, counter = ch7.down_sampling(sentences,vocab)\n",
    "    corpus = [vocab[line] for line in down_sampled] # 将词元转换为索引\n",
    "    centers, contexts = ch7.create_centers_and_context(corpus, max_window_size) # 创建中心词和上下文词\n",
    "    negatives = ch7.negative_sampling(contexts, vocab, counter, num_noise_words) # 创建负样本\n",
    "\n",
    "    # 数据集 PTB 的 DataLoader\n",
    "    class PTBDataset:\n",
    "        def __init__(self, centers, contexts, negatives) -> None:\n",
    "            assert len(centers) == len(contexts) == len(negatives) # 确保三个列表长度相同\n",
    "            self.centers = centers\n",
    "            self.contexts = contexts\n",
    "            self.negatives = negatives\n",
    "            self.data = list(zip(self.centers, self.contexts, self.negatives)) # 将三个列表打包为列表\n",
    "        \n",
    "        # 每次返回一份批量数据\n",
    "        def __iter__(self):\n",
    "            # 打乱数据\n",
    "            import random\n",
    "            random.shuffle(self.data)\n",
    "            # 根据 batch_size 划分数据\n",
    "            for i in range(0, len(self.data), batch_size):\n",
    "                yield create_batch_data(self.data[i:i+batch_size])\n",
    "\n",
    "        def __len__(self):\n",
    "            return len(self.centers)\n",
    "\n",
    "        def create_dataset(self):\n",
    "            dataset = tf.data.Dataset.from_generator(self.__iter__, output_types=(tf.int32,tf.int32,tf.int32,tf.int32))\n",
    "            return dataset.prefetch(tf.data.experimental.AUTOTUNE)\n",
    "    \n",
    "    dataset = PTBDataset(centers, contexts, negatives)\n",
    "    return dataset.create_dataset(), vocab"
   ]
  },
  {
   "cell_type": "code",
   "execution_count": 55,
   "metadata": {},
   "outputs": [],
   "source": [
    "data_iter, vocab = ch7.create_PTBdataloader(\n",
    "    path='./source/data/text/ptb/ptb.train.txt', batch_size=32, max_window_size=5, num_noise_words=5)"
   ]
  },
  {
   "attachments": {},
   "cell_type": "markdown",
   "metadata": {},
   "source": [
    "可以观察到，每个批量数据的样本量都为 `batch_size`，但是**不同批量的** `contexts_negatives` **长度可能会不一样**"
   ]
  },
  {
   "cell_type": "code",
   "execution_count": 56,
   "metadata": {},
   "outputs": [
    {
     "name": "stdout",
     "output_type": "stream",
     "text": [
      "centers shape:  (32, 1)\n",
      "contexts_negatives shape:  (32, 54)\n",
      "masks shape:  (32, 54)\n",
      "labels shape:  (32, 54)\n",
      "\n",
      "centers shape:  (32, 1)\n",
      "contexts_negatives shape:  (32, 60)\n",
      "masks shape:  (32, 60)\n",
      "labels shape:  (32, 60)\n",
      "\n",
      "centers shape:  (32, 1)\n",
      "contexts_negatives shape:  (32, 60)\n",
      "masks shape:  (32, 60)\n",
      "labels shape:  (32, 60)\n",
      "\n"
     ]
    }
   ],
   "source": [
    "batch_cnts = 0\n",
    "for batch in data_iter:\n",
    "    batch_cnts += 1\n",
    "    for name, data in zip(names, batch):\n",
    "        print(name, 'shape: ', data.shape)\n",
    "    print()\n",
    "    if batch_cnts >= 3:\n",
    "        break"
   ]
  },
  {
   "attachments": {},
   "cell_type": "markdown",
   "metadata": {},
   "source": [
    "**(3) 模型训练**"
   ]
  },
  {
   "attachments": {},
   "cell_type": "markdown",
   "metadata": {},
   "source": [
    "接下来，我们定义 word2vec 模型及其计算逻辑，然后训练模型，我们仅以跳元模型为例进行说明"
   ]
  },
  {
   "attachments": {},
   "cell_type": "markdown",
   "metadata": {},
   "source": [
    "首先，我们需要一个 `Embedding` 层将词元整数索引映射到给定维度 `embed_size` 的词向量空间"
   ]
  },
  {
   "cell_type": "code",
   "execution_count": 65,
   "metadata": {},
   "outputs": [
    {
     "data": {
      "text/plain": [
       "<tf.Tensor: shape=(2, 3, 4), dtype=float32, numpy=\n",
       "array([[[ 0.00821521,  0.00616704,  0.03815914,  0.01318972],\n",
       "        [-0.02145312,  0.04401647,  0.04825136,  0.04198031],\n",
       "        [ 0.02694089, -0.0177655 ,  0.04446788, -0.02161142]],\n",
       "\n",
       "       [[-0.02145312,  0.04401647,  0.04825136,  0.04198031],\n",
       "        [ 0.02694089, -0.0177655 ,  0.04446788, -0.02161142],\n",
       "        [ 0.03820852, -0.01937146,  0.04628712,  0.03335824]]],\n",
       "      dtype=float32)>"
      ]
     },
     "execution_count": 65,
     "metadata": {},
     "output_type": "execute_result"
    }
   ],
   "source": [
    "# input_dim 为词表大小 vocab_size，output_dim 为词向量维度\n",
    "embed = tf.keras.layers.Embedding(input_dim=20, output_dim=4)\n",
    "x = tf.constant([[0,1,2],[1,2,3]])\n",
    "embed(x)"
   ]
  },
  {
   "attachments": {},
   "cell_type": "markdown",
   "metadata": {},
   "source": [
    "接下来，定义**跳元模型的前向推理过程**：\n",
    "* `skip_gram()` 的输入参数包含中心词 `centers`，上下文词与噪声词的拼接 `contexts_negatives`\n",
    "* 我们还向函数传递了负责词元**中心词表示和上下文表示的两个嵌入层** `embed_v, embed_u`"
   ]
  },
  {
   "cell_type": "code",
   "execution_count": 66,
   "metadata": {},
   "outputs": [],
   "source": [
    "def skip_gram(centers, contexts_negatives, embed_v, embed_u):\n",
    "    # centers 形状：(batch_size, 1)\n",
    "    # contexts_negatives 形状：(batch_size, max_len)\n",
    "    \n",
    "    v = embed_v(centers) # 中心词的词向量表示，形状：(batch_size, 1, embed_size)\n",
    "    u = embed_u(contexts_negatives) # 上下文词和负样本的词向量表示，形状：(batch_size, max_len, embed_size)\n",
    "    # 做批量矩阵乘法，得到中心词和上下文词的内积\n",
    "    # 形状：(batch_size, 1, max_len)\n",
    "    pred = tf.matmul(v, tf.transpose(u, perm=[0,2,1]))\n",
    "    return pred"
   ]
  },
  {
   "attachments": {},
   "cell_type": "markdown",
   "metadata": {},
   "source": [
    "可以将它们简单的封装为模型 `word2vecSkipGram`"
   ]
  },
  {
   "cell_type": "code",
   "execution_count": 72,
   "metadata": {},
   "outputs": [],
   "source": [
    "class word2vecSkipGram(tf.keras.Model):\n",
    "    def __init__(self, vocab_size : int, embed_size : int, *args, **kwargs):\n",
    "        super().__init__(*args, **kwargs)\n",
    "        self.embed_size = embed_size\n",
    "        self.embed_v = tf.keras.layers.Embedding(input_dim=vocab_size, output_dim=embed_size, name='embed_v')\n",
    "        self.embed_u = tf.keras.layers.Embedding(input_dim=vocab_size, output_dim=embed_size, name='embed_u')\n",
    "    \n",
    "    def call(self, centers : tf.Tensor, contexts_negatives : tf.Tensor, *args, **kwargs):\n",
    "        return skip_gram(centers, contexts_negatives, embed_v=self.embed_v, embed_u=self.embed_u)"
   ]
  },
  {
   "cell_type": "code",
   "execution_count": 73,
   "metadata": {},
   "outputs": [
    {
     "name": "stdout",
     "output_type": "stream",
     "text": [
      "输出形状： (32, 1, 54)\n"
     ]
    }
   ],
   "source": [
    "word2vec = word2vecSkipGram(vocab_size=len(vocab), embed_size=64)\n",
    "for batch in data_iter:\n",
    "    print(\"输出形状：\",word2vec(batch[0], batch[1], training=False).shape)\n",
    "    break"
   ]
  },
  {
   "attachments": {},
   "cell_type": "markdown",
   "metadata": {},
   "source": [
    "我们为上下文和负采样得到的噪声词定义了掩码 `masks` 和 `labels`，因此**需要重新调整一下损失函数的计算**\n",
    "* 我们的模型 `word2vec` 的输出 `preds` 没有进行概率变换，是原始的 logits 向量，**每个元素预测对应的上下文词是正样本还是负样本**（**二分类问题**）\n",
    "* 假设 `preds` 的形状是 `(batch_size, max_len)`，则上述损失计算的形状也为 `(batch_size, max_len)`，**随后用相同形状的** `masks` **去除掉那些我们为了补全序列长度到** `max_len` **的无效词元的损失**"
   ]
  },
  {
   "cell_type": "code",
   "execution_count": 7,
   "metadata": {},
   "outputs": [],
   "source": [
    "class SigmoidCELoss(tf.keras.losses.Loss):\n",
    "    def __init__(self, *args, **kwargs):\n",
    "        super().__init__(*args, **kwargs)\n",
    "    \n",
    "    def __call__(self, labels, preds, masks, *args, **kwargs):\n",
    "        # labels, preds, masks 形状：(batch_size, max_len)\n",
    "        masked_loss = tf.nn.sigmoid_cross_entropy_with_logits(labels=labels, logits=preds) * masks # 形状：(batch_size, max_len)\n",
    "        loss = tf.reduce_sum(masked_loss, axis=1) # 形状：(batch_size,)\n",
    "        return loss / tf.reduce_sum(masks, axis=1) # 形状：(batch_size,)"
   ]
  },
  {
   "attachments": {},
   "cell_type": "markdown",
   "metadata": {},
   "source": [
    "最后，我们定义模型的训练函数"
   ]
  },
  {
   "cell_type": "code",
   "execution_count": 14,
   "metadata": {},
   "outputs": [],
   "source": [
    "def train_word2vec(model, data_iter, lr : float=0.01, Epochs : int=10, verbose : int=1):\n",
    "    # 定义优化器和损失函数\n",
    "    optimizer = tf.keras.optimizers.Adam(learning_rate=lr)\n",
    "    loss_func = SigmoidCELoss()\n",
    "\n",
    "    # 展示训练进度\n",
    "    animator = utils.Animator(xlabel='epoch', ylabel='loss', xlim=[1, Epochs])\n",
    "\n",
    "    for epoch in range(Epochs):\n",
    "        # 存储每个迭代周期的损失和样本量\n",
    "        loss_batch = tf.constant(0.0)\n",
    "        train_samples = tf.constant(0)\n",
    "\n",
    "        for i, batch in enumerate(data_iter):\n",
    "            centers, contexts_negatives, masks, labels = batch\n",
    "            with tf.GradientTape() as tape:\n",
    "                # preds 形状：(batch_size, 1, max_len)\n",
    "                preds = model(centers, contexts_negatives, training=True)\n",
    "                # 变换 preds 形状，去掉中间的维度，得到形状：(batch_size, max_len)\n",
    "                preds = tf.squeeze(preds, axis=1)\n",
    "                # 为了满足损失计算的要求，需要将 labels, masks 变为 tf.float32 类型\n",
    "                loss = loss_func(tf.cast(labels, tf.float32), preds, tf.cast(masks, tf.float32))\n",
    "            weights = model.trainable_variables\n",
    "            grads = tape.gradient(loss, weights)\n",
    "            optimizer.apply_gradients(zip(grads, weights))\n",
    "\n",
    "            # 计算损失\n",
    "            loss_batch += tf.reduce_sum(loss)\n",
    "            train_samples += tf.reduce_sum(masks)\n",
    "\n",
    "        if epoch == 0 or (epoch + 1) % verbose == 0:\n",
    "            train_loss = loss_batch.numpy() / train_samples.numpy()\n",
    "            animator.add(epoch + 1, (train_loss,))\n",
    "\n",
    "    return model"
   ]
  },
  {
   "attachments": {},
   "cell_type": "markdown",
   "metadata": {},
   "source": [
    "导入数据集，然后训练 `word2vec` 模型"
   ]
  },
  {
   "cell_type": "code",
   "execution_count": 37,
   "metadata": {},
   "outputs": [],
   "source": [
    "data_iter, vocab = ch7.create_PTBdataloader(\n",
    "    path='./source/data/text/ptb/ptb.train.txt', batch_size=512, max_window_size=5, num_noise_words=5)"
   ]
  },
  {
   "cell_type": "code",
   "execution_count": 38,
   "metadata": {},
   "outputs": [
    {
     "data": {
      "image/png": "[encoded data removed]",
      "text/plain": [
       "<Figure size 500x300 with 1 Axes>"
      ]
     },
     "metadata": {},
     "output_type": "display_data"
    }
   ],
   "source": [
    "model = ch7.word2vecSkipGram(vocab_size=len(vocab), embed_size=64)\n",
    "model = ch7.train_word2vec(model, data_iter, Epochs=10, verbose=1, lr=0.001)"
   ]
  },
  {
   "attachments": {},
   "cell_type": "markdown",
   "metadata": {},
   "source": [
    "现在，我们可以通过词嵌入的向量，利用余弦相似度来找到与目标词 `query_token` 最相似的 top K 个词，函数 `get_similar_tokens` 实现该功能"
   ]
  },
  {
   "cell_type": "code",
   "execution_count": 42,
   "metadata": {},
   "outputs": [],
   "source": [
    "def get_similar_tokens(query_token : str, embed : tf.keras.layers.Embedding, vocab, top_k : int=3):\n",
    "    \"\"\"\n",
    "    ## get_similar_tokens\n",
    "        从词表中找出与查询词语义最相近的词\n",
    "    \n",
    "    Parameters\n",
    "    ----------\n",
    "    query_token : str\n",
    "        查询目标词\n",
    "    embed : tf.keras.layers.Embedding\n",
    "        word2vec 模型的嵌入层\n",
    "    vocab : Vocab\n",
    "        词表\n",
    "    top_k : int, default = 5\n",
    "        返回最相近的 top_k 个词\n",
    "    \"\"\"\n",
    "    # 获取 query_token 的词向量\n",
    "    weights = embed.get_weights()[0] # 形状：(vocab_size, embed_size)\n",
    "    query = weights[vocab[query_token]] # 形状：(embed_size,)\n",
    "    # 计算余弦相似度，1e-9 做数值保护\n",
    "    # weights @ query 形状：(vocab_size, 1)\n",
    "    cos = (weights @ query[:, None])[:,0] / tf.sqrt(tf.reduce_sum(weights * weights, axis=1) * tf.reduce_sum(query * query) + 1e-9)\n",
    "    \n",
    "    # 通过 argsort 函数返回 top_k 个最大的元素的索引\n",
    "    topk_tokens = tf.argsort(cos, axis=0, direction='DESCENDING')[:top_k+1].numpy().tolist()\n",
    "    for i in topk_tokens:\n",
    "        print('cosine sim = %.3f: %s' % (cos[i], vocab.idx_to_token[i]))"
   ]
  },
  {
   "attachments": {},
   "cell_type": "markdown",
   "metadata": {},
   "source": [
    "在使用嵌入层时，`SkipGram` 使用中心词表示，因此我们传递 `model.embed_v` 给查询函数 `get_similar_tokens`"
   ]
  },
  {
   "cell_type": "code",
   "execution_count": 43,
   "metadata": {},
   "outputs": [
    {
     "name": "stdout",
     "output_type": "stream",
     "text": [
      "cosine sim = 1.000: chip\n",
      "cosine sim = 0.758: intel\n",
      "cosine sim = 0.696: microprocessor\n",
      "cosine sim = 0.645: fortunes\n"
     ]
    }
   ],
   "source": [
    "ch7.get_similar_tokens('chip', model.embed_v, vocab, top_k=3)"
   ]
  },
  {
   "attachments": {},
   "cell_type": "markdown",
   "metadata": {},
   "source": [
    "----"
   ]
  },
  {
   "attachments": {},
   "cell_type": "markdown",
   "metadata": {},
   "source": [
    "### **练习**"
   ]
  },
  {
   "attachments": {},
   "cell_type": "markdown",
   "metadata": {},
   "source": []
  }
 ],
 "metadata": {
  "kernelspec": {
   "display_name": "ML",
   "language": "python",
   "name": "python3"
  },
  "language_info": {
   "codemirror_mode": {
    "name": "ipython",
    "version": 3
   },
   "file_extension": ".py",
   "mimetype": "text/x-python",
   "name": "python",
   "nbconvert_exporter": "python",
   "pygments_lexer": "ipython3",
   "version": "3.9.16"
  }
 },
 "nbformat": 4,
 "nbformat_minor": 2
}
